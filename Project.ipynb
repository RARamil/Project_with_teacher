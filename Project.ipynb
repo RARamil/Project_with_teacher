{
 "cells": [
  {
   "cell_type": "markdown",
   "metadata": {},
   "source": [
    "# Проект: Обучение с учителем: качество модели"
   ]
  },
  {
   "cell_type": "markdown",
   "metadata": {},
   "source": [
    "## Описание проекта\n",
    "Интернет-магазин «В один клик» продаёт разные товары: для детей, для дома, мелкую бытовую технику, косметику и даже продукты. Отчёт магазина за прошлый период показал, что активность покупателей начала снижаться. Привлекать новых клиентов уже не так эффективно: о магазине и так знает большая часть целевой аудитории. Возможный выход — удерживать активность постоянных клиентов. Сделать это можно с помощью персонализированных предложений.\n",
    "«В один клик» — современная компания, поэтому её руководство не хочет принимать решения просто так — только на основе анализа данных и бизнес-моделирования. У компании есть небольшой отдел цифровых технологий, и вам предстоит побыть в роли стажёра в этом отделе. \n",
    "<br>Итак, вашему отделу поручили разработать решение, которое позволит персонализировать предложения постоянным клиентам, чтобы увеличить их покупательскую активность.\n",
    "\n",
    "## Описание данных\n",
    "\n",
    "`market_file.csv`\n",
    "<br>Таблица, которая содержит данные о поведении покупателя на сайте, о коммуникациях с покупателем и его продуктовом поведении.\n",
    "- `id` — номер покупателя в корпоративной базе данных.\n",
    "- `Покупательская активность` — рассчитанный класс покупательской активности (целевой признак): «снизилась» или «прежний уровень».\n",
    "- `Тип сервиса` — уровень сервиса, например «премиум» и «стандарт».\n",
    "- `Разрешить сообщать` — информация о том, можно ли присылать покупателю дополнительные предложения о товаре. Согласие на это даёт покупатель.\n",
    "- `Маркет_актив_6_мес` — среднемесячное значение маркетинговых коммуникаций компании, которое приходилось на покупателя за последние 6 месяцев. Это значение показывает, какое число рассылок, звонков, показов рекламы и прочего приходилось на клиента.\n",
    "- `Маркет_актив_тек_мес` — количество маркетинговых коммуникаций в текущем месяце.\n",
    "- `Длительность` — значение, которое показывает, сколько дней прошло с момента регистрации покупателя на сайте.\n",
    "- `Акционные_покупки` — среднемесячная доля покупок по акции от общего числа покупок за последние 6 месяцев.\n",
    "- `Популярная_категория` — самая популярная категория товаров у покупателя за последние 6 месяцев.\n",
    "- `Средний_просмотр_категорий_за_визит` — показывает, сколько в среднем категорий покупатель просмотрел за визит в течение последнего месяца.\n",
    "- `Неоплаченные_продукты_штук_квартал` — общее число неоплаченных товаров в корзине за последние 3 месяца.\n",
    "- `Ошибка_сервиса` — число сбоев, которые коснулись покупателя во время посещения сайта.\n",
    "- `Страниц_за_визит` — среднее количество страниц, которые просмотрел покупатель за один визит на сайт за последние 3 месяца.\n",
    "\n",
    "`market_money.csv`\n",
    "<br>Таблица с данными о выручке, которую получает магазин с покупателя, то есть сколько покупатель всего потратил за период взаимодействия с сайтом.\n",
    "- `id` — номер покупателя в корпоративной базе данных.\n",
    "- `Период` — название периода, во время которого зафиксирована выручка. Например, 'текущий_месяц' или 'предыдущий_месяц'.\n",
    "- `Выручка` — сумма выручки за период.\n",
    "\n",
    "`market_time.csv`\n",
    "<br>Таблица с данными о времени (в минутах), которое покупатель провёл на сайте в течение периода.\n",
    "- `id` — номер покупателя в корпоративной базе данных.\n",
    "- `Период` — название периода, во время которого зафиксировано общее время.\n",
    "- `минут` — значение времени, проведённого на сайте, в минутах.\n",
    "\n",
    "`money.csv`\n",
    "<br>Таблица с данными о среднемесячной прибыли покупателя за последние 3 месяца: какую прибыль получает магазин от продаж каждому покупателю.\n",
    "- `id` — номер покупателя в корпоративной базе данных.\n",
    "- `Прибыль` — значение прибыли.\n",
    "\n",
    "\n",
    "## Как решать задачу\n",
    "1. Нужно промаркировать уровень финансовой активности постоянных покупателей. В компании принято выделять два уровня активности: «снизилась», если клиент стал покупать меньше товаров, и «прежний уровень».\n",
    "2. Нужно собрать данные по клиентам по следующим группам:\n",
    "- Признаки, которые описывают коммуникацию сотрудников компании с клиентом.\n",
    "- Признаки, которые описывают продуктовое поведение покупателя. Например, какие товары покупает и как часто.\n",
    "- Признаки, которые описывают покупательское поведение клиента. Например, сколько тратил в магазине.\n",
    "- Признаки, которые описывают поведение покупателя на сайте. Например, как много страниц просматривает и сколько времени проводит на сайте.\n",
    "3. Нужно построить модель, которая предскажет вероятность снижения покупательской активности клиента в следующие три месяца.\n",
    "4. В исследование нужно включить дополнительные данные финансового департамента о прибыльности клиента: какой доход каждый покупатель приносил компании за последние три месяца.\n",
    "5. Используя данные модели и данные о прибыльности клиентов, нужно выделить сегменты покупателей и разработать для них персонализированные предложения.\n",
    "\n",
    "## План работ\n",
    "<font color='NavyBlue' size=+1><b>Шаг 1. Загрузить и изучить данные</b></font><br>\n",
    "\n",
    "- открыть и осмотреть датасет;\n",
    "- предварительные выводы.\n",
    "\n",
    "<font color='NavyBlue' size=+1><b>Шаг 2. Предобработка данных</b></font><br>\n",
    "\n",
    "- проверить данные на наличие пропусков и дубликатов;\n",
    "- при необходимости устраните все проблемы с данными.\n",
    "\n",
    "<font color='NavyBlue' size=+1><b>Шаг 3. Исследовательский анализ данных</b></font><br>\n",
    "\n",
    "- провести статистический анализ анализ данных из каждой таблицы;\n",
    "- отобрать клиентов с покупательской активностью не менее трёх месяцев, то есть таких, которые что-либо покупали в этот период;\n",
    "- оформить выводы по результатам шага.\n",
    "\n",
    "<font color='NavyBlue' size=+1><b>Шаг 4. Объединение таблиц</b></font><br>\n",
    "<br>4.1 Объединить таблицы market_file.csv, market_money.csv, market_time.csv. Данные о прибыли из файла money.csv при моделировании вам не понадобятся. \n",
    "<br>4.2 Учесть, что данные о выручке и времени на сайте находятся в одном столбце для всех периодов. В итоговой таблице сделать отдельный столбец для каждого периода.\n",
    "\n",
    "<font color='NavyBlue' size=+1><b>Шаг 5. Корреляционный анализ</b></font><br>\n",
    "- провести корреляционный анализ признаков в количественной шкале в итоговой таблице для моделирования;\n",
    "- выводы о мультиколлинеарности и при необходимости устраните её.\n",
    "\n",
    "<font color='NavyBlue' size=+1><b>Шаг 6. Использование пайплайнов</b></font><br>\n",
    "Примените все изученные модели. Для этого использовать пайплайны.\n",
    "\n",
    "<br>6.1 Во время подготовки данных использовать ColumnTransformer. Количественные и категориальные признаки обработать в пайплайне раздельно. Для кодирования категориальных признаков использовать как минимум два кодировщика, для масштабирования количественных — как минимум два скейлера.\n",
    "\n",
    "<br>**для каждой модели можно подготовить данные с разным кодированием и масштабированием.\n",
    "\n",
    "<br>6.2 Обучить четыре модели: KNeighborsClassifier(), DecisionTreeClassifier(), LogisticRegression() и  SVC(). Для каждой из них подберите как минимум один гиперпараметр. Выберите подходящую для задачи метрику, аргументируйте свой выбор. Используйте эту метрику при подборе гиперпараметров.\n",
    "\n",
    "<br>6.3 Выбрать лучшую модель, используя заданную метрику. Для этого применить одну из стратегий:\n",
    "- использовать пайплайны и инструменты подбора гиперпараметров для каждой модели отдельно, чтобы выбрать лучшую модель самостоятельно;\n",
    "- использовать один общий пайплайн для всех моделей и инструмент подбора гиперпараметров, который вернёт вам лучшую модель.\n",
    "\n",
    "<font color='NavyBlue' size=+1><b>Шаг 7. Анализ важности признаков</b></font><br>\n",
    "<br>7.1 Оценить важность признаков для лучшей модели и построить график важности с помощью метода SHAP. \n",
    "<br>7.2 Выводы о значимости признаков:\n",
    "- какие признаки мало значимы для модели;\n",
    "- какие признаки сильнее всего влияют на целевой признак;\n",
    "- как можно использовать эти наблюдения при моделировании и принятии бизнес-решений.\n",
    "\n",
    "<font color='NavyBlue' size=+1><b>Шаг 8. Сегментация покупателей</b></font><br>\n",
    "<br>8.1 Выполнить сегментацию покупателей. Использовать результаты моделирования и данные о прибыльности покупателей.\n",
    "<br>8.2 Выбрать группу покупателей и предложите, как увеличить её покупательскую активность: \n",
    "- Провести графическое и аналитическое исследование группы покупателей.\n",
    "- Сделать предложения по работе с сегментом для увеличения покупательской активности.\n",
    "<br>8.3 Выводы о сегментах:\n",
    "- какой сегмент взял для дополнительного исследования,\n",
    "- какие предложения сделал и почему.\n",
    "\n",
    "<font color='NavyBlue' size=+1><b>Шаг 9. Общий вывод</b></font><br>\n",
    "- описать задачу;\n",
    "- описать исходные данные и проведённую предобработку;\n",
    "- написать, что сделано для поиска лучшей модели;\n",
    "- указать лучшую модель;\n",
    "- добавить выводы и дополнительные предложения для выбранного сегмента покупателей."
   ]
  },
  {
   "cell_type": "code",
   "execution_count": 1,
   "metadata": {},
   "outputs": [],
   "source": [
    "!pip install shap -q\n",
    "!pip install --upgrade scikit-learn -q"
   ]
  },
  {
   "cell_type": "code",
   "execution_count": 2,
   "metadata": {},
   "outputs": [],
   "source": [
    "# импорт необходимых библиотек\n",
    "import pandas as pd\n",
    "import numpy as np\n",
    "import warnings\n",
    "\n",
    "import shap\n",
    "import seaborn as sb\n",
    "import matplotlib.pyplot as plt\n",
    "from sklearn.tree import plot_tree\n",
    "\n",
    "from sklearn.model_selection import train_test_split\n",
    "from scipy import stats as st\n",
    "\n",
    "# загружаем классы для подготовки данных\n",
    "from sklearn.pipeline import Pipeline\n",
    "from sklearn.preprocessing import OneHotEncoder, OrdinalEncoder, StandardScaler, MinMaxScaler, RobustScaler\n",
    "from sklearn.compose import ColumnTransformer\n",
    "\n",
    "# загружаем нужные модели\n",
    "from sklearn.linear_model import LogisticRegression\n",
    "from sklearn.svm import SVC\n",
    "from sklearn.neighbors import KNeighborsClassifier\n",
    "from sklearn.tree import DecisionTreeClassifier\n",
    "\n",
    "# загружаем класс для работы с пропусками\n",
    "from sklearn.impute import SimpleImputer\n",
    "\n",
    "# загружаем функцию для работы с метриками\n",
    "from sklearn.metrics import roc_auc_score\n",
    "\n",
    "# импортируем класс RandomizedSearchCV\n",
    "from sklearn.model_selection import RandomizedSearchCV\n",
    "\n",
    "# настройки для увеличения числа отображаемых столбцов и строк\n",
    "pd.set_option('display.max_columns', 50)\n",
    "pd.set_option('display.max_rows', 50)\n",
    "\n",
    "warnings.filterwarnings(\"ignore\")"
   ]
  },
  {
   "cell_type": "markdown",
   "metadata": {},
   "source": [
    "## 1. Загрузка данных"
   ]
  },
  {
   "cell_type": "code",
   "execution_count": 1,
   "metadata": {},
   "outputs": [
    {
     "name": "stdout",
     "output_type": "stream",
     "text": [
      "Ошибка, проверить файл и расположение\n"
     ]
    }
   ],
   "source": [
    "# прочитаем файлы\n",
    "try:\n",
    "    market_data = pd.read_csv('/market_file.csv')\n",
    "    market_money = pd.read_csv('/market_money.csv')\n",
    "    market_time = pd.read_csv('/market_time.csv')\n",
    "    money = pd.read_csv('/money.csv', sep=';', decimal = ',')    \n",
    "except:\n",
    "    print('Ошибка, проверить файл и расположение')"
   ]
  },
  {
   "cell_type": "code",
   "execution_count": 4,
   "metadata": {},
   "outputs": [
    {
     "ename": "NameError",
     "evalue": "name 'market_data' is not defined",
     "output_type": "error",
     "traceback": [
      "\u001b[1;31m---------------------------------------------------------------------------\u001b[0m",
      "\u001b[1;31mNameError\u001b[0m                                 Traceback (most recent call last)",
      "Cell \u001b[1;32mIn[4], line 2\u001b[0m\n\u001b[0;32m      1\u001b[0m \u001b[38;5;66;03m# выведим датасет market_data и информацию по нему\u001b[39;00m\n\u001b[1;32m----> 2\u001b[0m market_data\u001b[38;5;241m.\u001b[39minfo()\n\u001b[0;32m      3\u001b[0m market_data\u001b[38;5;241m.\u001b[39mhead(\u001b[38;5;241m20\u001b[39m)\n",
      "\u001b[1;31mNameError\u001b[0m: name 'market_data' is not defined"
     ]
    }
   ],
   "source": [
    "# выведим датасет market_data и информацию по нему\n",
    "market_data.info()\n",
    "market_data.head(20)"
   ]
  },
  {
   "cell_type": "code",
   "execution_count": null,
   "metadata": {},
   "outputs": [],
   "source": [
    "# выведим датасет market_money и информацию по нему\n",
    "market_money.info()\n",
    "market_money.head(20)"
   ]
  },
  {
   "cell_type": "code",
   "execution_count": null,
   "metadata": {},
   "outputs": [],
   "source": [
    "# выведим датасет market_time и информацию по нему\n",
    "market_time.info()\n",
    "market_time.head(20)"
   ]
  },
  {
   "cell_type": "code",
   "execution_count": null,
   "metadata": {},
   "outputs": [],
   "source": [
    "# выведим датасет market_time и информацию по нему\n",
    "money.info()\n",
    "money.head(20)"
   ]
  },
  {
   "cell_type": "markdown",
   "metadata": {},
   "source": [
    "<b>Предварительные выводы по загруженным данным:</b>\n",
    "- по всем датасетам стоит привести названия столбцов к нижнему регистру;\n",
    "- скорректировать формат столбцов:\n",
    "    - В датасете `market_data`: `Маркет_актив_6_мес`, `Акционные_покупки` из `object` в `float`;\n",
    "    - В датасете `market_money`:`Выручка` из `object` в `float`;\n",
    "- проверить наличие дубликатов и пропусков;\n",
    "- а еще встречаются нулевые значения в `market_money` стоит посмотреть."
   ]
  },
  {
   "cell_type": "markdown",
   "metadata": {},
   "source": [
    "## 2. Предобработка данных"
   ]
  },
  {
   "cell_type": "code",
   "execution_count": null,
   "metadata": {},
   "outputs": [],
   "source": [
    "# в первом датасете меняем регистр и переименовываем несколько столбцов\n",
    "market_data.columns = market_data.columns.str.lower()\n",
    "market_data.rename(columns={'покупательская активность': 'покупательская_активность',\n",
    "                            'тип сервиса': 'тип_сервиса', 'разрешить сообщать':'разрешить_сообщать'}, inplace=True)\n",
    "# скорректируем названия столбцов на нижний регистр\n",
    "market_money.columns = market_money.columns.str.lower()\n",
    "market_time.columns = market_time.columns.str.lower()\n",
    "money.columns = money.columns.str.lower()\n",
    "\n",
    "print(market_data.columns, '\\n',\n",
    "      market_money.columns, '\\n',\n",
    "      market_time.columns, '\\n',\n",
    "      money.columns\n",
    "     )"
   ]
  },
  {
   "cell_type": "code",
   "execution_count": null,
   "metadata": {},
   "outputs": [],
   "source": [
    "# скорректируем формат для столбцов\n",
    "market_data = market_data.astype({'маркет_актив_6_мес':'float','акционные_покупки':'float'})\n",
    "market_money = market_money.astype({'выручка':'float'})\n",
    "\n",
    "# проверим\n",
    "market_data.info()\n",
    "market_money.info()"
   ]
  },
  {
   "cell_type": "markdown",
   "metadata": {},
   "source": [
    "<b>Проверим наличие дубликатов и пропусков.<b>"
   ]
  },
  {
   "cell_type": "code",
   "execution_count": null,
   "metadata": {},
   "outputs": [],
   "source": [
    "# начнем с пропусков\n",
    "print(market_data.isna().sum())\n",
    "print()\n",
    "print(market_money.isna().sum())\n",
    "print()\n",
    "print(market_time.isna().sum())\n",
    "print()\n",
    "print(money.isna().sum())"
   ]
  },
  {
   "cell_type": "markdown",
   "metadata": {},
   "source": [
    "Пропусков в данных нет. Проверим наличие дубликатов."
   ]
  },
  {
   "cell_type": "code",
   "execution_count": null,
   "metadata": {},
   "outputs": [],
   "source": [
    "market_data.duplicated().sum()"
   ]
  },
  {
   "cell_type": "code",
   "execution_count": null,
   "metadata": {},
   "outputs": [],
   "source": [
    "market_money.duplicated().sum()"
   ]
  },
  {
   "cell_type": "code",
   "execution_count": null,
   "metadata": {},
   "outputs": [],
   "source": [
    "market_time.duplicated().sum()"
   ]
  },
  {
   "cell_type": "code",
   "execution_count": null,
   "metadata": {},
   "outputs": [],
   "source": [
    "money.duplicated().sum()"
   ]
  },
  {
   "cell_type": "markdown",
   "metadata": {},
   "source": [
    "Явных дуюликатов нет."
   ]
  },
  {
   "cell_type": "markdown",
   "metadata": {},
   "source": [
    "Рассмотрим датасет `market_data` и уникальные значения в столбцах `покупательская_активность`, `тип_сервиса`, `популярная_категория`."
   ]
  },
  {
   "cell_type": "code",
   "execution_count": null,
   "metadata": {},
   "outputs": [],
   "source": [
    "print(market_data['покупательская_активность'].unique(), '\\n',\n",
    "      market_data['тип_сервиса'].unique(), '\\n',\n",
    "      market_data['популярная_категория'].unique(), '\\n',\n",
    "     )"
   ]
  },
  {
   "cell_type": "code",
   "execution_count": null,
   "metadata": {},
   "outputs": [],
   "source": [
    "# скорректируем значения в столбце `покупательская_активность`\n",
    "market_data['покупательская_активность'] = market_data['покупательская_активность'].str.replace('Снизилась','снизилась')\n",
    "market_data['покупательская_активность'] = market_data['покупательская_активность'].str.replace('Прежний уровень','прежний_уровень')\n",
    "market_data['покупательская_активность'].unique()"
   ]
  },
  {
   "cell_type": "code",
   "execution_count": null,
   "metadata": {},
   "outputs": [],
   "source": [
    "# скорректируем значения в столбце `покупательская_активность`\n",
    "market_data['тип_сервиса'] = market_data['тип_сервиса'].str.replace('стандартт','стандарт')\n",
    "market_data['тип_сервиса'].unique()"
   ]
  },
  {
   "cell_type": "code",
   "execution_count": null,
   "metadata": {},
   "outputs": [],
   "source": [
    "market_data['популярная_категория'] = market_data['популярная_категория'].str.replace('Товары для детей','товары_для_детей')\n",
    "market_data['популярная_категория'] = market_data['популярная_категория'].str.replace('Домашний текстиль','домашний_текстиль')\n",
    "market_data['популярная_категория'] = market_data['популярная_категория'].str.replace('Косметика и аксесуары','косметика_и_аксесуары')\n",
    "market_data['популярная_категория'] = market_data['популярная_категория'].str.replace('Техника для красоты и здоровья','техника_для_красоты_и_здоровья')\n",
    "market_data['популярная_категория'] = market_data['популярная_категория'].str.replace('Кухонная посуда','кухонная_посуда')\n",
    "market_data['популярная_категория'] = market_data['популярная_категория'].str.replace('Мелкая бытовая техника и электроника','мелкая_бытовая_техника_и_электроника')\n",
    "market_data['популярная_категория'].unique()"
   ]
  },
  {
   "cell_type": "markdown",
   "metadata": {},
   "source": [
    "Рассмотрим датасет `market_money` и столбец `выручка`."
   ]
  },
  {
   "cell_type": "code",
   "execution_count": null,
   "metadata": {},
   "outputs": [],
   "source": [
    "print(market_money['выручка'].unique())"
   ]
  },
  {
   "cell_type": "code",
   "execution_count": null,
   "metadata": {
    "scrolled": false
   },
   "outputs": [],
   "source": [
    "market_money.query('выручка == 0')"
   ]
  },
  {
   "cell_type": "markdown",
   "metadata": {},
   "source": [
    "Присутствуют пользователи с нулевой выручкой за 3 месяца, они нам не интересны - удаляем."
   ]
  },
  {
   "cell_type": "code",
   "execution_count": null,
   "metadata": {
    "scrolled": true
   },
   "outputs": [],
   "source": [
    "market_money = market_money.query('выручка > 0')\n",
    "print(market_money['выручка'].unique())"
   ]
  },
  {
   "cell_type": "markdown",
   "metadata": {},
   "source": [
    "<br>Выводы по предобработке:</br>\n",
    "- скорректировали названия столбцов;\n",
    "- скорректировали формат столбцов:\n",
    "    - В датасете `market_data`: `Маркет_актив_6_мес`, `Акционные_покупки` из `object` в `float`;\n",
    "    - В датасете `market_money`:`Выручка` из `object` в `float`;\n",
    "- скорректировали значения в столбцах покупательская_активность, тип_сервиса, популярная_категория (привели к удобновму виду и к нижнему регистру)\n",
    "- удалили в датасете `market_money` пользователей с нулевыми значениями выручки за три месяца."
   ]
  },
  {
   "cell_type": "markdown",
   "metadata": {},
   "source": [
    "## 3. Исследовательский анализ данных"
   ]
  },
  {
   "cell_type": "markdown",
   "metadata": {},
   "source": [
    "<b>Рассмотрим для начала первый датасет `market_data`</b>"
   ]
  },
  {
   "cell_type": "code",
   "execution_count": null,
   "metadata": {
    "scrolled": false
   },
   "outputs": [],
   "source": [
    "market_data.describe().T"
   ]
  },
  {
   "cell_type": "code",
   "execution_count": null,
   "metadata": {},
   "outputs": [],
   "source": [
    "# используем функцию для вывода необходимого графика (прошлый проект)\n",
    "def graphs(data, xlabel = None, title = None, font_scale=1, figsize=(8,6), bins = None):\n",
    "\n",
    "    sb.set(font_scale=font_scale)\n",
    "    f, (ax_box, ax_hist) = plt.subplots(2, sharex=True, gridspec_kw={\"height_ratios\": (.13, .80)}, figsize=figsize)\n",
    "    sb.boxplot(data, ax=ax_box)\n",
    "    sb.distplot(data, ax=ax_hist, bins=bins) if bins else sb.distplot(data, ax=ax_hist)\n",
    "    if xlabel: ax_hist.set(xlabel=xlabel)\n",
    "    if title: ax_box.set(title=title)\n",
    "    plt.show()"
   ]
  },
  {
   "cell_type": "markdown",
   "metadata": {},
   "source": [
    "<b>Начнем с количественных столбцов.<b>"
   ]
  },
  {
   "cell_type": "code",
   "execution_count": null,
   "metadata": {
    "scrolled": false
   },
   "outputs": [],
   "source": [
    "# столбец `маркет_актив_6_мес`\n",
    "graphs(market_data['маркет_актив_6_мес'], bins=30, title=\"Распределение маркет_актив_6_мес\", xlabel=\"маркет_актив_6_мес\")"
   ]
  },
  {
   "cell_type": "markdown",
   "metadata": {},
   "source": [
    "Cреднемесячное значение маркетинговых коммуникаций компании распределен от 0,9 (min) до 6.6 (max), при среднем значении 4,25.\n",
    "<br> Также отмечается пик в диапозоне между 5 и 6."
   ]
  },
  {
   "cell_type": "code",
   "execution_count": null,
   "metadata": {},
   "outputs": [],
   "source": [
    "# столбец `маркет_актив_тек_мес`\n",
    "graphs(market_data['маркет_актив_тек_мес'], bins=30, title=\"Распределение маркет_актив_тек_мес\", xlabel=\"маркет_актив_тек_мес\")\n",
    "market_data['маркет_актив_тек_мес'].value_counts()"
   ]
  },
  {
   "cell_type": "markdown",
   "metadata": {},
   "source": [
    "Максимальное количество маркетинговых коммуникаций в текущем месяце = 4."
   ]
  },
  {
   "cell_type": "code",
   "execution_count": null,
   "metadata": {},
   "outputs": [],
   "source": [
    "# столбец `длительность`\n",
    "graphs(market_data['длительность'], bins=30, title=\"Распределение длительности\", xlabel=\"длительность\")"
   ]
  },
  {
   "cell_type": "markdown",
   "metadata": {},
   "source": [
    "В среднем прошло 602 дня с момента регистрации покупателя на сайте. Максимальное количество дней = 1079.\n",
    "<br>Стоит отметить, что за последние 110 дней не было новых регистраций."
   ]
  },
  {
   "cell_type": "code",
   "execution_count": null,
   "metadata": {},
   "outputs": [],
   "source": [
    "# столбец `акционные_покупки`\n",
    "graphs(market_data['акционные_покупки'], bins=30, title=\"Распределение акционные_покупки\", xlabel=\"акционные_покупки\")"
   ]
  },
  {
   "cell_type": "markdown",
   "metadata": {},
   "source": [
    "На лицо два купола в распределении доли покупок по акции - первый в районе 0,2 и второй около 0,9.\n",
    "<br>Стоит посмотреть раздельно и посмотреть на среднее в каждом."
   ]
  },
  {
   "cell_type": "code",
   "execution_count": null,
   "metadata": {
    "scrolled": false
   },
   "outputs": [],
   "source": [
    "# первый купол\n",
    "display(market_data.loc[(market_data['акционные_покупки'] < 0.55), 'акционные_покупки'].describe())\n",
    "graphs(market_data.loc[(market_data['акционные_покупки'] < 0.55), 'акционные_покупки'], bins=30, title=\"Распределение акционные_покупки\", xlabel=\"акционные_покупки\")"
   ]
  },
  {
   "cell_type": "markdown",
   "metadata": {},
   "source": [
    "В первым куполе мы получаем среднее значение 0,23 (min=0, max=0.47)."
   ]
  },
  {
   "cell_type": "code",
   "execution_count": null,
   "metadata": {
    "scrolled": false
   },
   "outputs": [],
   "source": [
    "# второй купол\n",
    "display(market_data.loc[(market_data['акционные_покупки'] > 0.6), 'акционные_покупки'].describe())\n",
    "graphs(market_data.loc[(market_data['акционные_покупки'] > 0.6), 'акционные_покупки'], bins=30, title=\"Распределение акционные_покупки\", xlabel=\"акционные_покупки\")"
   ]
  },
  {
   "cell_type": "markdown",
   "metadata": {},
   "source": [
    "Во втором куполе мы получаем среднее значение 0,94 (min=0,74, max=0.99)."
   ]
  },
  {
   "cell_type": "code",
   "execution_count": null,
   "metadata": {},
   "outputs": [],
   "source": [
    "# столбец средний_просмотр_категорий_за_визит\n",
    "graphs(market_data['средний_просмотр_категорий_за_визит'], bins=30, title=\"Распределение средний_просмотр_категорий_за_визит\", xlabel=\"средний_просмотр_категорий_за_визит\")"
   ]
  },
  {
   "cell_type": "markdown",
   "metadata": {},
   "source": [
    "Максимально клиенты просматривали 6 категорий, однако чаще всего просматривают 3 категории."
   ]
  },
  {
   "cell_type": "code",
   "execution_count": null,
   "metadata": {},
   "outputs": [],
   "source": [
    "# столбец неоплаченные_продукты_штук_квартал\n",
    "graphs(market_data['неоплаченные_продукты_штук_квартал'], bins=30, title=\"Распределение неоплаченные_продукты_штук_квартал\", xlabel=\"средний_просмотр_категорий_за_визит\")"
   ]
  },
  {
   "cell_type": "markdown",
   "metadata": {},
   "source": [
    "Максимально за квартал было неоплачено 10 товаров."
   ]
  },
  {
   "cell_type": "code",
   "execution_count": null,
   "metadata": {},
   "outputs": [],
   "source": [
    "# столбец ошибка_сервиса\n",
    "graphs(market_data['ошибка_сервиса'], bins=30, title=\"Распределение ошибка_сервиса\", xlabel=\"ошибка_сервиса\")"
   ]
  },
  {
   "cell_type": "markdown",
   "metadata": {},
   "source": [
    "Максимально количество ошибок сервиса за прошедший квартал было 9. В среднем около 3."
   ]
  },
  {
   "cell_type": "code",
   "execution_count": null,
   "metadata": {},
   "outputs": [],
   "source": [
    "# столбец страниц_за_визит\n",
    "graphs(market_data['страниц_за_визит'], bins=30, title=\"Распределение страниц_за_визит\", xlabel=\"страниц_за_визит\")"
   ]
  },
  {
   "cell_type": "markdown",
   "metadata": {},
   "source": [
    "За последние 3 месяца максимальное количество страниц, которые просмотрел покупатель за один визит составило 20.\n",
    "<br> В среднем пользователи просматривают 8 сраниц."
   ]
  },
  {
   "cell_type": "code",
   "execution_count": null,
   "metadata": {
    "scrolled": true
   },
   "outputs": [],
   "source": [
    "sb.histplot(data=market_data, x='маркет_актив_6_мес', hue='покупательская_активность')\n",
    "None"
   ]
  },
  {
   "cell_type": "code",
   "execution_count": null,
   "metadata": {
    "scrolled": true
   },
   "outputs": [],
   "source": [
    "sb.histplot(data=market_data, x='маркет_актив_тек_мес', hue='покупательская_активность')\n",
    "None"
   ]
  },
  {
   "cell_type": "code",
   "execution_count": null,
   "metadata": {
    "scrolled": true
   },
   "outputs": [],
   "source": [
    "sb.histplot(data=market_data, x='длительность', hue='покупательская_активность')\n",
    "None"
   ]
  },
  {
   "cell_type": "code",
   "execution_count": null,
   "metadata": {
    "scrolled": true
   },
   "outputs": [],
   "source": [
    "sb.histplot(data=market_data, x='акционные_покупки', hue='покупательская_активность')\n",
    "None"
   ]
  },
  {
   "cell_type": "code",
   "execution_count": null,
   "metadata": {},
   "outputs": [],
   "source": [
    "sb.histplot(data=market_data, x='средний_просмотр_категорий_за_визит', hue='покупательская_активность')\n",
    "None"
   ]
  },
  {
   "cell_type": "code",
   "execution_count": null,
   "metadata": {},
   "outputs": [],
   "source": [
    "sb.histplot(data=market_data, x='неоплаченные_продукты_штук_квартал', hue='покупательская_активность')\n",
    "None"
   ]
  },
  {
   "cell_type": "code",
   "execution_count": null,
   "metadata": {
    "scrolled": true
   },
   "outputs": [],
   "source": [
    "sb.histplot(data=market_data, x='ошибка_сервиса', hue='покупательская_активность')\n",
    "None"
   ]
  },
  {
   "cell_type": "code",
   "execution_count": null,
   "metadata": {
    "scrolled": true
   },
   "outputs": [],
   "source": [
    "sb.histplot(data=market_data, x='страниц_за_визит', hue='покупательская_активность')\n",
    "None"
   ]
  },
  {
   "cell_type": "code",
   "execution_count": null,
   "metadata": {
    "scrolled": true
   },
   "outputs": [],
   "source": [
    "sb.histplot(data=market_data, x='тип_сервиса', hue='покупательская_активность')\n",
    "None"
   ]
  },
  {
   "cell_type": "code",
   "execution_count": null,
   "metadata": {
    "scrolled": true
   },
   "outputs": [],
   "source": [
    "sb.histplot(data=market_data, x='разрешить_сообщать', hue='покупательская_активность')\n",
    "None"
   ]
  },
  {
   "cell_type": "code",
   "execution_count": null,
   "metadata": {
    "scrolled": false
   },
   "outputs": [],
   "source": [
    "plt.figure(figsize=(10,8))\n",
    "sb.histplot(data=market_data, y='популярная_категория', hue='покупательская_активность')\n",
    "None"
   ]
  },
  {
   "cell_type": "markdown",
   "metadata": {},
   "source": [
    "Выводы по совмещенным гистограммам.\n",
    "<br>1)Выручка снизилась у людей, которые имели от 4 маркетинговых коммуникаций за пол года;\n",
    "<br>2)Маркет активность текущего месяца можно сказать без изменений;\n",
    "<br>3)Выручка сильно снизилась у клиентов, у которых с момента регистрации не прошло более 600 дней;\n",
    "<br>4)Клиенты, использующие акционные покупкии приносят стабильный доход, выручка без изменений, в отличии от тех кто акции не использует;\n",
    "<br>5)Покупатели, которые смотрет 3 и более категорий также имееют снижение выручки;\n",
    "<br>6)Клиенты с большим количеством покупок в корзине сохраняют покупательскую активность;\n",
    "<br>7)Более 4 ошибок в сервисе приводит к снижению прибыли;\n",
    "<br>8)Клиенты просматривающие до 7 страниц чаще покупают;\n",
    "<br>9)Покупательская способность снизилась больше у клиентов сервиса `стандарт`;\n",
    "<br>10)Покупательская способность снизилась больше у клиентов согласившихся на рассылки;\n",
    "<br>11)Больше всего покупательская способность снизилась по категориям `мелкая бытовая техника и электроника`, а также `техника для красоты и здоровья`;"
   ]
  },
  {
   "cell_type": "markdown",
   "metadata": {},
   "source": [
    "<b>Теперь рассмотрим категориальные столбцы.<b>"
   ]
  },
  {
   "cell_type": "code",
   "execution_count": null,
   "metadata": {},
   "outputs": [],
   "source": [
    "count= market_data['покупательская_активность'].value_counts()\n",
    "market_data['покупательская_активность'].value_counts().plot(\n",
    "        kind = 'pie', \n",
    "        y = count,\n",
    "        autopct = '%1.0f%%',\n",
    "        figsize=(7,7), \n",
    "        title = 'Распределение изменения покупательской активности');"
   ]
  },
  {
   "cell_type": "markdown",
   "metadata": {},
   "source": [
    "Только у 38% процентов наблюдается снижение покупательской активности. "
   ]
  },
  {
   "cell_type": "code",
   "execution_count": null,
   "metadata": {},
   "outputs": [],
   "source": [
    "count= market_data['тип_сервиса'].value_counts()\n",
    "market_data['тип_сервиса'].value_counts().plot(\n",
    "        kind = 'pie', \n",
    "        y = count,\n",
    "        autopct = '%1.0f%%',\n",
    "        figsize=(7,7), \n",
    "        title = 'Распределение по типу сервиса');"
   ]
  },
  {
   "cell_type": "markdown",
   "metadata": {},
   "source": [
    "Больше всего покупателей с типом подписки `стандарт`"
   ]
  },
  {
   "cell_type": "code",
   "execution_count": null,
   "metadata": {},
   "outputs": [],
   "source": [
    "count= market_data['разрешить_сообщать'].value_counts()\n",
    "market_data['разрешить_сообщать'].value_counts().plot(\n",
    "        kind = 'pie', \n",
    "        y = count,\n",
    "        autopct = '%1.0f%%',\n",
    "        figsize=(7,7), \n",
    "        title = 'Распределение по разрешить_сообщать');"
   ]
  },
  {
   "cell_type": "markdown",
   "metadata": {},
   "source": [
    "Только 26% покупателей не согласны получать дополнительные предложения от магазина."
   ]
  },
  {
   "cell_type": "code",
   "execution_count": null,
   "metadata": {},
   "outputs": [],
   "source": [
    "count= market_data['популярная_категория'].value_counts()\n",
    "market_data['популярная_категория'].value_counts().plot(\n",
    "    kind = 'pie',\n",
    "    y = count,\n",
    "    autopct = '%1.0f%%',\n",
    "    figsize=(7,7),\n",
    "    title = 'Распределение по категориям');"
   ]
  },
  {
   "cell_type": "markdown",
   "metadata": {},
   "source": [
    "Тройка популярных категорий:\n",
    "<br>1 место - товары для детей (25%)\n",
    "<br>2 место - домашний_текстиль (19%)\n",
    "<br>3 место - косметика_и_аксесуары (17%)"
   ]
  },
  {
   "cell_type": "markdown",
   "metadata": {},
   "source": [
    "<b>Рассмотрим второй датасет `market_money`</b>"
   ]
  },
  {
   "cell_type": "code",
   "execution_count": null,
   "metadata": {},
   "outputs": [],
   "source": [
    "display(market_money.describe())\n",
    "# столбец выручка\n",
    "graphs(market_money['выручка'], bins=40, title=\"Распределение выручка\", xlabel=\"выручка\")"
   ]
  },
  {
   "cell_type": "markdown",
   "metadata": {},
   "source": [
    "На графике и в таблице виден большой пик (max значение 106862.2 при среднем 5033.\n",
    "<br> Возможно аномальное значение, стоит проверить."
   ]
  },
  {
   "cell_type": "code",
   "execution_count": null,
   "metadata": {},
   "outputs": [],
   "source": [
    "market_money.query('выручка >100000')"
   ]
  },
  {
   "cell_type": "markdown",
   "metadata": {},
   "source": [
    "Пожалуй стоит удалить это единственное аномальное значение."
   ]
  },
  {
   "cell_type": "code",
   "execution_count": null,
   "metadata": {},
   "outputs": [],
   "source": [
    "market_money = market_money.query('выручка < 100000')"
   ]
  },
  {
   "cell_type": "code",
   "execution_count": null,
   "metadata": {},
   "outputs": [],
   "source": [
    "display(market_money.describe())\n",
    "# столбец выручка\n",
    "graphs(market_money['выручка'], bins=40, title=\"Распределение выручка\", xlabel=\"выручка\")"
   ]
  },
  {
   "cell_type": "markdown",
   "metadata": {},
   "source": [
    "Теперь распределение выглядит намного лучше. Среднее значение 5007, при min=2759 и max=7799."
   ]
  },
  {
   "cell_type": "markdown",
   "metadata": {},
   "source": [
    "<b>Рассмотрим третий датасет `market_money`</b>"
   ]
  },
  {
   "cell_type": "code",
   "execution_count": null,
   "metadata": {},
   "outputs": [],
   "source": [
    "display(market_time.describe())\n",
    "count= market_time['период'].value_counts()\n",
    "\n",
    "market_time['период'].value_counts().plot(\n",
    "    kind = 'pie',\n",
    "    y = count,\n",
    "    autopct = '%1.0f%%',\n",
    "    figsize=(7,7),\n",
    "    title = 'Распределение по периодам');\n",
    "plt.show()\n",
    "# столбец минут\n",
    "graphs(market_time['минут'], bins=20, title=\"Распределение минут\", xlabel=\"минут\")"
   ]
  },
  {
   "cell_type": "markdown",
   "metadata": {},
   "source": [
    "В среднем покупатели проводят на сайте 13 мин. Максимально проведенное время составляет 23 минуты. Количество наблюдений одинаково в обоих периодах."
   ]
  },
  {
   "cell_type": "markdown",
   "metadata": {},
   "source": [
    "<b>Рассмотрим третий датасет `money`</b>"
   ]
  },
  {
   "cell_type": "code",
   "execution_count": null,
   "metadata": {},
   "outputs": [],
   "source": [
    "display(money.describe())\n",
    "# столбец выручка\n",
    "graphs(money['прибыль'], bins=40, title=\"Распределение прибыли\", xlabel=\"прибыль\")"
   ]
  },
  {
   "cell_type": "markdown",
   "metadata": {},
   "source": [
    "Максимальное значение прибыли составило 7,43, а среднее - около 4."
   ]
  },
  {
   "cell_type": "markdown",
   "metadata": {},
   "source": [
    "Провели исследовательский анализ данных по всем датасетам.\n",
    "Из ключевых особенностей стоит отметить:\n",
    "- у 38% пользователей снизилась покупательская активность;\n",
    "- за последние 110 дней не было регистраций новых пользователей;\n",
    "- в среднем покупатели проводят на сайте 13 мин.\n",
    "- тройка популярных категорий:\n",
    "<br>1 место - товары для детей (25%)\n",
    "<br>2 место - домашний_текстиль (19%)\n",
    "<br>3 место - косметика_и_аксесуары (17%)"
   ]
  },
  {
   "cell_type": "markdown",
   "metadata": {},
   "source": [
    "## 4. Объединение таблиц"
   ]
  },
  {
   "cell_type": "markdown",
   "metadata": {},
   "source": [
    "<b>4.1</b> Объединить таблицы market_file.csv, market_money.csv, market_time.csv. Данные о прибыли из файла money.csv при моделировании вам не понадобятся.\n",
    "<br><b>4.2</b> Учесть, что данные о выручке и времени на сайте находятся в одном столбце для всех периодов. В итоговой таблице сделать отдельный столбец для каждого периода."
   ]
  },
  {
   "cell_type": "code",
   "execution_count": null,
   "metadata": {},
   "outputs": [],
   "source": [
    "# во втором пункте нам нужно разделить периоды для выручки и времени, начнем с выручки\n",
    "market_money_pivot = pd.pivot_table(market_money, index='id', columns='период', values='выручка')\n",
    "market_money_pivot.head()"
   ]
  },
  {
   "cell_type": "code",
   "execution_count": null,
   "metadata": {},
   "outputs": [],
   "source": [
    "# удалим появившиеся NaN\n",
    "market_money_pivot=market_money_pivot.dropna()"
   ]
  },
  {
   "cell_type": "code",
   "execution_count": null,
   "metadata": {},
   "outputs": [],
   "source": [
    "market_time_pivot = pd.pivot_table(market_time, index='id', columns='период', values='минут')\n",
    "market_time_pivot.head()"
   ]
  },
  {
   "cell_type": "code",
   "execution_count": null,
   "metadata": {
    "scrolled": false
   },
   "outputs": [],
   "source": [
    "# теперь можно объеденить датасеты\n",
    "market_data_full = market_money_pivot.merge(market_time_pivot, on='id', how='left')\n",
    "market_data_full = market_data_full.merge(market_data, on='id', how='left')\n",
    "market_data_full.info()\n",
    "market_data_full.head()"
   ]
  },
  {
   "cell_type": "code",
   "execution_count": null,
   "metadata": {},
   "outputs": [],
   "source": [
    "market_data_full.columns"
   ]
  },
  {
   "cell_type": "code",
   "execution_count": null,
   "metadata": {
    "scrolled": false
   },
   "outputs": [],
   "source": [
    "market_data_full = market_data_full.rename(columns=\n",
    "              {\n",
    "               'предыдущий_месяц': 'предыдущий_месяц_выручка', \n",
    "               'препредыдущий_месяц': 'препредыдущий_месяц_выручка', \n",
    "               'текущий_месяц_x': 'текущий_месяц_выручка', \n",
    "               'предыдцщий_месяц': 'предыдцщий_месяц_минут', \n",
    "               'текущий_месяц_y': 'текущий_месяц_минут', \n",
    "              })\n",
    "market_data_full.head()"
   ]
  },
  {
   "cell_type": "markdown",
   "metadata": {},
   "source": [
    "<b>Итоговая таблица готова.<b>"
   ]
  },
  {
   "cell_type": "markdown",
   "metadata": {},
   "source": [
    "## 5. Корреляционный анализ"
   ]
  },
  {
   "cell_type": "markdown",
   "metadata": {},
   "source": [
    "Поскольку в данных есть небольшие вылеты, да и в целом большинство распределений далеки от \"нормальных\", стоит использовать более универсальный метод Спирмена для дальнейшего анализа."
   ]
  },
  {
   "cell_type": "code",
   "execution_count": null,
   "metadata": {},
   "outputs": [],
   "source": [
    "plt.figure(figsize=(15,10))\n",
    "sb.heatmap(market_data_full[['предыдущий_месяц_выручка', 'препредыдущий_месяц_выручка',\n",
    "       'текущий_месяц_выручка', 'предыдцщий_месяц_минут',\n",
    "       'текущий_месяц_минут', 'маркет_актив_6_мес', 'маркет_актив_тек_мес',\n",
    "       'длительность', 'акционные_покупки', 'средний_просмотр_категорий_за_визит',\n",
    "       'неоплаченные_продукты_штук_квартал', 'ошибка_сервиса',\n",
    "       'страниц_за_визит']].corr(method='spearman'),annot=True, cmap='seismic')"
   ]
  },
  {
   "cell_type": "markdown",
   "metadata": {},
   "source": [
    "Отмечается взаимосвязь с выручкой в разные месяцы (0,88), но поскольку нам необходимо учесть динамику, данные признаки не удаляем.\n",
    "<br> В остальном можно сказать, что мультиколлинеартности в данных нет."
   ]
  },
  {
   "cell_type": "code",
   "execution_count": null,
   "metadata": {
    "scrolled": false
   },
   "outputs": [],
   "source": [
    "sb.pairplot(market_data_full, diag_kind=\"hist\")"
   ]
  },
  {
   "cell_type": "code",
   "execution_count": null,
   "metadata": {},
   "outputs": [],
   "source": [
    "sb.scatterplot(x='текущий_месяц_выручка', y='предыдущий_месяц_выручка', data=market_data_full, hue='покупательская_активность')\n",
    "None"
   ]
  },
  {
   "cell_type": "code",
   "execution_count": null,
   "metadata": {
    "scrolled": false
   },
   "outputs": [],
   "source": [
    "sb.scatterplot(x='id', y='акционные_покупки', data=market_data_full, hue='покупательская_активность')\n",
    "None"
   ]
  },
  {
   "cell_type": "markdown",
   "metadata": {},
   "source": [
    "Отмечается линейная зависимость между текущий_месяц_выручка и предыдущий_месяц_выручка.\n",
    "<br>На графике также отмечается взаимосвязь между индексом покупателей и акционные продукции. На лицо два кластера пользователей."
   ]
  },
  {
   "cell_type": "markdown",
   "metadata": {},
   "source": [
    "## 6. Использование пайплайнов"
   ]
  },
  {
   "cell_type": "code",
   "execution_count": null,
   "metadata": {},
   "outputs": [],
   "source": [
    "# для удобства заполнения словарей выведем инфо по датасету\n",
    "market_data_full.info()"
   ]
  },
  {
   "cell_type": "code",
   "execution_count": null,
   "metadata": {},
   "outputs": [],
   "source": [
    "market_data_full.columns\n",
    "market_data_full['покупательская_активность'].unique()"
   ]
  },
  {
   "cell_type": "code",
   "execution_count": null,
   "metadata": {},
   "outputs": [],
   "source": [
    "market_data_full = market_data_full.replace(\n",
    "    {'покупательская_активность':\n",
    "     {'снизилась':1, 'прежний_уровень':0}\n",
    "    }\n",
    ").astype({'покупательская_активность':'int64'})\n",
    "market_data_full['покупательская_активность'].unique()\n",
    "market_data_full['покупательская_активность'].head()"
   ]
  },
  {
   "cell_type": "code",
   "execution_count": null,
   "metadata": {},
   "outputs": [],
   "source": [
    "# собираем пайплайн\n",
    "RANDOM_STATE = 42\n",
    "TEST_SIZE = 0.25\n",
    "\n",
    "# исходные данные, поскольку столбец 'id' нас не интересует сделаем его индексом и передадим данные для X и у\n",
    "X = market_data_full.set_index('id').drop(['покупательская_активность'], axis=1)\n",
    "y =market_data_full['покупательская_активность']\n",
    "\n",
    "X_train, X_test, y_train, y_test = train_test_split(\n",
    "    X,\n",
    "    y,\n",
    "    test_size = TEST_SIZE, \n",
    "    random_state = RANDOM_STATE,\n",
    "    stratify = y)\n",
    "\n",
    "X_train.shape, X_test.shape\n",
    "\n",
    "# создаём списки с названиями признаков\n",
    "ohe_columns = ['популярная_категория', 'разрешить_сообщать']\n",
    "\n",
    "ord_columns = ['тип_сервиса']\n",
    "\n",
    "num_columns = ['предыдущий_месяц_выручка',\n",
    "               'препредыдущий_месяц_выручка',\n",
    "               'текущий_месяц_выручка',\n",
    "               'предыдцщий_месяц_минут',\n",
    "               'текущий_месяц_минут',\n",
    "               'маркет_актив_6_мес',\n",
    "               'маркет_актив_тек_мес',\n",
    "               'длительность',\n",
    "               'акционные_покупки',\n",
    "               'средний_просмотр_категорий_за_визит',\n",
    "               'неоплаченные_продукты_штук_квартал',\n",
    "               'ошибка_сервиса',\n",
    "               'страниц_за_визит'\n",
    "              ]\n",
    "\n",
    "# создаём пайплайн для подготовки признаков из списка ohe_columns: заполнение пропусков и OHE-кодирование\n",
    "# SimpleImputer + OHE\n",
    "ohe_pipe = Pipeline(\n",
    "    [('simpleImputer_ohe', SimpleImputer(missing_values=np.nan, strategy='most_frequent')),\n",
    "     ('ohe', OneHotEncoder(drop='first', handle_unknown='error'))\n",
    "    ]\n",
    "    )\n",
    "\n",
    "# создаём пайплайн для подготовки признаков из списка ord_columns: заполнение пропусков и Ordinal-кодирование\n",
    "# SimpleImputer + OE\n",
    "ord_pipe = Pipeline(\n",
    "    [('simpleImputer_before_ord', SimpleImputer(missing_values=np.nan, strategy='most_frequent')),\n",
    "     ('ord',  OrdinalEncoder(\n",
    "                categories=[\n",
    "                    ['премиум', 'стандарт'],\n",
    "                ], \n",
    "                handle_unknown='use_encoded_value', unknown_value=np.nan\n",
    "            )\n",
    "        ),\n",
    "     ('simpleImputer_after_ord', SimpleImputer(missing_values=np.nan, strategy='most_frequent'))\n",
    "    ]\n",
    ")\n",
    "\n",
    "# создаём общий пайплайн для подготовки данных\n",
    "data_preprocessor = ColumnTransformer(\n",
    "    [('ohe', ohe_pipe, ohe_columns),\n",
    "     ('ord', ord_pipe, ord_columns),\n",
    "     ('num', MinMaxScaler(), num_columns)\n",
    "    ], \n",
    "    remainder='passthrough'\n",
    ")\n",
    "\n",
    "# создаём итоговый пайплайн: подготовка данных и модель\n",
    "pipe_final = Pipeline([\n",
    "    ('preprocessor', data_preprocessor),\n",
    "    ('models', DecisionTreeClassifier(random_state=RANDOM_STATE))\n",
    "])\n",
    "\n",
    "param_grid = [\n",
    "    # словарь для модели DecisionTreeClassifier()\n",
    "    {\n",
    "        'models': [DecisionTreeClassifier(random_state=RANDOM_STATE)],\n",
    "        'models__max_depth': range(2, 9),\n",
    "        'models__max_features': range(2, 9),\n",
    "        'preprocessor__num': [StandardScaler(), MinMaxScaler(), 'passthrough']  \n",
    "    },\n",
    "    \n",
    "    # словарь для модели KNeighborsClassifier() \n",
    "    {\n",
    "        'models': [KNeighborsClassifier()],\n",
    "        'models__n_neighbors': range(2, 9),\n",
    "        'preprocessor__num': [StandardScaler(), MinMaxScaler(), 'passthrough']   \n",
    "    },\n",
    "\n",
    "    # словарь для модели LogisticRegression()\n",
    "    {\n",
    "        'models': [LogisticRegression(\n",
    "            random_state=RANDOM_STATE, \n",
    "            solver='liblinear', \n",
    "            penalty='l1'\n",
    "        )],\n",
    "        'models__C': range(1, 35),\n",
    "        'preprocessor__num': [StandardScaler(), MinMaxScaler(), 'passthrough']  \n",
    "    }\n",
    "]\n",
    "\n",
    "randomized_search = RandomizedSearchCV(\n",
    "    pipe_final, \n",
    "    param_grid, \n",
    "    cv=5,\n",
    "    scoring='roc_auc',\n",
    "    random_state=RANDOM_STATE,\n",
    "    n_jobs=-1\n",
    ")\n",
    "randomized_search.fit(X_train, y_train)\n",
    "\n",
    "print('Лучшая модель и её параметры:\\n\\n', randomized_search.best_estimator_)\n",
    "print ('Метрика по кросс валидации:', randomized_search.best_score_)"
   ]
  },
  {
   "cell_type": "markdown",
   "metadata": {},
   "source": [
    "ROC-AUC — это всеохватывающая метрика качества классификации. Она оценивает качество решений модели в наиболее общем виде, учитывая все возможные пороговые значения. Это самая общая оценка итогов работы модели."
   ]
  },
  {
   "cell_type": "code",
   "execution_count": null,
   "metadata": {},
   "outputs": [],
   "source": [
    "y_test_pred_prob = randomized_search.predict_proba(X_test)[:,1]\n",
    "print(f'Метрика ROC-AUC на тестовой выборке: {roc_auc_score(y_test, y_test_pred_prob)}')"
   ]
  },
  {
   "cell_type": "markdown",
   "metadata": {},
   "source": [
    "Итого мы создали один общий пайплайн и обучили четыре модели KNeighborsClassifier(), DecisionTreeClassifier(), LogisticRegression() и SVC().\n",
    "<br>В качестве метрики выбрали универсальный вариант ROC-AUC.\n",
    "<br> Лучшая модель LogisticRegression(C=10, penalty='l1', random_state=42, solver='liblinear'))]), метрика roc_auc по кросс валидации = 0.896.\n",
    "<br>Метрика ROC-AUC на тестовой выборке: 0,916"
   ]
  },
  {
   "cell_type": "markdown",
   "metadata": {},
   "source": [
    "## 7. Анализ важности признаков"
   ]
  },
  {
   "cell_type": "code",
   "execution_count": null,
   "metadata": {},
   "outputs": [],
   "source": [
    "X_train_transformed = pipe_final.named_steps['preprocessor'].fit_transform(X_train)\n",
    "X_test_transformed = pipe_final.named_steps['preprocessor'].transform(X_test)\n",
    "get_feature_names=pipe_final.named_steps['preprocessor'].get_feature_names_out()\n",
    "feature_names = pipe_final.named_steps['preprocessor'].get_feature_names_out()\n",
    "explainer = shap.LinearExplainer(randomized_search.best_estimator_.named_steps['models'], X_test_transformed, feature_names=feature_names)\n",
    "shap_values=explainer(X_test_transformed)"
   ]
  },
  {
   "cell_type": "code",
   "execution_count": null,
   "metadata": {},
   "outputs": [],
   "source": [
    "shap.summary_plot(shap_values, X_test_transformed, plot_type=\"bar\",feature_names=feature_names, plot_size= (13,8))"
   ]
  },
  {
   "cell_type": "markdown",
   "metadata": {},
   "source": [
    "В результате получили:\n",
    "- Топ 3 важных признака - страниц_за визит, средний_просмотр_категорий за визит, предыдущий_месяц_минут\n",
    "- Топ 3 неважных признака - тип_сервиса, маркет_активность_тек_месяца, популярная_категория_кухонная_посуда\n",
    "\n",
    "Используя данный график можно удалить ненужные признаки при дальнейшем моделировании, и улучшить прогнозную способность модели.\n",
    "Стоит подумать как увеличить вовлеченность покупателей, чтобы они больше проводили время на сайте, расширить асортимет к примеру."
   ]
  },
  {
   "cell_type": "code",
   "execution_count": null,
   "metadata": {},
   "outputs": [],
   "source": [
    "shap.plots.beeswarm(shap_values, plot_size= (13,8), max_display=20)"
   ]
  },
  {
   "cell_type": "markdown",
   "metadata": {},
   "source": [
    "## 8. Сегментация покупателей"
   ]
  },
  {
   "cell_type": "markdown",
   "metadata": {},
   "source": [
    "<br>Итак перед нами стоит задача, выделить клиентов, которые приносят больше всего прибыль компании, рассмотреть их предпочтения и дать рекомендации по улучшению их покупательской способности.\n",
    "<br> Используя данные модели, мы сможем выделить:\n",
    "- группу, которая находится в зоне риска (модель предсказывает ухудшение покупательской способности);\n",
    "- группу, у которой согласно модели не предвидется снижение покупательской способности."
   ]
  },
  {
   "cell_type": "code",
   "execution_count": null,
   "metadata": {},
   "outputs": [],
   "source": [
    "# собираем сводную таблицу\n",
    "probability = pd.DataFrame(pd.concat([\n",
    "    pd.Series(randomized_search.predict_proba(X_test)[:,1]),\n",
    "    pd.Series(X_test.index)\n",
    "], axis=1))\n",
    "probability.columns = ['вероятность_снижения_активности', 'id']\n",
    "probability_money = probability.merge(money, on='id')"
   ]
  },
  {
   "cell_type": "code",
   "execution_count": null,
   "metadata": {},
   "outputs": [],
   "source": [
    "probability_money"
   ]
  },
  {
   "cell_type": "code",
   "execution_count": null,
   "metadata": {},
   "outputs": [],
   "source": [
    "# строим catter plot\n",
    "probability_money.plot(y='прибыль', x='вероятность_снижения_активности', kind='scatter', alpha=1,figsize=(10,10), color = 'blue') \n",
    "plt.title('Диаграмма рассеивания)', fontsize=10)\n",
    "plt.ylabel('прибыль')\n",
    "plt.xlabel('вероятность_снижения_активности')\n",
    "plt.title('Сегментация покупателей')\n",
    "plt.axhline (y=4, color='red', linestyle='--') \n",
    "plt.axvline (x=0.5, color='red', linestyle='--') \n",
    "plt.show()"
   ]
  },
  {
   "cell_type": "markdown",
   "metadata": {},
   "source": [
    "Выделим две крайности:\n",
    "- модель сильно уверена, что у клиента снизиться покупательская способность\n",
    "- модель сильно уверена, что у клиента покупательская способность не изменится."
   ]
  },
  {
   "cell_type": "code",
   "execution_count": null,
   "metadata": {},
   "outputs": [],
   "source": [
    "probability_money=probability_money.query(\"вероятность_снижения_активности > 0.8 or вероятность_снижения_активности < 0.2 and прибыль > 4\")\n",
    "probability_money"
   ]
  },
  {
   "cell_type": "code",
   "execution_count": null,
   "metadata": {
    "scrolled": true
   },
   "outputs": [],
   "source": [
    "# состыкуем с основным датасетом\n",
    "probability_money_full =probability_money.merge(market_data_full, on='id', how='left')\n",
    "probability_money_full.head()"
   ]
  },
  {
   "cell_type": "code",
   "execution_count": null,
   "metadata": {},
   "outputs": [],
   "source": [
    "probability_money_full['разность_выручка_мес'] = probability_money_full['препредыдущий_месяц_выручка']-probability_money_full['предыдущий_месяц_выручка']"
   ]
  },
  {
   "cell_type": "code",
   "execution_count": null,
   "metadata": {
    "scrolled": false
   },
   "outputs": [],
   "source": [
    "plt.figure(figsize=(20,8))\n",
    "sb.boxplot(x = 'популярная_категория', y = 'прибыль', data = probability_money_full, showfliers=True, showmeans=True)\n",
    "plt.title('Прибыль по категориям', fontsize=15)\n",
    "plt.xlabel('категория')\n",
    "plt.ylabel('прибыль')\n",
    "plt.show()"
   ]
  },
  {
   "cell_type": "markdown",
   "metadata": {},
   "source": [
    "Если смотреть медиану больше всего прибыли дает `мелкая бытовая техника и электроника`, `косметика_и_аксесуары`, следующий по прибыле - `техника для красоты и здоровья`."
   ]
  },
  {
   "cell_type": "code",
   "execution_count": null,
   "metadata": {
    "scrolled": false
   },
   "outputs": [],
   "source": [
    "plt.figure(figsize=(20,8))\n",
    "sb.boxplot(x = 'популярная_категория', y = 'акционные_покупки', data = probability_money_full, showfliers=True, showmeans=True)\n",
    "plt.title('Акционные покупки по категориям', fontsize=15)\n",
    "plt.xlabel('категория')\n",
    "plt.ylabel('акционные_покупки')\n",
    "plt.show()"
   ]
  },
  {
   "cell_type": "markdown",
   "metadata": {},
   "source": [
    "Больше всего в акции участвуют `товары для детей` и `кухонная посуда`"
   ]
  },
  {
   "cell_type": "code",
   "execution_count": null,
   "metadata": {
    "scrolled": false
   },
   "outputs": [],
   "source": [
    "prob_table = probability_money_full.pivot_table(index = 'популярная_категория',\n",
    "                                                values = ['препредыдущий_месяц_выручка',\n",
    "                                                          'предыдущий_месяц_выручка',\n",
    "                                                          'текущий_месяц_выручка','прибыль'],\n",
    "                                                aggfunc = 'mean'\n",
    "                                               )\n",
    "prob_table"
   ]
  },
  {
   "cell_type": "code",
   "execution_count": null,
   "metadata": {},
   "outputs": [],
   "source": [
    "prob_table.plot(kind='bar', figsize=(10,8))\n",
    "None"
   ]
  },
  {
   "cell_type": "code",
   "execution_count": null,
   "metadata": {},
   "outputs": [],
   "source": [
    "prob_table['прибыль'].plot(kind='bar', figsize=(10,8))\n",
    "None"
   ]
  },
  {
   "cell_type": "markdown",
   "metadata": {},
   "source": [
    "В целом по всем категориям динамика растущая.\n",
    "Больше всего за три месяца заработали три категории:\n",
    "- мелкая бытовая техника и электроника\n",
    "- техника для красоты и здоровья\n",
    "- косметика и аксесуары"
   ]
  },
  {
   "cell_type": "markdown",
   "metadata": {},
   "source": [
    "## 9. Общий вывод\n",
    "\n",
    "<b>Предобработка</b>\n",
    "- скорректировали названия столбцов;\n",
    "- скорректировали формат столбцов:\n",
    "- скорректировали значения в столбцах покупательская_активность, тип_сервиса, популярная_категория (привели к удобновму виду и к нижнему регистру)\n",
    "- удалили в датасете `market_money` пользователей с нулевыми значениями выручки за три месяца.\n",
    "\n",
    "<b>Исследовательский анализ данных</b>\n",
    "- у 38% пользователей снизилась покупательская активность;\n",
    "- за последние 110 дней не было регистраций новых пользователей;\n",
    "- в среднем покупатели проводят на сайте 13 мин.\n",
    "- тройка популярных категорий:\n",
    "<br>1 место - товары для детей (25%)\n",
    "<br>2 место - домашний_текстиль (19%)\n",
    "<br>3 место - косметикаиаксесуары (17%)\n",
    "\n",
    "<b>Объединение таблиц</b>\n",
    "Объеденили таблицы согласно условию\n",
    "\n",
    "<b>Корреляционный анализ</b>\n",
    "<br>Отмечается взаимосвязь с выручкой в разные месяцы (0,88), но поскольку нам необходимо учесть динамику, данные признаки не удаляем.\n",
    "<br>В остальном можно сказать, что мультиколлинеартности в данных нет.\n",
    "\n",
    "<b>Использование пайплайнов</b>\n",
    "\n",
    "Создали один общий пайплайн и обучили четыре модели KNeighborsClassifier(), DecisionTreeClassifier(), LogisticRegression() и SVC().\n",
    "В качестве метрики выбрали универсальный вариант ROC-AUC.\n",
    "Лучшая модель LogisticRegression(C=10, penalty='l1', random_state=42, solver='liblinear'))]), метрика roc_auc по кросс валидации = 0.896\n",
    "<br>Метрика ROC-AUC на тестовой выборке: 0,916\n",
    "\n",
    "<b>Анализ важности признаков</b>\n",
    "<br>Топ 3 важных признака - страниц_за визит, средний_просмотр_категорий за визит, предыдущий_месяц_минут\n",
    "<br>Топ 3 неважных признака - тип_сервиса, маркет_активность_тек_месяца, популярная_категория_кухонная_посуда\n",
    "\n",
    "<br>Используя данный график можно удалить ненужные признаки при дальнейшем моделировании, и улучшить прогнозную способность модели.\n",
    "<br>Стоит подумать как увеличить вовлеченность покупателей, чтобы они больше проводили время на сайте, расширить асортимет к примеру.\n",
    "\n",
    "<b>Сегментация покупателей</b>\n",
    "<br>Используя данные модели, мы можем выделить:\n",
    "<br>- клиентов, которые находится в зоне риска (модель предсказывает ухудшение покупательской способности) совместно с покупателями, у которых согласно модели не предвидется снижение покупательской способности.\n",
    "<br> Это основная группа на которую в первую очередь стоит обратить клиенту.\n",
    "<br>В целом в выделенной группе по всем категориям динамика прибыли растущая.\n",
    "<br>Больше всего за три месяца заработали три категории:\n",
    "<br>- мелкая бытовая техника и электроника\n",
    "<br>- техника для красоты и здоровья\n",
    "<br>- косметика и аксесуары\n",
    "\n",
    "<br>Рекомендация</b>\n",
    "1. Стоит обратить внимание на категории товаров:\n",
    "<br>- мелкая бытовая техника и электроника\n",
    "<br>- техника для красоты и здоровья\n",
    "<br>- косметика и аксесуары\n",
    "<br>В качестве тестового варианта можно попробовать расширить ассортимент категории мелкая бытовая техника и электроника.\n",
    "<br>В том числе стоит попробывать введение акций на определенные товары данной категории."
   ]
  }
 ],
 "metadata": {
  "ExecuteTimeLog": [
   {
    "duration": 39,
    "start_time": "2024-01-24T13:22:47.054Z"
   },
   {
    "duration": 1795,
    "start_time": "2024-01-24T14:46:41.742Z"
   },
   {
    "duration": 5,
    "start_time": "2024-01-24T14:53:32.125Z"
   },
   {
    "duration": 247,
    "start_time": "2024-01-24T14:53:35.604Z"
   },
   {
    "duration": 20,
    "start_time": "2024-01-24T14:55:13.249Z"
   },
   {
    "duration": 88,
    "start_time": "2024-01-24T14:55:32.113Z"
   },
   {
    "duration": 28,
    "start_time": "2024-01-24T14:55:32.465Z"
   },
   {
    "duration": 87,
    "start_time": "2024-01-24T14:55:48.832Z"
   },
   {
    "duration": 26,
    "start_time": "2024-01-24T14:55:50.880Z"
   },
   {
    "duration": 87,
    "start_time": "2024-01-24T14:56:15.135Z"
   },
   {
    "duration": 25,
    "start_time": "2024-01-24T14:56:16.007Z"
   },
   {
    "duration": 19,
    "start_time": "2024-01-24T14:56:38.863Z"
   },
   {
    "duration": 16,
    "start_time": "2024-01-24T14:56:55.566Z"
   },
   {
    "duration": 15,
    "start_time": "2024-01-24T14:57:27.533Z"
   },
   {
    "duration": 86,
    "start_time": "2024-01-24T14:59:32.396Z"
   },
   {
    "duration": 26,
    "start_time": "2024-01-24T14:59:33.473Z"
   },
   {
    "duration": 18,
    "start_time": "2024-01-24T14:59:35.544Z"
   },
   {
    "duration": 16,
    "start_time": "2024-01-24T14:59:37.033Z"
   },
   {
    "duration": 15,
    "start_time": "2024-01-24T14:59:38.360Z"
   },
   {
    "duration": 86,
    "start_time": "2024-01-24T15:16:47.135Z"
   },
   {
    "duration": 26,
    "start_time": "2024-01-24T15:16:47.838Z"
   },
   {
    "duration": 19,
    "start_time": "2024-01-24T15:16:59.181Z"
   },
   {
    "duration": 17,
    "start_time": "2024-01-24T15:17:04.461Z"
   },
   {
    "duration": 22,
    "start_time": "2024-01-24T15:17:09.374Z"
   },
   {
    "duration": 6,
    "start_time": "2024-01-24T15:45:04.739Z"
   },
   {
    "duration": 127,
    "start_time": "2024-01-24T15:49:11.986Z"
   },
   {
    "duration": 3,
    "start_time": "2024-01-24T15:52:02.466Z"
   },
   {
    "duration": 7,
    "start_time": "2024-01-24T15:53:56.638Z"
   },
   {
    "duration": 70,
    "start_time": "2024-01-24T15:54:15.902Z"
   },
   {
    "duration": 72,
    "start_time": "2024-01-24T15:57:36.895Z"
   },
   {
    "duration": 91,
    "start_time": "2024-01-24T15:57:57.482Z"
   },
   {
    "duration": 6,
    "start_time": "2024-01-24T15:58:39.053Z"
   },
   {
    "duration": 84,
    "start_time": "2024-01-24T16:00:33.126Z"
   },
   {
    "duration": 7,
    "start_time": "2024-01-24T16:00:43.085Z"
   },
   {
    "duration": 177,
    "start_time": "2024-01-24T16:04:46.181Z"
   },
   {
    "duration": 9,
    "start_time": "2024-01-24T16:04:58.725Z"
   },
   {
    "duration": 21,
    "start_time": "2024-01-24T16:06:31.246Z"
   },
   {
    "duration": 23,
    "start_time": "2024-01-24T16:06:38.683Z"
   },
   {
    "duration": 22,
    "start_time": "2024-01-24T16:06:47.177Z"
   },
   {
    "duration": 25,
    "start_time": "2024-01-24T16:07:07.609Z"
   },
   {
    "duration": 24,
    "start_time": "2024-01-24T16:07:23.384Z"
   },
   {
    "duration": 12,
    "start_time": "2024-01-24T16:08:46.032Z"
   },
   {
    "duration": 13,
    "start_time": "2024-01-24T16:09:07.045Z"
   },
   {
    "duration": 13,
    "start_time": "2024-01-24T16:11:43.356Z"
   },
   {
    "duration": 9,
    "start_time": "2024-01-24T16:11:57.922Z"
   },
   {
    "duration": 6,
    "start_time": "2024-01-24T16:12:07.159Z"
   },
   {
    "duration": 5,
    "start_time": "2024-01-24T16:12:12.279Z"
   },
   {
    "duration": 5,
    "start_time": "2024-01-24T16:12:13.954Z"
   },
   {
    "duration": 11,
    "start_time": "2024-01-24T16:14:46.379Z"
   },
   {
    "duration": 8,
    "start_time": "2024-01-24T16:24:23.904Z"
   },
   {
    "duration": 9,
    "start_time": "2024-01-24T16:25:55.355Z"
   },
   {
    "duration": 12,
    "start_time": "2024-01-24T16:26:06.908Z"
   },
   {
    "duration": 20,
    "start_time": "2024-01-24T16:26:36.571Z"
   },
   {
    "duration": 15,
    "start_time": "2024-01-24T16:27:01.410Z"
   },
   {
    "duration": 11,
    "start_time": "2024-01-24T16:27:14.049Z"
   },
   {
    "duration": 17,
    "start_time": "2024-01-24T16:27:29.264Z"
   },
   {
    "duration": 13,
    "start_time": "2024-01-24T16:28:36.431Z"
   },
   {
    "duration": 5,
    "start_time": "2024-01-24T16:31:21.443Z"
   },
   {
    "duration": 4,
    "start_time": "2024-01-24T16:31:25.562Z"
   },
   {
    "duration": 79,
    "start_time": "2024-01-24T16:32:45.534Z"
   },
   {
    "duration": 6,
    "start_time": "2024-01-24T16:33:00.106Z"
   },
   {
    "duration": 7,
    "start_time": "2024-01-24T17:05:16.474Z"
   },
   {
    "duration": 6,
    "start_time": "2024-01-24T17:05:31.014Z"
   },
   {
    "duration": 8,
    "start_time": "2024-01-24T17:07:15.944Z"
   },
   {
    "duration": 6,
    "start_time": "2024-01-24T17:08:13.679Z"
   },
   {
    "duration": 14,
    "start_time": "2024-01-24T17:10:22.194Z"
   },
   {
    "duration": 15,
    "start_time": "2024-01-24T17:11:36.000Z"
   },
   {
    "duration": 15,
    "start_time": "2024-01-24T17:11:49.847Z"
   },
   {
    "duration": 16,
    "start_time": "2024-01-24T17:12:12.917Z"
   },
   {
    "duration": 43,
    "start_time": "2024-01-24T17:24:58.672Z"
   },
   {
    "duration": 122,
    "start_time": "2024-01-24T17:27:28.834Z"
   },
   {
    "duration": 100,
    "start_time": "2024-01-24T17:27:59.915Z"
   },
   {
    "duration": 102,
    "start_time": "2024-01-24T17:28:05.373Z"
   },
   {
    "duration": 187,
    "start_time": "2024-01-24T17:28:44.391Z"
   },
   {
    "duration": 98,
    "start_time": "2024-01-24T17:29:09.371Z"
   },
   {
    "duration": 96,
    "start_time": "2024-01-24T17:29:15.524Z"
   },
   {
    "duration": 164,
    "start_time": "2024-01-24T17:30:01.251Z"
   },
   {
    "duration": 155,
    "start_time": "2024-01-24T17:32:39.857Z"
   },
   {
    "duration": 150,
    "start_time": "2024-01-24T17:32:55.605Z"
   },
   {
    "duration": 160,
    "start_time": "2024-01-24T17:33:08.075Z"
   },
   {
    "duration": 134,
    "start_time": "2024-01-24T17:33:38.828Z"
   },
   {
    "duration": 156,
    "start_time": "2024-01-24T17:33:58.647Z"
   },
   {
    "duration": 150,
    "start_time": "2024-01-24T17:34:05.609Z"
   },
   {
    "duration": 156,
    "start_time": "2024-01-24T17:34:11.075Z"
   },
   {
    "duration": 265,
    "start_time": "2024-01-24T17:37:45.516Z"
   },
   {
    "duration": 87,
    "start_time": "2024-01-24T17:49:08.221Z"
   },
   {
    "duration": 15,
    "start_time": "2024-01-24T17:50:46.507Z"
   },
   {
    "duration": 175,
    "start_time": "2024-01-24T17:51:35.623Z"
   },
   {
    "duration": 192,
    "start_time": "2024-01-24T17:51:52.094Z"
   },
   {
    "duration": 243,
    "start_time": "2024-01-24T17:52:56.703Z"
   },
   {
    "duration": 156,
    "start_time": "2024-01-24T17:53:33.402Z"
   },
   {
    "duration": 147,
    "start_time": "2024-01-24T17:53:40.506Z"
   },
   {
    "duration": 103,
    "start_time": "2024-01-24T17:53:51.713Z"
   },
   {
    "duration": 109,
    "start_time": "2024-01-24T17:54:01.208Z"
   },
   {
    "duration": 124,
    "start_time": "2024-01-24T17:54:17.480Z"
   },
   {
    "duration": 14,
    "start_time": "2024-01-24T17:56:09.598Z"
   },
   {
    "duration": 16,
    "start_time": "2024-01-24T17:56:28.512Z"
   },
   {
    "duration": 156,
    "start_time": "2024-01-24T19:43:18.852Z"
   },
   {
    "duration": 17,
    "start_time": "2024-01-24T19:52:59.350Z"
   },
   {
    "duration": 13,
    "start_time": "2024-01-24T19:54:32.552Z"
   },
   {
    "duration": 12,
    "start_time": "2024-01-24T19:55:56.657Z"
   },
   {
    "duration": 16,
    "start_time": "2024-01-24T19:57:45.165Z"
   },
   {
    "duration": 10,
    "start_time": "2024-01-24T19:57:53.620Z"
   },
   {
    "duration": 15,
    "start_time": "2024-01-24T20:00:19.960Z"
   },
   {
    "duration": 80,
    "start_time": "2024-01-24T20:00:48.934Z"
   },
   {
    "duration": 15,
    "start_time": "2024-01-24T20:00:57.958Z"
   },
   {
    "duration": 13,
    "start_time": "2024-01-24T20:01:05.573Z"
   },
   {
    "duration": 11,
    "start_time": "2024-01-24T20:01:15.678Z"
   },
   {
    "duration": 13,
    "start_time": "2024-01-24T20:01:24.029Z"
   },
   {
    "duration": 12,
    "start_time": "2024-01-24T20:02:00.260Z"
   },
   {
    "duration": 11,
    "start_time": "2024-01-24T20:02:15.411Z"
   },
   {
    "duration": 10,
    "start_time": "2024-01-24T20:03:06.594Z"
   },
   {
    "duration": 14,
    "start_time": "2024-01-24T20:03:31.056Z"
   },
   {
    "duration": 12,
    "start_time": "2024-01-24T20:03:52.880Z"
   },
   {
    "duration": 1572,
    "start_time": "2024-01-24T20:05:31.604Z"
   },
   {
    "duration": 97,
    "start_time": "2024-01-24T20:05:33.179Z"
   },
   {
    "duration": 32,
    "start_time": "2024-01-24T20:05:33.284Z"
   },
   {
    "duration": 19,
    "start_time": "2024-01-24T20:05:33.318Z"
   },
   {
    "duration": 34,
    "start_time": "2024-01-24T20:05:33.339Z"
   },
   {
    "duration": 19,
    "start_time": "2024-01-24T20:05:33.375Z"
   },
   {
    "duration": 14,
    "start_time": "2024-01-24T20:05:33.395Z"
   },
   {
    "duration": 51,
    "start_time": "2024-01-24T20:05:33.411Z"
   },
   {
    "duration": 13,
    "start_time": "2024-01-24T20:05:33.465Z"
   },
   {
    "duration": 8,
    "start_time": "2024-01-24T20:05:33.480Z"
   },
   {
    "duration": 7,
    "start_time": "2024-01-24T20:05:33.490Z"
   },
   {
    "duration": 8,
    "start_time": "2024-01-24T20:05:33.499Z"
   },
   {
    "duration": 16,
    "start_time": "2024-01-24T20:05:33.510Z"
   },
   {
    "duration": 51,
    "start_time": "2024-01-24T20:05:33.528Z"
   },
   {
    "duration": 15,
    "start_time": "2024-01-24T20:05:33.580Z"
   },
   {
    "duration": 24,
    "start_time": "2024-01-24T20:05:33.597Z"
   },
   {
    "duration": 35,
    "start_time": "2024-01-24T20:05:33.623Z"
   },
   {
    "duration": 51,
    "start_time": "2024-01-24T20:05:33.660Z"
   },
   {
    "duration": 130,
    "start_time": "2024-01-24T20:05:33.713Z"
   },
   {
    "duration": 114,
    "start_time": "2024-01-24T20:05:33.845Z"
   },
   {
    "duration": 165,
    "start_time": "2024-01-24T20:05:33.961Z"
   },
   {
    "duration": 143,
    "start_time": "2024-01-24T20:05:34.128Z"
   },
   {
    "duration": 211,
    "start_time": "2024-01-24T20:05:34.273Z"
   },
   {
    "duration": 20,
    "start_time": "2024-01-24T20:05:34.485Z"
   },
   {
    "duration": 7,
    "start_time": "2024-01-24T20:05:34.506Z"
   },
   {
    "duration": 117,
    "start_time": "2024-01-24T20:05:44.947Z"
   },
   {
    "duration": 1506,
    "start_time": "2024-01-24T20:05:51.886Z"
   },
   {
    "duration": 89,
    "start_time": "2024-01-24T20:05:53.394Z"
   },
   {
    "duration": 31,
    "start_time": "2024-01-24T20:05:53.485Z"
   },
   {
    "duration": 17,
    "start_time": "2024-01-24T20:05:53.517Z"
   },
   {
    "duration": 28,
    "start_time": "2024-01-24T20:05:53.537Z"
   },
   {
    "duration": 24,
    "start_time": "2024-01-24T20:05:53.566Z"
   },
   {
    "duration": 15,
    "start_time": "2024-01-24T20:05:53.592Z"
   },
   {
    "duration": 41,
    "start_time": "2024-01-24T20:05:53.609Z"
   },
   {
    "duration": 16,
    "start_time": "2024-01-24T20:05:53.651Z"
   },
   {
    "duration": 9,
    "start_time": "2024-01-24T20:05:53.669Z"
   },
   {
    "duration": 8,
    "start_time": "2024-01-24T20:05:53.680Z"
   },
   {
    "duration": 6,
    "start_time": "2024-01-24T20:05:53.690Z"
   },
   {
    "duration": 7,
    "start_time": "2024-01-24T20:05:53.698Z"
   },
   {
    "duration": 6,
    "start_time": "2024-01-24T20:05:53.708Z"
   },
   {
    "duration": 45,
    "start_time": "2024-01-24T20:05:53.716Z"
   },
   {
    "duration": 14,
    "start_time": "2024-01-24T20:05:53.764Z"
   },
   {
    "duration": 18,
    "start_time": "2024-01-24T20:05:53.780Z"
   },
   {
    "duration": 63,
    "start_time": "2024-01-24T20:05:53.800Z"
   },
   {
    "duration": 127,
    "start_time": "2024-01-24T20:05:53.864Z"
   },
   {
    "duration": 108,
    "start_time": "2024-01-24T20:05:53.993Z"
   },
   {
    "duration": 159,
    "start_time": "2024-01-24T20:05:54.102Z"
   },
   {
    "duration": 140,
    "start_time": "2024-01-24T20:05:54.263Z"
   },
   {
    "duration": 214,
    "start_time": "2024-01-24T20:05:54.405Z"
   },
   {
    "duration": 16,
    "start_time": "2024-01-24T20:05:54.621Z"
   },
   {
    "duration": 163,
    "start_time": "2024-01-24T20:05:54.638Z"
   },
   {
    "duration": 7,
    "start_time": "2024-01-24T20:07:50.168Z"
   },
   {
    "duration": 89,
    "start_time": "2024-01-24T20:07:50.177Z"
   },
   {
    "duration": 25,
    "start_time": "2024-01-24T20:07:50.268Z"
   },
   {
    "duration": 26,
    "start_time": "2024-01-24T20:07:50.294Z"
   },
   {
    "duration": 16,
    "start_time": "2024-01-24T20:07:50.323Z"
   },
   {
    "duration": 18,
    "start_time": "2024-01-24T20:07:50.359Z"
   },
   {
    "duration": 10,
    "start_time": "2024-01-24T20:07:50.379Z"
   },
   {
    "duration": 31,
    "start_time": "2024-01-24T20:07:50.391Z"
   },
   {
    "duration": 39,
    "start_time": "2024-01-24T20:07:50.424Z"
   },
   {
    "duration": 7,
    "start_time": "2024-01-24T20:07:50.465Z"
   },
   {
    "duration": 8,
    "start_time": "2024-01-24T20:07:50.475Z"
   },
   {
    "duration": 18,
    "start_time": "2024-01-24T20:07:50.485Z"
   },
   {
    "duration": 6,
    "start_time": "2024-01-24T20:07:50.505Z"
   },
   {
    "duration": 4,
    "start_time": "2024-01-24T20:07:50.514Z"
   },
   {
    "duration": 43,
    "start_time": "2024-01-24T20:07:50.520Z"
   },
   {
    "duration": 8,
    "start_time": "2024-01-24T20:07:50.564Z"
   },
   {
    "duration": 23,
    "start_time": "2024-01-24T20:07:50.574Z"
   },
   {
    "duration": 61,
    "start_time": "2024-01-24T20:07:50.599Z"
   },
   {
    "duration": 118,
    "start_time": "2024-01-24T20:07:50.662Z"
   },
   {
    "duration": 107,
    "start_time": "2024-01-24T20:07:50.783Z"
   },
   {
    "duration": 169,
    "start_time": "2024-01-24T20:07:50.892Z"
   },
   {
    "duration": 143,
    "start_time": "2024-01-24T20:07:51.063Z"
   },
   {
    "duration": 124,
    "start_time": "2024-01-24T20:07:51.208Z"
   },
   {
    "duration": 29,
    "start_time": "2024-01-24T20:07:51.334Z"
   },
   {
    "duration": 28,
    "start_time": "2024-01-24T20:08:35.658Z"
   },
   {
    "duration": 48,
    "start_time": "2024-01-24T20:08:56.565Z"
   },
   {
    "duration": 48,
    "start_time": "2024-01-24T20:09:35.244Z"
   },
   {
    "duration": 6,
    "start_time": "2024-01-24T20:13:48.073Z"
   },
   {
    "duration": 96,
    "start_time": "2024-01-24T20:13:48.081Z"
   },
   {
    "duration": 25,
    "start_time": "2024-01-24T20:13:48.179Z"
   },
   {
    "duration": 16,
    "start_time": "2024-01-24T20:13:48.206Z"
   },
   {
    "duration": 16,
    "start_time": "2024-01-24T20:13:48.224Z"
   },
   {
    "duration": 43,
    "start_time": "2024-01-24T20:13:48.241Z"
   },
   {
    "duration": 9,
    "start_time": "2024-01-24T20:13:48.285Z"
   },
   {
    "duration": 28,
    "start_time": "2024-01-24T20:13:48.295Z"
   },
   {
    "duration": 43,
    "start_time": "2024-01-24T20:13:48.325Z"
   },
   {
    "duration": 9,
    "start_time": "2024-01-24T20:13:48.370Z"
   },
   {
    "duration": 9,
    "start_time": "2024-01-24T20:13:48.382Z"
   },
   {
    "duration": 9,
    "start_time": "2024-01-24T20:13:48.392Z"
   },
   {
    "duration": 6,
    "start_time": "2024-01-24T20:13:48.402Z"
   },
   {
    "duration": 5,
    "start_time": "2024-01-24T20:13:48.410Z"
   },
   {
    "duration": 48,
    "start_time": "2024-01-24T20:13:48.416Z"
   },
   {
    "duration": 16,
    "start_time": "2024-01-24T20:13:48.467Z"
   },
   {
    "duration": 15,
    "start_time": "2024-01-24T20:13:48.485Z"
   },
   {
    "duration": 33,
    "start_time": "2024-01-24T20:13:48.502Z"
   },
   {
    "duration": 151,
    "start_time": "2024-01-24T20:13:48.537Z"
   },
   {
    "duration": 108,
    "start_time": "2024-01-24T20:13:48.690Z"
   },
   {
    "duration": 177,
    "start_time": "2024-01-24T20:13:48.800Z"
   },
   {
    "duration": 146,
    "start_time": "2024-01-24T20:13:48.979Z"
   },
   {
    "duration": 116,
    "start_time": "2024-01-24T20:13:49.127Z"
   },
   {
    "duration": 27,
    "start_time": "2024-01-24T20:13:49.245Z"
   },
   {
    "duration": 47,
    "start_time": "2024-01-24T20:14:14.193Z"
   },
   {
    "duration": 69,
    "start_time": "2024-01-24T21:12:03.259Z"
   },
   {
    "duration": 1435,
    "start_time": "2024-01-24T21:12:10.234Z"
   },
   {
    "duration": 1480,
    "start_time": "2024-01-24T21:12:44.157Z"
   },
   {
    "duration": 90,
    "start_time": "2024-01-24T21:12:45.639Z"
   },
   {
    "duration": 28,
    "start_time": "2024-01-24T21:12:45.731Z"
   },
   {
    "duration": 21,
    "start_time": "2024-01-24T21:12:45.760Z"
   },
   {
    "duration": 16,
    "start_time": "2024-01-24T21:12:45.783Z"
   },
   {
    "duration": 21,
    "start_time": "2024-01-24T21:12:45.800Z"
   },
   {
    "duration": 10,
    "start_time": "2024-01-24T21:12:45.823Z"
   },
   {
    "duration": 25,
    "start_time": "2024-01-24T21:12:45.858Z"
   },
   {
    "duration": 12,
    "start_time": "2024-01-24T21:12:45.884Z"
   },
   {
    "duration": 7,
    "start_time": "2024-01-24T21:12:45.898Z"
   },
   {
    "duration": 6,
    "start_time": "2024-01-24T21:12:45.906Z"
   },
   {
    "duration": 6,
    "start_time": "2024-01-24T21:12:45.914Z"
   },
   {
    "duration": 6,
    "start_time": "2024-01-24T21:12:45.958Z"
   },
   {
    "duration": 6,
    "start_time": "2024-01-24T21:12:45.967Z"
   },
   {
    "duration": 9,
    "start_time": "2024-01-24T21:12:45.974Z"
   },
   {
    "duration": 8,
    "start_time": "2024-01-24T21:12:45.985Z"
   },
   {
    "duration": 16,
    "start_time": "2024-01-24T21:12:45.994Z"
   },
   {
    "duration": 1325,
    "start_time": "2024-01-24T21:12:46.012Z"
   },
   {
    "duration": 0,
    "start_time": "2024-01-24T21:12:47.339Z"
   },
   {
    "duration": 0,
    "start_time": "2024-01-24T21:12:47.341Z"
   },
   {
    "duration": 0,
    "start_time": "2024-01-24T21:12:47.342Z"
   },
   {
    "duration": 0,
    "start_time": "2024-01-24T21:12:47.344Z"
   },
   {
    "duration": 0,
    "start_time": "2024-01-24T21:12:47.346Z"
   },
   {
    "duration": 0,
    "start_time": "2024-01-24T21:12:47.347Z"
   },
   {
    "duration": 0,
    "start_time": "2024-01-24T21:12:47.349Z"
   },
   {
    "duration": 0,
    "start_time": "2024-01-24T21:12:47.350Z"
   },
   {
    "duration": 4,
    "start_time": "2024-01-24T21:13:08.452Z"
   },
   {
    "duration": 15,
    "start_time": "2024-01-24T21:13:56.993Z"
   },
   {
    "duration": 50,
    "start_time": "2024-01-24T21:15:38.355Z"
   },
   {
    "duration": 5,
    "start_time": "2024-01-24T21:15:45.846Z"
   },
   {
    "duration": 9,
    "start_time": "2024-01-24T21:16:06.227Z"
   },
   {
    "duration": 6,
    "start_time": "2024-01-24T21:22:48.185Z"
   },
   {
    "duration": 118,
    "start_time": "2024-01-24T21:22:48.195Z"
   },
   {
    "duration": 24,
    "start_time": "2024-01-24T21:22:48.315Z"
   },
   {
    "duration": 46,
    "start_time": "2024-01-24T21:22:48.341Z"
   },
   {
    "duration": 16,
    "start_time": "2024-01-24T21:22:48.388Z"
   },
   {
    "duration": 21,
    "start_time": "2024-01-24T21:22:48.406Z"
   },
   {
    "duration": 30,
    "start_time": "2024-01-24T21:22:48.429Z"
   },
   {
    "duration": 28,
    "start_time": "2024-01-24T21:22:48.461Z"
   },
   {
    "duration": 11,
    "start_time": "2024-01-24T21:22:48.490Z"
   },
   {
    "duration": 7,
    "start_time": "2024-01-24T21:22:48.503Z"
   },
   {
    "duration": 30,
    "start_time": "2024-01-24T21:22:48.511Z"
   },
   {
    "duration": 25,
    "start_time": "2024-01-24T21:22:48.542Z"
   },
   {
    "duration": 15,
    "start_time": "2024-01-24T21:22:48.568Z"
   },
   {
    "duration": 9,
    "start_time": "2024-01-24T21:22:48.584Z"
   },
   {
    "duration": 8,
    "start_time": "2024-01-24T21:22:48.596Z"
   },
   {
    "duration": 36,
    "start_time": "2024-01-24T21:22:48.605Z"
   },
   {
    "duration": 45,
    "start_time": "2024-01-24T21:22:48.643Z"
   },
   {
    "duration": 14,
    "start_time": "2024-01-24T21:22:48.689Z"
   },
   {
    "duration": 19,
    "start_time": "2024-01-24T21:22:48.705Z"
   },
   {
    "duration": 10,
    "start_time": "2024-01-24T21:22:48.726Z"
   },
   {
    "duration": 44,
    "start_time": "2024-01-24T21:22:48.737Z"
   },
   {
    "duration": 131,
    "start_time": "2024-01-24T21:22:57.628Z"
   },
   {
    "duration": 5,
    "start_time": "2024-01-24T21:27:16.523Z"
   },
   {
    "duration": 339,
    "start_time": "2024-01-24T21:29:30.591Z"
   },
   {
    "duration": 397,
    "start_time": "2024-01-24T21:37:28.123Z"
   },
   {
    "duration": 314,
    "start_time": "2024-01-24T21:38:11.345Z"
   },
   {
    "duration": 314,
    "start_time": "2024-01-24T21:39:40.997Z"
   },
   {
    "duration": 317,
    "start_time": "2024-01-24T21:53:58.491Z"
   },
   {
    "duration": 90,
    "start_time": "2024-01-24T22:00:08.285Z"
   },
   {
    "duration": 9,
    "start_time": "2024-01-24T22:00:20.668Z"
   },
   {
    "duration": 296,
    "start_time": "2024-01-24T22:00:58.924Z"
   },
   {
    "duration": 308,
    "start_time": "2024-01-24T22:02:28.759Z"
   },
   {
    "duration": 392,
    "start_time": "2024-01-24T22:02:39.295Z"
   },
   {
    "duration": 311,
    "start_time": "2024-01-24T22:04:53.531Z"
   },
   {
    "duration": 337,
    "start_time": "2024-01-24T22:07:20.269Z"
   },
   {
    "duration": 319,
    "start_time": "2024-01-24T22:11:28.298Z"
   },
   {
    "duration": 301,
    "start_time": "2024-01-24T22:14:03.640Z"
   },
   {
    "duration": 399,
    "start_time": "2024-01-24T22:16:32.661Z"
   },
   {
    "duration": 99,
    "start_time": "2024-01-24T22:21:21.517Z"
   },
   {
    "duration": 100,
    "start_time": "2024-01-24T22:21:38.848Z"
   },
   {
    "duration": 91,
    "start_time": "2024-01-24T22:21:43.772Z"
   },
   {
    "duration": 91,
    "start_time": "2024-01-24T22:21:57.239Z"
   },
   {
    "duration": 150,
    "start_time": "2024-01-24T22:22:01.294Z"
   },
   {
    "duration": 12,
    "start_time": "2024-01-24T22:25:11.710Z"
   },
   {
    "duration": 12,
    "start_time": "2024-01-24T22:25:56.781Z"
   },
   {
    "duration": 98,
    "start_time": "2024-01-24T22:26:04.453Z"
   },
   {
    "duration": 123,
    "start_time": "2024-01-24T22:30:37.725Z"
   },
   {
    "duration": 335,
    "start_time": "2024-01-24T22:31:49.947Z"
   },
   {
    "duration": 342,
    "start_time": "2024-01-24T22:32:07.251Z"
   },
   {
    "duration": 9,
    "start_time": "2024-01-24T22:35:31.932Z"
   },
   {
    "duration": 5,
    "start_time": "2024-01-24T22:37:20.264Z"
   },
   {
    "duration": 452,
    "start_time": "2024-01-24T22:37:37.088Z"
   },
   {
    "duration": 104,
    "start_time": "2024-01-24T22:39:49.907Z"
   },
   {
    "duration": 1232,
    "start_time": "2024-01-24T22:40:33.298Z"
   },
   {
    "duration": 418,
    "start_time": "2024-01-24T22:40:49.642Z"
   },
   {
    "duration": 407,
    "start_time": "2024-01-24T22:41:11.033Z"
   },
   {
    "duration": 380,
    "start_time": "2024-01-24T22:41:21.468Z"
   },
   {
    "duration": 479,
    "start_time": "2024-01-24T22:41:30.696Z"
   },
   {
    "duration": 342,
    "start_time": "2024-01-24T22:45:14.048Z"
   },
   {
    "duration": 357,
    "start_time": "2024-01-24T22:45:47.097Z"
   },
   {
    "duration": 14,
    "start_time": "2024-01-24T22:56:58.446Z"
   },
   {
    "duration": 20,
    "start_time": "2024-01-24T22:57:25.157Z"
   },
   {
    "duration": 5,
    "start_time": "2024-01-24T23:15:31.469Z"
   },
   {
    "duration": 130,
    "start_time": "2024-01-24T23:15:31.476Z"
   },
   {
    "duration": 25,
    "start_time": "2024-01-24T23:15:31.607Z"
   },
   {
    "duration": 40,
    "start_time": "2024-01-24T23:15:31.634Z"
   },
   {
    "duration": 34,
    "start_time": "2024-01-24T23:15:31.676Z"
   },
   {
    "duration": 63,
    "start_time": "2024-01-24T23:15:31.712Z"
   },
   {
    "duration": 26,
    "start_time": "2024-01-24T23:15:31.777Z"
   },
   {
    "duration": 46,
    "start_time": "2024-01-24T23:15:31.805Z"
   },
   {
    "duration": 31,
    "start_time": "2024-01-24T23:15:31.853Z"
   },
   {
    "duration": 38,
    "start_time": "2024-01-24T23:15:31.885Z"
   },
   {
    "duration": 26,
    "start_time": "2024-01-24T23:15:31.924Z"
   },
   {
    "duration": 36,
    "start_time": "2024-01-24T23:15:31.951Z"
   },
   {
    "duration": 51,
    "start_time": "2024-01-24T23:15:31.988Z"
   },
   {
    "duration": 28,
    "start_time": "2024-01-24T23:15:32.042Z"
   },
   {
    "duration": 25,
    "start_time": "2024-01-24T23:15:32.072Z"
   },
   {
    "duration": 36,
    "start_time": "2024-01-24T23:15:32.099Z"
   },
   {
    "duration": 38,
    "start_time": "2024-01-24T23:15:32.136Z"
   },
   {
    "duration": 48,
    "start_time": "2024-01-24T23:15:32.176Z"
   },
   {
    "duration": 35,
    "start_time": "2024-01-24T23:15:32.225Z"
   },
   {
    "duration": 42,
    "start_time": "2024-01-24T23:15:32.261Z"
   },
   {
    "duration": 57,
    "start_time": "2024-01-24T23:15:32.305Z"
   },
   {
    "duration": 5,
    "start_time": "2024-01-24T23:15:32.364Z"
   },
   {
    "duration": 361,
    "start_time": "2024-01-24T23:15:32.371Z"
   },
   {
    "duration": 336,
    "start_time": "2024-01-24T23:15:32.734Z"
   },
   {
    "duration": 340,
    "start_time": "2024-01-24T23:15:33.072Z"
   },
   {
    "duration": 425,
    "start_time": "2024-01-24T23:15:33.413Z"
   },
   {
    "duration": 320,
    "start_time": "2024-01-24T23:15:33.840Z"
   },
   {
    "duration": 331,
    "start_time": "2024-01-24T23:15:34.162Z"
   },
   {
    "duration": 348,
    "start_time": "2024-01-24T23:15:34.495Z"
   },
   {
    "duration": 345,
    "start_time": "2024-01-24T23:15:34.845Z"
   },
   {
    "duration": 400,
    "start_time": "2024-01-24T23:15:35.192Z"
   },
   {
    "duration": 329,
    "start_time": "2024-01-24T23:15:35.593Z"
   },
   {
    "duration": 105,
    "start_time": "2024-01-24T23:15:35.924Z"
   },
   {
    "duration": 101,
    "start_time": "2024-01-24T23:15:36.031Z"
   },
   {
    "duration": 103,
    "start_time": "2024-01-24T23:15:36.134Z"
   },
   {
    "duration": 156,
    "start_time": "2024-01-24T23:15:36.240Z"
   },
   {
    "duration": 346,
    "start_time": "2024-01-24T23:15:36.398Z"
   },
   {
    "duration": 14,
    "start_time": "2024-01-24T23:15:36.746Z"
   },
   {
    "duration": 16,
    "start_time": "2024-01-24T23:15:36.762Z"
   },
   {
    "duration": 381,
    "start_time": "2024-01-24T23:15:36.780Z"
   },
   {
    "duration": 487,
    "start_time": "2024-01-24T23:15:37.164Z"
   },
   {
    "duration": 383,
    "start_time": "2024-01-24T23:15:37.653Z"
   },
   {
    "duration": 46,
    "start_time": "2024-01-24T23:15:42.679Z"
   },
   {
    "duration": 20,
    "start_time": "2024-01-24T23:16:21.157Z"
   },
   {
    "duration": 14,
    "start_time": "2024-01-24T23:19:26.884Z"
   },
   {
    "duration": 19,
    "start_time": "2024-01-24T23:19:40.061Z"
   },
   {
    "duration": 19,
    "start_time": "2024-01-24T23:21:12.319Z"
   },
   {
    "duration": 5,
    "start_time": "2024-01-24T23:26:14.968Z"
   },
   {
    "duration": 13,
    "start_time": "2024-01-24T23:27:09.671Z"
   },
   {
    "duration": 20,
    "start_time": "2024-01-24T23:27:16.438Z"
   },
   {
    "duration": 12,
    "start_time": "2024-01-24T23:28:40.739Z"
   },
   {
    "duration": 1500,
    "start_time": "2024-01-24T23:30:11.731Z"
   },
   {
    "duration": 88,
    "start_time": "2024-01-24T23:30:13.233Z"
   },
   {
    "duration": 28,
    "start_time": "2024-01-24T23:30:13.323Z"
   },
   {
    "duration": 17,
    "start_time": "2024-01-24T23:30:13.352Z"
   },
   {
    "duration": 23,
    "start_time": "2024-01-24T23:30:13.371Z"
   },
   {
    "duration": 19,
    "start_time": "2024-01-24T23:30:13.395Z"
   },
   {
    "duration": 8,
    "start_time": "2024-01-24T23:30:13.415Z"
   },
   {
    "duration": 44,
    "start_time": "2024-01-24T23:30:13.425Z"
   },
   {
    "duration": 11,
    "start_time": "2024-01-24T23:30:13.470Z"
   },
   {
    "duration": 11,
    "start_time": "2024-01-24T23:30:13.483Z"
   },
   {
    "duration": 12,
    "start_time": "2024-01-24T23:30:13.496Z"
   },
   {
    "duration": 25,
    "start_time": "2024-01-24T23:30:13.509Z"
   },
   {
    "duration": 5,
    "start_time": "2024-01-24T23:30:13.536Z"
   },
   {
    "duration": 17,
    "start_time": "2024-01-24T23:30:13.544Z"
   },
   {
    "duration": 12,
    "start_time": "2024-01-24T23:30:13.563Z"
   },
   {
    "duration": 7,
    "start_time": "2024-01-24T23:30:13.577Z"
   },
   {
    "duration": 15,
    "start_time": "2024-01-24T23:30:13.585Z"
   },
   {
    "duration": 9,
    "start_time": "2024-01-24T23:30:13.601Z"
   },
   {
    "duration": 19,
    "start_time": "2024-01-24T23:30:13.612Z"
   },
   {
    "duration": 29,
    "start_time": "2024-01-24T23:30:13.633Z"
   },
   {
    "duration": 34,
    "start_time": "2024-01-24T23:30:13.663Z"
   },
   {
    "duration": 5,
    "start_time": "2024-01-24T23:30:13.698Z"
   },
   {
    "duration": 355,
    "start_time": "2024-01-24T23:30:13.704Z"
   },
   {
    "duration": 326,
    "start_time": "2024-01-24T23:30:14.061Z"
   },
   {
    "duration": 400,
    "start_time": "2024-01-24T23:30:14.389Z"
   },
   {
    "duration": 313,
    "start_time": "2024-01-24T23:30:14.791Z"
   },
   {
    "duration": 314,
    "start_time": "2024-01-24T23:30:15.106Z"
   },
   {
    "duration": 337,
    "start_time": "2024-01-24T23:30:15.422Z"
   },
   {
    "duration": 334,
    "start_time": "2024-01-24T23:30:15.760Z"
   },
   {
    "duration": 414,
    "start_time": "2024-01-24T23:30:16.096Z"
   },
   {
    "duration": 310,
    "start_time": "2024-01-24T23:30:16.512Z"
   },
   {
    "duration": 352,
    "start_time": "2024-01-24T23:30:16.824Z"
   },
   {
    "duration": 114,
    "start_time": "2024-01-24T23:30:17.177Z"
   },
   {
    "duration": 106,
    "start_time": "2024-01-24T23:30:17.293Z"
   },
   {
    "duration": 105,
    "start_time": "2024-01-24T23:30:17.401Z"
   },
   {
    "duration": 165,
    "start_time": "2024-01-24T23:30:17.508Z"
   },
   {
    "duration": 359,
    "start_time": "2024-01-24T23:30:17.675Z"
   },
   {
    "duration": 11,
    "start_time": "2024-01-24T23:30:18.036Z"
   },
   {
    "duration": 10,
    "start_time": "2024-01-24T23:30:18.059Z"
   },
   {
    "duration": 458,
    "start_time": "2024-01-24T23:30:18.071Z"
   },
   {
    "duration": 401,
    "start_time": "2024-01-24T23:30:18.533Z"
   },
   {
    "duration": 371,
    "start_time": "2024-01-24T23:30:18.936Z"
   },
   {
    "duration": 18,
    "start_time": "2024-01-24T23:30:19.309Z"
   },
   {
    "duration": 4,
    "start_time": "2024-01-24T23:30:19.329Z"
   },
   {
    "duration": 36,
    "start_time": "2024-01-24T23:30:19.334Z"
   },
   {
    "duration": 119,
    "start_time": "2024-01-24T23:30:19.372Z"
   },
   {
    "duration": 21,
    "start_time": "2024-01-24T23:30:32.326Z"
   },
   {
    "duration": 10,
    "start_time": "2024-01-24T23:31:03.501Z"
   },
   {
    "duration": 31,
    "start_time": "2024-01-24T23:31:39.791Z"
   },
   {
    "duration": 1451,
    "start_time": "2024-01-24T23:33:20.856Z"
   },
   {
    "duration": 87,
    "start_time": "2024-01-24T23:33:22.309Z"
   },
   {
    "duration": 28,
    "start_time": "2024-01-24T23:33:22.398Z"
   },
   {
    "duration": 16,
    "start_time": "2024-01-24T23:33:22.428Z"
   },
   {
    "duration": 15,
    "start_time": "2024-01-24T23:33:22.446Z"
   },
   {
    "duration": 18,
    "start_time": "2024-01-24T23:33:22.463Z"
   },
   {
    "duration": 8,
    "start_time": "2024-01-24T23:33:22.482Z"
   },
   {
    "duration": 23,
    "start_time": "2024-01-24T23:33:22.492Z"
   },
   {
    "duration": 43,
    "start_time": "2024-01-24T23:33:22.517Z"
   },
   {
    "duration": 7,
    "start_time": "2024-01-24T23:33:22.562Z"
   },
   {
    "duration": 6,
    "start_time": "2024-01-24T23:33:22.571Z"
   },
   {
    "duration": 18,
    "start_time": "2024-01-24T23:33:22.578Z"
   },
   {
    "duration": 13,
    "start_time": "2024-01-24T23:33:22.598Z"
   },
   {
    "duration": 8,
    "start_time": "2024-01-24T23:33:22.614Z"
   },
   {
    "duration": 9,
    "start_time": "2024-01-24T23:33:22.624Z"
   },
   {
    "duration": 27,
    "start_time": "2024-01-24T23:33:22.634Z"
   },
   {
    "duration": 16,
    "start_time": "2024-01-24T23:33:22.662Z"
   },
   {
    "duration": 22,
    "start_time": "2024-01-24T23:33:22.679Z"
   },
   {
    "duration": 13,
    "start_time": "2024-01-24T23:33:22.703Z"
   },
   {
    "duration": 7,
    "start_time": "2024-01-24T23:33:22.717Z"
   },
   {
    "duration": 49,
    "start_time": "2024-01-24T23:33:22.725Z"
   },
   {
    "duration": 5,
    "start_time": "2024-01-24T23:33:22.775Z"
   },
   {
    "duration": 355,
    "start_time": "2024-01-24T23:33:22.781Z"
   },
   {
    "duration": 334,
    "start_time": "2024-01-24T23:33:23.137Z"
   },
   {
    "duration": 416,
    "start_time": "2024-01-24T23:33:23.473Z"
   },
   {
    "duration": 333,
    "start_time": "2024-01-24T23:33:23.891Z"
   },
   {
    "duration": 311,
    "start_time": "2024-01-24T23:33:24.226Z"
   },
   {
    "duration": 322,
    "start_time": "2024-01-24T23:33:24.538Z"
   },
   {
    "duration": 337,
    "start_time": "2024-01-24T23:33:24.862Z"
   },
   {
    "duration": 423,
    "start_time": "2024-01-24T23:33:25.201Z"
   },
   {
    "duration": 305,
    "start_time": "2024-01-24T23:33:25.626Z"
   },
   {
    "duration": 308,
    "start_time": "2024-01-24T23:33:25.933Z"
   },
   {
    "duration": 123,
    "start_time": "2024-01-24T23:33:26.243Z"
   },
   {
    "duration": 108,
    "start_time": "2024-01-24T23:33:26.368Z"
   },
   {
    "duration": 107,
    "start_time": "2024-01-24T23:33:26.478Z"
   },
   {
    "duration": 151,
    "start_time": "2024-01-24T23:33:26.587Z"
   },
   {
    "duration": 358,
    "start_time": "2024-01-24T23:33:26.741Z"
   },
   {
    "duration": 11,
    "start_time": "2024-01-24T23:33:27.101Z"
   },
   {
    "duration": 21,
    "start_time": "2024-01-24T23:33:27.114Z"
   },
   {
    "duration": 448,
    "start_time": "2024-01-24T23:33:27.137Z"
   },
   {
    "duration": 377,
    "start_time": "2024-01-24T23:33:27.588Z"
   },
   {
    "duration": 354,
    "start_time": "2024-01-24T23:33:27.967Z"
   },
   {
    "duration": 19,
    "start_time": "2024-01-24T23:33:28.323Z"
   },
   {
    "duration": 16,
    "start_time": "2024-01-24T23:33:28.344Z"
   },
   {
    "duration": 18,
    "start_time": "2024-01-24T23:33:28.361Z"
   },
   {
    "duration": 26,
    "start_time": "2024-01-24T23:33:28.381Z"
   },
   {
    "duration": 7,
    "start_time": "2024-01-24T23:33:28.409Z"
   },
   {
    "duration": 16,
    "start_time": "2024-01-24T23:34:00.748Z"
   },
   {
    "duration": 21,
    "start_time": "2024-01-24T23:34:28.820Z"
   },
   {
    "duration": 1477,
    "start_time": "2024-01-24T23:37:04.346Z"
   },
   {
    "duration": 89,
    "start_time": "2024-01-24T23:37:05.825Z"
   },
   {
    "duration": 27,
    "start_time": "2024-01-24T23:37:05.916Z"
   },
   {
    "duration": 17,
    "start_time": "2024-01-24T23:37:05.945Z"
   },
   {
    "duration": 16,
    "start_time": "2024-01-24T23:37:05.964Z"
   },
   {
    "duration": 17,
    "start_time": "2024-01-24T23:37:05.981Z"
   },
   {
    "duration": 8,
    "start_time": "2024-01-24T23:37:05.999Z"
   },
   {
    "duration": 61,
    "start_time": "2024-01-24T23:37:06.009Z"
   },
   {
    "duration": 13,
    "start_time": "2024-01-24T23:37:06.071Z"
   },
   {
    "duration": 12,
    "start_time": "2024-01-24T23:37:06.086Z"
   },
   {
    "duration": 12,
    "start_time": "2024-01-24T23:37:06.099Z"
   },
   {
    "duration": 25,
    "start_time": "2024-01-24T23:37:06.112Z"
   },
   {
    "duration": 20,
    "start_time": "2024-01-24T23:37:06.140Z"
   },
   {
    "duration": 4,
    "start_time": "2024-01-24T23:37:06.163Z"
   },
   {
    "duration": 14,
    "start_time": "2024-01-24T23:37:06.169Z"
   },
   {
    "duration": 15,
    "start_time": "2024-01-24T23:37:06.185Z"
   },
   {
    "duration": 26,
    "start_time": "2024-01-24T23:37:06.201Z"
   },
   {
    "duration": 8,
    "start_time": "2024-01-24T23:37:06.229Z"
   },
   {
    "duration": 23,
    "start_time": "2024-01-24T23:37:06.239Z"
   },
   {
    "duration": 7,
    "start_time": "2024-01-24T23:37:06.263Z"
   },
   {
    "duration": 35,
    "start_time": "2024-01-24T23:37:06.271Z"
   },
   {
    "duration": 5,
    "start_time": "2024-01-24T23:37:06.307Z"
   },
   {
    "duration": 360,
    "start_time": "2024-01-24T23:37:06.313Z"
   },
   {
    "duration": 341,
    "start_time": "2024-01-24T23:37:06.674Z"
   },
   {
    "duration": 407,
    "start_time": "2024-01-24T23:37:07.016Z"
   },
   {
    "duration": 313,
    "start_time": "2024-01-24T23:37:07.425Z"
   },
   {
    "duration": 320,
    "start_time": "2024-01-24T23:37:07.740Z"
   },
   {
    "duration": 344,
    "start_time": "2024-01-24T23:37:08.063Z"
   },
   {
    "duration": 338,
    "start_time": "2024-01-24T23:37:08.410Z"
   },
   {
    "duration": 411,
    "start_time": "2024-01-24T23:37:08.750Z"
   },
   {
    "duration": 302,
    "start_time": "2024-01-24T23:37:09.163Z"
   },
   {
    "duration": 315,
    "start_time": "2024-01-24T23:37:09.467Z"
   },
   {
    "duration": 113,
    "start_time": "2024-01-24T23:37:09.783Z"
   },
   {
    "duration": 100,
    "start_time": "2024-01-24T23:37:09.897Z"
   },
   {
    "duration": 103,
    "start_time": "2024-01-24T23:37:09.998Z"
   },
   {
    "duration": 155,
    "start_time": "2024-01-24T23:37:10.103Z"
   },
   {
    "duration": 328,
    "start_time": "2024-01-24T23:37:10.260Z"
   },
   {
    "duration": 9,
    "start_time": "2024-01-24T23:37:10.590Z"
   },
   {
    "duration": 15,
    "start_time": "2024-01-24T23:37:10.601Z"
   },
   {
    "duration": 452,
    "start_time": "2024-01-24T23:37:10.618Z"
   },
   {
    "duration": 395,
    "start_time": "2024-01-24T23:37:11.074Z"
   },
   {
    "duration": 351,
    "start_time": "2024-01-24T23:37:11.470Z"
   },
   {
    "duration": 20,
    "start_time": "2024-01-24T23:37:11.824Z"
   },
   {
    "duration": 4,
    "start_time": "2024-01-24T23:37:11.859Z"
   },
   {
    "duration": 17,
    "start_time": "2024-01-24T23:37:11.865Z"
   },
   {
    "duration": 23,
    "start_time": "2024-01-24T23:37:11.884Z"
   },
   {
    "duration": 34,
    "start_time": "2024-01-24T23:37:37.949Z"
   },
   {
    "duration": 127,
    "start_time": "2024-01-24T23:39:03.153Z"
   },
   {
    "duration": 4,
    "start_time": "2024-01-24T23:39:09.448Z"
   },
   {
    "duration": 18,
    "start_time": "2024-01-24T23:41:37.003Z"
   },
   {
    "duration": 4,
    "start_time": "2024-01-24T23:46:11.585Z"
   },
   {
    "duration": 1224,
    "start_time": "2024-01-24T23:47:48.094Z"
   },
   {
    "duration": 23,
    "start_time": "2024-01-24T23:48:12.412Z"
   },
   {
    "duration": 13,
    "start_time": "2024-01-24T23:48:26.347Z"
   },
   {
    "duration": 1433,
    "start_time": "2024-01-24T23:48:58.459Z"
   },
   {
    "duration": 1572,
    "start_time": "2024-01-24T23:49:10.419Z"
   },
   {
    "duration": 12,
    "start_time": "2024-01-25T00:02:12.372Z"
   },
   {
    "duration": 24,
    "start_time": "2024-01-25T00:17:45.325Z"
   },
   {
    "duration": 23,
    "start_time": "2024-01-25T00:19:43.552Z"
   },
   {
    "duration": 1458,
    "start_time": "2024-01-25T00:19:52.890Z"
   },
   {
    "duration": 92,
    "start_time": "2024-01-25T00:19:54.350Z"
   },
   {
    "duration": 32,
    "start_time": "2024-01-25T00:19:54.444Z"
   },
   {
    "duration": 22,
    "start_time": "2024-01-25T00:19:54.478Z"
   },
   {
    "duration": 19,
    "start_time": "2024-01-25T00:19:54.503Z"
   },
   {
    "duration": 42,
    "start_time": "2024-01-25T00:19:54.524Z"
   },
   {
    "duration": 46,
    "start_time": "2024-01-25T00:19:54.568Z"
   },
   {
    "duration": 35,
    "start_time": "2024-01-25T00:19:54.616Z"
   },
   {
    "duration": 14,
    "start_time": "2024-01-25T00:19:54.653Z"
   },
   {
    "duration": 30,
    "start_time": "2024-01-25T00:19:54.669Z"
   },
   {
    "duration": 28,
    "start_time": "2024-01-25T00:19:54.700Z"
   },
   {
    "duration": 54,
    "start_time": "2024-01-25T00:19:54.729Z"
   },
   {
    "duration": 35,
    "start_time": "2024-01-25T00:19:54.785Z"
   },
   {
    "duration": 62,
    "start_time": "2024-01-25T00:19:54.823Z"
   },
   {
    "duration": 62,
    "start_time": "2024-01-25T00:19:54.887Z"
   },
   {
    "duration": 37,
    "start_time": "2024-01-25T00:19:54.950Z"
   },
   {
    "duration": 31,
    "start_time": "2024-01-25T00:19:54.989Z"
   },
   {
    "duration": 69,
    "start_time": "2024-01-25T00:19:55.022Z"
   },
   {
    "duration": 38,
    "start_time": "2024-01-25T00:19:55.093Z"
   },
   {
    "duration": 8,
    "start_time": "2024-01-25T00:19:55.132Z"
   },
   {
    "duration": 37,
    "start_time": "2024-01-25T00:19:55.141Z"
   },
   {
    "duration": 5,
    "start_time": "2024-01-25T00:19:55.179Z"
   },
   {
    "duration": 356,
    "start_time": "2024-01-25T00:19:55.186Z"
   },
   {
    "duration": 329,
    "start_time": "2024-01-25T00:19:55.543Z"
   },
   {
    "duration": 387,
    "start_time": "2024-01-25T00:19:55.873Z"
   },
   {
    "duration": 327,
    "start_time": "2024-01-25T00:19:56.262Z"
   },
   {
    "duration": 303,
    "start_time": "2024-01-25T00:19:56.591Z"
   },
   {
    "duration": 330,
    "start_time": "2024-01-25T00:19:56.897Z"
   },
   {
    "duration": 350,
    "start_time": "2024-01-25T00:19:57.229Z"
   },
   {
    "duration": 431,
    "start_time": "2024-01-25T00:19:57.581Z"
   },
   {
    "duration": 308,
    "start_time": "2024-01-25T00:19:58.014Z"
   },
   {
    "duration": 306,
    "start_time": "2024-01-25T00:19:58.324Z"
   },
   {
    "duration": 117,
    "start_time": "2024-01-25T00:19:58.631Z"
   },
   {
    "duration": 98,
    "start_time": "2024-01-25T00:19:58.749Z"
   },
   {
    "duration": 102,
    "start_time": "2024-01-25T00:19:58.858Z"
   },
   {
    "duration": 162,
    "start_time": "2024-01-25T00:19:58.962Z"
   },
   {
    "duration": 362,
    "start_time": "2024-01-25T00:19:59.126Z"
   },
   {
    "duration": 10,
    "start_time": "2024-01-25T00:19:59.490Z"
   },
   {
    "duration": 24,
    "start_time": "2024-01-25T00:19:59.502Z"
   },
   {
    "duration": 471,
    "start_time": "2024-01-25T00:19:59.528Z"
   },
   {
    "duration": 398,
    "start_time": "2024-01-25T00:20:00.003Z"
   },
   {
    "duration": 380,
    "start_time": "2024-01-25T00:20:00.403Z"
   },
   {
    "duration": 18,
    "start_time": "2024-01-25T00:20:00.785Z"
   },
   {
    "duration": 16,
    "start_time": "2024-01-25T00:20:00.805Z"
   },
   {
    "duration": 39,
    "start_time": "2024-01-25T00:20:00.823Z"
   },
   {
    "duration": 67,
    "start_time": "2024-01-25T00:20:00.864Z"
   },
   {
    "duration": 4,
    "start_time": "2024-01-25T00:20:00.932Z"
   },
   {
    "duration": 46,
    "start_time": "2024-01-25T00:20:00.938Z"
   },
   {
    "duration": 32,
    "start_time": "2024-01-25T00:20:00.986Z"
   },
   {
    "duration": 42,
    "start_time": "2024-01-25T00:20:01.019Z"
   },
   {
    "duration": 1512,
    "start_time": "2024-01-25T00:20:01.063Z"
   },
   {
    "duration": 13,
    "start_time": "2024-01-25T00:20:02.577Z"
   },
   {
    "duration": 11588,
    "start_time": "2024-01-25T00:20:02.591Z"
   },
   {
    "duration": 451,
    "start_time": "2024-01-25T00:20:38.878Z"
   },
   {
    "duration": 909,
    "start_time": "2024-01-25T00:22:42.699Z"
   },
   {
    "duration": 943,
    "start_time": "2024-01-25T00:23:32.817Z"
   },
   {
    "duration": 2504,
    "start_time": "2024-01-25T00:24:02.993Z"
   },
   {
    "duration": 3009,
    "start_time": "2024-01-25T00:24:56.734Z"
   },
   {
    "duration": 24,
    "start_time": "2024-01-25T00:25:48.345Z"
   },
   {
    "duration": 18,
    "start_time": "2024-01-25T00:26:37.132Z"
   },
   {
    "duration": 12260,
    "start_time": "2024-01-25T00:33:45.543Z"
   },
   {
    "duration": 87,
    "start_time": "2024-01-25T00:33:57.805Z"
   },
   {
    "duration": 29,
    "start_time": "2024-01-25T00:33:57.894Z"
   },
   {
    "duration": 16,
    "start_time": "2024-01-25T00:33:57.924Z"
   },
   {
    "duration": 25,
    "start_time": "2024-01-25T00:33:57.942Z"
   },
   {
    "duration": 19,
    "start_time": "2024-01-25T00:33:57.968Z"
   },
   {
    "duration": 8,
    "start_time": "2024-01-25T00:33:57.988Z"
   },
   {
    "duration": 28,
    "start_time": "2024-01-25T00:33:57.997Z"
   },
   {
    "duration": 32,
    "start_time": "2024-01-25T00:33:58.027Z"
   },
   {
    "duration": 7,
    "start_time": "2024-01-25T00:33:58.061Z"
   },
   {
    "duration": 12,
    "start_time": "2024-01-25T00:33:58.069Z"
   },
   {
    "duration": 6,
    "start_time": "2024-01-25T00:33:58.082Z"
   },
   {
    "duration": 25,
    "start_time": "2024-01-25T00:33:58.089Z"
   },
   {
    "duration": 5,
    "start_time": "2024-01-25T00:33:58.117Z"
   },
   {
    "duration": 16,
    "start_time": "2024-01-25T00:33:58.124Z"
   },
   {
    "duration": 19,
    "start_time": "2024-01-25T00:33:58.141Z"
   },
   {
    "duration": 15,
    "start_time": "2024-01-25T00:33:58.161Z"
   },
   {
    "duration": 6,
    "start_time": "2024-01-25T00:33:58.177Z"
   },
   {
    "duration": 26,
    "start_time": "2024-01-25T00:33:58.184Z"
   },
   {
    "duration": 22,
    "start_time": "2024-01-25T00:33:58.212Z"
   },
   {
    "duration": 74,
    "start_time": "2024-01-25T00:33:58.236Z"
   },
   {
    "duration": 4,
    "start_time": "2024-01-25T00:33:58.312Z"
   },
   {
    "duration": 388,
    "start_time": "2024-01-25T00:33:58.318Z"
   },
   {
    "duration": 331,
    "start_time": "2024-01-25T00:33:58.707Z"
   },
   {
    "duration": 397,
    "start_time": "2024-01-25T00:33:59.040Z"
   },
   {
    "duration": 328,
    "start_time": "2024-01-25T00:33:59.439Z"
   },
   {
    "duration": 317,
    "start_time": "2024-01-25T00:33:59.769Z"
   },
   {
    "duration": 330,
    "start_time": "2024-01-25T00:34:00.088Z"
   },
   {
    "duration": 350,
    "start_time": "2024-01-25T00:34:00.419Z"
   },
   {
    "duration": 327,
    "start_time": "2024-01-25T00:34:00.771Z"
   },
   {
    "duration": 384,
    "start_time": "2024-01-25T00:34:01.100Z"
   },
   {
    "duration": 298,
    "start_time": "2024-01-25T00:34:01.485Z"
   },
   {
    "duration": 135,
    "start_time": "2024-01-25T00:34:01.786Z"
   },
   {
    "duration": 110,
    "start_time": "2024-01-25T00:34:01.923Z"
   },
   {
    "duration": 103,
    "start_time": "2024-01-25T00:34:02.035Z"
   },
   {
    "duration": 184,
    "start_time": "2024-01-25T00:34:02.140Z"
   },
   {
    "duration": 335,
    "start_time": "2024-01-25T00:34:02.325Z"
   },
   {
    "duration": 10,
    "start_time": "2024-01-25T00:34:02.662Z"
   },
   {
    "duration": 41,
    "start_time": "2024-01-25T00:34:02.674Z"
   },
   {
    "duration": 506,
    "start_time": "2024-01-25T00:34:02.717Z"
   },
   {
    "duration": 386,
    "start_time": "2024-01-25T00:34:03.227Z"
   },
   {
    "duration": 361,
    "start_time": "2024-01-25T00:34:03.614Z"
   },
   {
    "duration": 19,
    "start_time": "2024-01-25T00:34:03.977Z"
   },
   {
    "duration": 4,
    "start_time": "2024-01-25T00:34:03.998Z"
   },
   {
    "duration": 24,
    "start_time": "2024-01-25T00:34:04.004Z"
   },
   {
    "duration": 57,
    "start_time": "2024-01-25T00:34:04.030Z"
   },
   {
    "duration": 5,
    "start_time": "2024-01-25T00:34:04.088Z"
   },
   {
    "duration": 28,
    "start_time": "2024-01-25T00:34:04.094Z"
   },
   {
    "duration": 4,
    "start_time": "2024-01-25T00:34:04.125Z"
   },
   {
    "duration": 45,
    "start_time": "2024-01-25T00:34:04.131Z"
   },
   {
    "duration": 1431,
    "start_time": "2024-01-25T00:34:04.177Z"
   },
   {
    "duration": 12,
    "start_time": "2024-01-25T00:34:05.609Z"
   },
   {
    "duration": 2420,
    "start_time": "2024-01-25T00:34:05.623Z"
   },
   {
    "duration": 20,
    "start_time": "2024-01-25T00:34:08.045Z"
   },
   {
    "duration": 28,
    "start_time": "2024-01-25T00:34:50.289Z"
   },
   {
    "duration": 30,
    "start_time": "2024-01-25T00:35:00.051Z"
   },
   {
    "duration": 147,
    "start_time": "2024-01-25T00:35:09.272Z"
   },
   {
    "duration": 8117,
    "start_time": "2024-01-25T00:37:25.470Z"
   },
   {
    "duration": 85,
    "start_time": "2024-01-25T00:37:33.589Z"
   },
   {
    "duration": 29,
    "start_time": "2024-01-25T00:37:33.676Z"
   },
   {
    "duration": 27,
    "start_time": "2024-01-25T00:37:33.706Z"
   },
   {
    "duration": 18,
    "start_time": "2024-01-25T00:37:33.735Z"
   },
   {
    "duration": 26,
    "start_time": "2024-01-25T00:37:33.759Z"
   },
   {
    "duration": 24,
    "start_time": "2024-01-25T00:37:33.787Z"
   },
   {
    "duration": 32,
    "start_time": "2024-01-25T00:37:33.813Z"
   },
   {
    "duration": 17,
    "start_time": "2024-01-25T00:37:33.847Z"
   },
   {
    "duration": 14,
    "start_time": "2024-01-25T00:37:33.866Z"
   },
   {
    "duration": 13,
    "start_time": "2024-01-25T00:37:33.882Z"
   },
   {
    "duration": 25,
    "start_time": "2024-01-25T00:37:33.897Z"
   },
   {
    "duration": 28,
    "start_time": "2024-01-25T00:37:33.924Z"
   },
   {
    "duration": 10,
    "start_time": "2024-01-25T00:37:33.956Z"
   },
   {
    "duration": 11,
    "start_time": "2024-01-25T00:37:33.968Z"
   },
   {
    "duration": 9,
    "start_time": "2024-01-25T00:37:33.981Z"
   },
   {
    "duration": 18,
    "start_time": "2024-01-25T00:37:33.992Z"
   },
   {
    "duration": 25,
    "start_time": "2024-01-25T00:37:34.011Z"
   },
   {
    "duration": 24,
    "start_time": "2024-01-25T00:37:34.038Z"
   },
   {
    "duration": 12,
    "start_time": "2024-01-25T00:37:34.064Z"
   },
   {
    "duration": 38,
    "start_time": "2024-01-25T00:37:34.078Z"
   },
   {
    "duration": 5,
    "start_time": "2024-01-25T00:37:34.118Z"
   },
   {
    "duration": 468,
    "start_time": "2024-01-25T00:37:34.124Z"
   },
   {
    "duration": 329,
    "start_time": "2024-01-25T00:37:34.593Z"
   },
   {
    "duration": 342,
    "start_time": "2024-01-25T00:37:34.924Z"
   },
   {
    "duration": 320,
    "start_time": "2024-01-25T00:37:35.268Z"
   },
   {
    "duration": 313,
    "start_time": "2024-01-25T00:37:35.590Z"
   },
   {
    "duration": 347,
    "start_time": "2024-01-25T00:37:35.905Z"
   },
   {
    "duration": 456,
    "start_time": "2024-01-25T00:37:36.257Z"
   },
   {
    "duration": 337,
    "start_time": "2024-01-25T00:37:36.714Z"
   },
   {
    "duration": 318,
    "start_time": "2024-01-25T00:37:37.052Z"
   },
   {
    "duration": 303,
    "start_time": "2024-01-25T00:37:37.372Z"
   },
   {
    "duration": 113,
    "start_time": "2024-01-25T00:37:37.677Z"
   },
   {
    "duration": 105,
    "start_time": "2024-01-25T00:37:37.792Z"
   },
   {
    "duration": 105,
    "start_time": "2024-01-25T00:37:37.899Z"
   },
   {
    "duration": 156,
    "start_time": "2024-01-25T00:37:38.006Z"
   },
   {
    "duration": 354,
    "start_time": "2024-01-25T00:37:38.165Z"
   },
   {
    "duration": 11,
    "start_time": "2024-01-25T00:37:38.521Z"
   },
   {
    "duration": 35,
    "start_time": "2024-01-25T00:37:38.534Z"
   },
   {
    "duration": 380,
    "start_time": "2024-01-25T00:37:38.571Z"
   },
   {
    "duration": 553,
    "start_time": "2024-01-25T00:37:38.960Z"
   },
   {
    "duration": 464,
    "start_time": "2024-01-25T00:37:39.515Z"
   },
   {
    "duration": 19,
    "start_time": "2024-01-25T00:37:39.981Z"
   },
   {
    "duration": 4,
    "start_time": "2024-01-25T00:37:40.002Z"
   },
   {
    "duration": 47,
    "start_time": "2024-01-25T00:37:40.007Z"
   },
   {
    "duration": 32,
    "start_time": "2024-01-25T00:37:40.056Z"
   },
   {
    "duration": 4,
    "start_time": "2024-01-25T00:37:40.090Z"
   },
   {
    "duration": 18,
    "start_time": "2024-01-25T00:37:40.096Z"
   },
   {
    "duration": 4,
    "start_time": "2024-01-25T00:37:40.116Z"
   },
   {
    "duration": 54,
    "start_time": "2024-01-25T00:37:40.121Z"
   },
   {
    "duration": 1431,
    "start_time": "2024-01-25T00:37:40.177Z"
   },
   {
    "duration": 13,
    "start_time": "2024-01-25T00:37:41.609Z"
   },
   {
    "duration": 2452,
    "start_time": "2024-01-25T00:37:41.624Z"
   },
   {
    "duration": 17,
    "start_time": "2024-01-25T00:37:44.078Z"
   },
   {
    "duration": 99,
    "start_time": "2024-01-25T00:37:44.096Z"
   },
   {
    "duration": 545,
    "start_time": "2024-01-25T00:37:50.068Z"
   },
   {
    "duration": 483,
    "start_time": "2024-01-25T00:38:42.915Z"
   },
   {
    "duration": 515,
    "start_time": "2024-01-25T00:38:57.786Z"
   },
   {
    "duration": 105,
    "start_time": "2024-01-25T00:44:38.048Z"
   },
   {
    "duration": 103,
    "start_time": "2024-01-25T00:44:54.662Z"
   },
   {
    "duration": 573,
    "start_time": "2024-01-25T00:45:27.144Z"
   },
   {
    "duration": 547,
    "start_time": "2024-01-25T00:45:56.261Z"
   },
   {
    "duration": 652,
    "start_time": "2024-01-25T00:46:10.053Z"
   },
   {
    "duration": 164,
    "start_time": "2024-01-25T00:46:30.867Z"
   },
   {
    "duration": 519,
    "start_time": "2024-01-25T00:47:00.371Z"
   },
   {
    "duration": 475,
    "start_time": "2024-01-25T00:47:11.922Z"
   },
   {
    "duration": 521,
    "start_time": "2024-01-25T00:47:16.786Z"
   },
   {
    "duration": 70,
    "start_time": "2024-01-25T00:47:27.241Z"
   },
   {
    "duration": 69,
    "start_time": "2024-01-25T00:47:32.065Z"
   },
   {
    "duration": 596,
    "start_time": "2024-01-25T00:47:38.930Z"
   },
   {
    "duration": 19,
    "start_time": "2024-01-25T01:05:13.109Z"
   },
   {
    "duration": 13,
    "start_time": "2024-01-25T01:05:21.340Z"
   },
   {
    "duration": 286,
    "start_time": "2024-01-25T01:06:25.491Z"
   },
   {
    "duration": 320,
    "start_time": "2024-01-25T01:07:02.466Z"
   },
   {
    "duration": 4,
    "start_time": "2024-01-25T01:09:15.204Z"
   },
   {
    "duration": 14,
    "start_time": "2024-01-25T01:09:28.164Z"
   },
   {
    "duration": 9,
    "start_time": "2024-01-25T01:12:35.261Z"
   },
   {
    "duration": 22,
    "start_time": "2024-01-25T01:12:50.437Z"
   },
   {
    "duration": 17,
    "start_time": "2024-01-25T01:13:47.651Z"
   },
   {
    "duration": 17,
    "start_time": "2024-01-25T01:13:55.338Z"
   },
   {
    "duration": 14,
    "start_time": "2024-01-25T01:14:12.275Z"
   },
   {
    "duration": 213,
    "start_time": "2024-01-25T01:14:22.314Z"
   },
   {
    "duration": 217,
    "start_time": "2024-01-25T01:14:27.330Z"
   },
   {
    "duration": 238,
    "start_time": "2024-01-25T01:14:31.850Z"
   },
   {
    "duration": 246,
    "start_time": "2024-01-25T01:14:39.129Z"
   },
   {
    "duration": 5,
    "start_time": "2024-01-25T01:19:24.806Z"
   },
   {
    "duration": 247,
    "start_time": "2024-01-25T01:19:26.207Z"
   },
   {
    "duration": 398,
    "start_time": "2024-01-25T01:23:39.889Z"
   },
   {
    "duration": 8492,
    "start_time": "2024-01-25T01:38:28.493Z"
   },
   {
    "duration": 85,
    "start_time": "2024-01-25T01:38:36.987Z"
   },
   {
    "duration": 33,
    "start_time": "2024-01-25T01:38:37.073Z"
   },
   {
    "duration": 18,
    "start_time": "2024-01-25T01:38:37.108Z"
   },
   {
    "duration": 38,
    "start_time": "2024-01-25T01:38:37.129Z"
   },
   {
    "duration": 17,
    "start_time": "2024-01-25T01:38:37.169Z"
   },
   {
    "duration": 9,
    "start_time": "2024-01-25T01:38:37.189Z"
   },
   {
    "duration": 30,
    "start_time": "2024-01-25T01:38:37.200Z"
   },
   {
    "duration": 34,
    "start_time": "2024-01-25T01:38:37.232Z"
   },
   {
    "duration": 7,
    "start_time": "2024-01-25T01:38:37.267Z"
   },
   {
    "duration": 12,
    "start_time": "2024-01-25T01:38:37.275Z"
   },
   {
    "duration": 7,
    "start_time": "2024-01-25T01:38:37.289Z"
   },
   {
    "duration": 5,
    "start_time": "2024-01-25T01:38:37.298Z"
   },
   {
    "duration": 5,
    "start_time": "2024-01-25T01:38:37.306Z"
   },
   {
    "duration": 12,
    "start_time": "2024-01-25T01:38:37.312Z"
   },
   {
    "duration": 7,
    "start_time": "2024-01-25T01:38:37.358Z"
   },
   {
    "duration": 16,
    "start_time": "2024-01-25T01:38:37.366Z"
   },
   {
    "duration": 6,
    "start_time": "2024-01-25T01:38:37.384Z"
   },
   {
    "duration": 12,
    "start_time": "2024-01-25T01:38:37.392Z"
   },
   {
    "duration": 5,
    "start_time": "2024-01-25T01:38:37.406Z"
   },
   {
    "duration": 63,
    "start_time": "2024-01-25T01:38:37.413Z"
   },
   {
    "duration": 5,
    "start_time": "2024-01-25T01:38:37.477Z"
   },
   {
    "duration": 442,
    "start_time": "2024-01-25T01:38:37.484Z"
   },
   {
    "duration": 322,
    "start_time": "2024-01-25T01:38:37.928Z"
   },
   {
    "duration": 347,
    "start_time": "2024-01-25T01:38:38.259Z"
   },
   {
    "duration": 326,
    "start_time": "2024-01-25T01:38:38.608Z"
   },
   {
    "duration": 312,
    "start_time": "2024-01-25T01:38:38.936Z"
   },
   {
    "duration": 351,
    "start_time": "2024-01-25T01:38:39.249Z"
   },
   {
    "duration": 470,
    "start_time": "2024-01-25T01:38:39.602Z"
   },
   {
    "duration": 335,
    "start_time": "2024-01-25T01:38:40.074Z"
   },
   {
    "duration": 300,
    "start_time": "2024-01-25T01:38:40.419Z"
   },
   {
    "duration": 298,
    "start_time": "2024-01-25T01:38:40.721Z"
   },
   {
    "duration": 117,
    "start_time": "2024-01-25T01:38:41.020Z"
   },
   {
    "duration": 101,
    "start_time": "2024-01-25T01:38:41.139Z"
   },
   {
    "duration": 105,
    "start_time": "2024-01-25T01:38:41.242Z"
   },
   {
    "duration": 166,
    "start_time": "2024-01-25T01:38:41.349Z"
   },
   {
    "duration": 349,
    "start_time": "2024-01-25T01:38:41.517Z"
   },
   {
    "duration": 10,
    "start_time": "2024-01-25T01:38:41.868Z"
   },
   {
    "duration": 8,
    "start_time": "2024-01-25T01:38:41.879Z"
   },
   {
    "duration": 366,
    "start_time": "2024-01-25T01:38:41.889Z"
   },
   {
    "duration": 520,
    "start_time": "2024-01-25T01:38:42.260Z"
   },
   {
    "duration": 358,
    "start_time": "2024-01-25T01:38:42.782Z"
   },
   {
    "duration": 30,
    "start_time": "2024-01-25T01:38:43.142Z"
   },
   {
    "duration": 4,
    "start_time": "2024-01-25T01:38:43.174Z"
   },
   {
    "duration": 17,
    "start_time": "2024-01-25T01:38:43.179Z"
   },
   {
    "duration": 32,
    "start_time": "2024-01-25T01:38:43.198Z"
   },
   {
    "duration": 29,
    "start_time": "2024-01-25T01:38:43.231Z"
   },
   {
    "duration": 17,
    "start_time": "2024-01-25T01:38:43.262Z"
   },
   {
    "duration": 11,
    "start_time": "2024-01-25T01:38:43.281Z"
   },
   {
    "duration": 27,
    "start_time": "2024-01-25T01:38:43.294Z"
   },
   {
    "duration": 1497,
    "start_time": "2024-01-25T01:38:43.322Z"
   },
   {
    "duration": 12,
    "start_time": "2024-01-25T01:38:44.821Z"
   },
   {
    "duration": 2481,
    "start_time": "2024-01-25T01:38:44.835Z"
   },
   {
    "duration": 17,
    "start_time": "2024-01-25T01:38:47.318Z"
   },
   {
    "duration": 58,
    "start_time": "2024-01-25T01:38:47.337Z"
   },
   {
    "duration": 533,
    "start_time": "2024-01-25T01:38:47.397Z"
   },
   {
    "duration": 31,
    "start_time": "2024-01-25T01:38:47.931Z"
   },
   {
    "duration": 14,
    "start_time": "2024-01-25T01:38:47.964Z"
   },
   {
    "duration": 325,
    "start_time": "2024-01-25T01:38:47.979Z"
   },
   {
    "duration": 22,
    "start_time": "2024-01-25T01:38:48.306Z"
   },
   {
    "duration": 40,
    "start_time": "2024-01-25T01:38:48.330Z"
   },
   {
    "duration": 4,
    "start_time": "2024-01-25T01:38:48.372Z"
   },
   {
    "duration": 275,
    "start_time": "2024-01-25T01:38:48.378Z"
   },
   {
    "duration": 249,
    "start_time": "2024-01-25T01:38:48.658Z"
   },
   {
    "duration": 19632,
    "start_time": "2024-01-25T11:27:10.173Z"
   },
   {
    "duration": 247,
    "start_time": "2024-01-25T11:27:29.808Z"
   },
   {
    "duration": 35,
    "start_time": "2024-01-25T11:27:30.057Z"
   },
   {
    "duration": 49,
    "start_time": "2024-01-25T11:27:30.094Z"
   },
   {
    "duration": 72,
    "start_time": "2024-01-25T11:27:30.145Z"
   },
   {
    "duration": 116,
    "start_time": "2024-01-25T11:27:30.219Z"
   },
   {
    "duration": 54,
    "start_time": "2024-01-25T11:27:30.337Z"
   },
   {
    "duration": 71,
    "start_time": "2024-01-25T11:27:30.393Z"
   },
   {
    "duration": 33,
    "start_time": "2024-01-25T11:27:30.466Z"
   },
   {
    "duration": 32,
    "start_time": "2024-01-25T11:27:30.502Z"
   },
   {
    "duration": 38,
    "start_time": "2024-01-25T11:27:30.536Z"
   },
   {
    "duration": 38,
    "start_time": "2024-01-25T11:27:30.576Z"
   },
   {
    "duration": 35,
    "start_time": "2024-01-25T11:27:30.616Z"
   },
   {
    "duration": 28,
    "start_time": "2024-01-25T11:27:30.652Z"
   },
   {
    "duration": 42,
    "start_time": "2024-01-25T11:27:30.682Z"
   },
   {
    "duration": 47,
    "start_time": "2024-01-25T11:27:30.726Z"
   },
   {
    "duration": 29,
    "start_time": "2024-01-25T11:27:30.775Z"
   },
   {
    "duration": 37,
    "start_time": "2024-01-25T11:27:30.805Z"
   },
   {
    "duration": 36,
    "start_time": "2024-01-25T11:27:30.843Z"
   },
   {
    "duration": 11,
    "start_time": "2024-01-25T11:27:30.881Z"
   },
   {
    "duration": 116,
    "start_time": "2024-01-25T11:27:30.893Z"
   },
   {
    "duration": 5,
    "start_time": "2024-01-25T11:27:31.011Z"
   },
   {
    "duration": 538,
    "start_time": "2024-01-25T11:27:31.018Z"
   },
   {
    "duration": 347,
    "start_time": "2024-01-25T11:27:31.557Z"
   },
   {
    "duration": 344,
    "start_time": "2024-01-25T11:27:31.906Z"
   },
   {
    "duration": 373,
    "start_time": "2024-01-25T11:27:32.252Z"
   },
   {
    "duration": 346,
    "start_time": "2024-01-25T11:27:32.627Z"
   },
   {
    "duration": 343,
    "start_time": "2024-01-25T11:27:32.978Z"
   },
   {
    "duration": 511,
    "start_time": "2024-01-25T11:27:33.323Z"
   },
   {
    "duration": 355,
    "start_time": "2024-01-25T11:27:33.836Z"
   },
   {
    "duration": 326,
    "start_time": "2024-01-25T11:27:34.193Z"
   },
   {
    "duration": 341,
    "start_time": "2024-01-25T11:27:34.521Z"
   },
   {
    "duration": 122,
    "start_time": "2024-01-25T11:27:34.864Z"
   },
   {
    "duration": 114,
    "start_time": "2024-01-25T11:27:34.987Z"
   },
   {
    "duration": 120,
    "start_time": "2024-01-25T11:27:35.103Z"
   },
   {
    "duration": 173,
    "start_time": "2024-01-25T11:27:35.225Z"
   },
   {
    "duration": 370,
    "start_time": "2024-01-25T11:27:35.399Z"
   },
   {
    "duration": 10,
    "start_time": "2024-01-25T11:27:35.771Z"
   },
   {
    "duration": 7,
    "start_time": "2024-01-25T11:27:35.782Z"
   },
   {
    "duration": 384,
    "start_time": "2024-01-25T11:27:35.790Z"
   },
   {
    "duration": 551,
    "start_time": "2024-01-25T11:27:36.176Z"
   },
   {
    "duration": 413,
    "start_time": "2024-01-25T11:27:36.729Z"
   },
   {
    "duration": 37,
    "start_time": "2024-01-25T11:27:37.144Z"
   },
   {
    "duration": 4,
    "start_time": "2024-01-25T11:27:37.183Z"
   },
   {
    "duration": 34,
    "start_time": "2024-01-25T11:27:37.189Z"
   },
   {
    "duration": 49,
    "start_time": "2024-01-25T11:27:37.225Z"
   },
   {
    "duration": 4,
    "start_time": "2024-01-25T11:27:37.276Z"
   },
   {
    "duration": 35,
    "start_time": "2024-01-25T11:27:37.282Z"
   },
   {
    "duration": 19,
    "start_time": "2024-01-25T11:27:37.319Z"
   },
   {
    "duration": 83,
    "start_time": "2024-01-25T11:27:39.687Z"
   },
   {
    "duration": 28,
    "start_time": "2024-01-25T11:33:51.400Z"
   },
   {
    "duration": 6,
    "start_time": "2024-01-25T11:34:19.543Z"
   },
   {
    "duration": 16,
    "start_time": "2024-01-25T11:39:07.155Z"
   },
   {
    "duration": 4441,
    "start_time": "2024-01-25T11:39:07.174Z"
   },
   {
    "duration": 17,
    "start_time": "2024-01-25T11:39:11.617Z"
   },
   {
    "duration": 65,
    "start_time": "2024-01-25T11:39:11.636Z"
   },
   {
    "duration": 597,
    "start_time": "2024-01-25T11:39:11.703Z"
   },
   {
    "duration": 18,
    "start_time": "2024-01-25T11:39:12.302Z"
   },
   {
    "duration": 14,
    "start_time": "2024-01-25T11:39:12.321Z"
   },
   {
    "duration": 339,
    "start_time": "2024-01-25T11:39:12.336Z"
   },
   {
    "duration": 13,
    "start_time": "2024-01-25T11:39:12.677Z"
   },
   {
    "duration": 30,
    "start_time": "2024-01-25T11:39:12.692Z"
   },
   {
    "duration": 4,
    "start_time": "2024-01-25T11:39:12.724Z"
   },
   {
    "duration": 288,
    "start_time": "2024-01-25T11:39:12.729Z"
   },
   {
    "duration": 270,
    "start_time": "2024-01-25T11:39:13.019Z"
   },
   {
    "duration": 16,
    "start_time": "2024-01-25T11:39:22.713Z"
   },
   {
    "duration": 17,
    "start_time": "2024-01-25T11:39:35.418Z"
   },
   {
    "duration": 16,
    "start_time": "2024-01-25T11:40:01.816Z"
   },
   {
    "duration": 17,
    "start_time": "2024-01-25T11:40:11.057Z"
   },
   {
    "duration": 17,
    "start_time": "2024-01-25T11:40:17.553Z"
   },
   {
    "duration": 9544,
    "start_time": "2024-01-25T11:55:31.080Z"
   },
   {
    "duration": 6,
    "start_time": "2024-01-25T11:58:17.685Z"
   },
   {
    "duration": 40,
    "start_time": "2024-01-25T11:58:18.711Z"
   },
   {
    "duration": 4848,
    "start_time": "2024-01-25T11:58:34.724Z"
   },
   {
    "duration": 2410,
    "start_time": "2024-01-25T11:58:39.574Z"
   },
   {
    "duration": 245,
    "start_time": "2024-01-25T11:58:41.986Z"
   },
   {
    "duration": 26,
    "start_time": "2024-01-25T11:58:45.317Z"
   },
   {
    "duration": 15,
    "start_time": "2024-01-25T11:59:00.077Z"
   },
   {
    "duration": 14,
    "start_time": "2024-01-25T11:59:02.132Z"
   },
   {
    "duration": 14,
    "start_time": "2024-01-25T11:59:04.344Z"
   },
   {
    "duration": 83,
    "start_time": "2024-01-25T12:07:41.851Z"
   },
   {
    "duration": 17,
    "start_time": "2024-01-25T12:07:45.461Z"
   },
   {
    "duration": 13,
    "start_time": "2024-01-25T12:07:46.291Z"
   },
   {
    "duration": 13,
    "start_time": "2024-01-25T12:07:47.123Z"
   },
   {
    "duration": 80,
    "start_time": "2024-01-25T12:07:56.686Z"
   },
   {
    "duration": 27,
    "start_time": "2024-01-25T12:07:57.194Z"
   },
   {
    "duration": 16,
    "start_time": "2024-01-25T12:07:58.650Z"
   },
   {
    "duration": 14,
    "start_time": "2024-01-25T12:07:59.194Z"
   },
   {
    "duration": 15,
    "start_time": "2024-01-25T12:08:00.675Z"
   },
   {
    "duration": 7,
    "start_time": "2024-01-25T12:08:53.192Z"
   },
   {
    "duration": 5180,
    "start_time": "2024-01-25T13:02:24.287Z"
   },
   {
    "duration": 125,
    "start_time": "2024-01-25T13:02:29.469Z"
   },
   {
    "duration": 0,
    "start_time": "2024-01-25T13:02:29.596Z"
   },
   {
    "duration": 0,
    "start_time": "2024-01-25T13:02:29.597Z"
   },
   {
    "duration": 0,
    "start_time": "2024-01-25T13:02:29.598Z"
   },
   {
    "duration": 0,
    "start_time": "2024-01-25T13:02:29.599Z"
   },
   {
    "duration": 0,
    "start_time": "2024-01-25T13:02:29.600Z"
   },
   {
    "duration": 0,
    "start_time": "2024-01-25T13:02:29.601Z"
   },
   {
    "duration": 0,
    "start_time": "2024-01-25T13:02:29.602Z"
   },
   {
    "duration": 0,
    "start_time": "2024-01-25T13:02:29.603Z"
   },
   {
    "duration": 0,
    "start_time": "2024-01-25T13:02:29.604Z"
   },
   {
    "duration": 0,
    "start_time": "2024-01-25T13:02:29.605Z"
   },
   {
    "duration": 0,
    "start_time": "2024-01-25T13:02:29.606Z"
   },
   {
    "duration": 0,
    "start_time": "2024-01-25T13:02:29.607Z"
   },
   {
    "duration": 0,
    "start_time": "2024-01-25T13:02:29.608Z"
   },
   {
    "duration": 0,
    "start_time": "2024-01-25T13:02:29.609Z"
   },
   {
    "duration": 0,
    "start_time": "2024-01-25T13:02:29.610Z"
   },
   {
    "duration": 0,
    "start_time": "2024-01-25T13:02:29.611Z"
   },
   {
    "duration": 0,
    "start_time": "2024-01-25T13:02:29.612Z"
   },
   {
    "duration": 0,
    "start_time": "2024-01-25T13:02:29.613Z"
   },
   {
    "duration": 0,
    "start_time": "2024-01-25T13:02:29.614Z"
   },
   {
    "duration": 0,
    "start_time": "2024-01-25T13:02:29.615Z"
   },
   {
    "duration": 0,
    "start_time": "2024-01-25T13:02:29.615Z"
   },
   {
    "duration": 0,
    "start_time": "2024-01-25T13:02:29.645Z"
   },
   {
    "duration": 0,
    "start_time": "2024-01-25T13:02:29.646Z"
   },
   {
    "duration": 0,
    "start_time": "2024-01-25T13:02:29.647Z"
   },
   {
    "duration": 0,
    "start_time": "2024-01-25T13:02:29.648Z"
   },
   {
    "duration": 0,
    "start_time": "2024-01-25T13:02:29.649Z"
   },
   {
    "duration": 0,
    "start_time": "2024-01-25T13:02:29.650Z"
   },
   {
    "duration": 0,
    "start_time": "2024-01-25T13:02:29.651Z"
   },
   {
    "duration": 0,
    "start_time": "2024-01-25T13:02:29.652Z"
   },
   {
    "duration": 0,
    "start_time": "2024-01-25T13:02:29.652Z"
   },
   {
    "duration": 0,
    "start_time": "2024-01-25T13:02:29.653Z"
   },
   {
    "duration": 35,
    "start_time": "2024-01-25T13:03:09.941Z"
   },
   {
    "duration": 32,
    "start_time": "2024-01-25T13:03:20.702Z"
   },
   {
    "duration": 4,
    "start_time": "2024-01-25T13:27:42.877Z"
   },
   {
    "duration": 428,
    "start_time": "2024-01-25T13:27:44.318Z"
   },
   {
    "duration": 277,
    "start_time": "2024-01-25T13:27:44.748Z"
   },
   {
    "duration": 5,
    "start_time": "2024-01-25T13:34:00.695Z"
   },
   {
    "duration": 5056,
    "start_time": "2024-01-25T13:34:14.109Z"
   },
   {
    "duration": 5,
    "start_time": "2024-01-25T13:34:19.168Z"
   },
   {
    "duration": 139,
    "start_time": "2024-01-25T13:34:19.174Z"
   },
   {
    "duration": 33,
    "start_time": "2024-01-25T13:34:19.315Z"
   },
   {
    "duration": 21,
    "start_time": "2024-01-25T13:34:19.349Z"
   },
   {
    "duration": 37,
    "start_time": "2024-01-25T13:34:19.371Z"
   },
   {
    "duration": 50,
    "start_time": "2024-01-25T13:34:19.410Z"
   },
   {
    "duration": 43,
    "start_time": "2024-01-25T13:34:19.462Z"
   },
   {
    "duration": 40,
    "start_time": "2024-01-25T13:34:19.506Z"
   },
   {
    "duration": 33,
    "start_time": "2024-01-25T13:34:19.549Z"
   },
   {
    "duration": 35,
    "start_time": "2024-01-25T13:34:19.583Z"
   },
   {
    "duration": 35,
    "start_time": "2024-01-25T13:34:19.619Z"
   },
   {
    "duration": 42,
    "start_time": "2024-01-25T13:34:19.655Z"
   },
   {
    "duration": 29,
    "start_time": "2024-01-25T13:34:19.698Z"
   },
   {
    "duration": 38,
    "start_time": "2024-01-25T13:34:19.728Z"
   },
   {
    "duration": 30,
    "start_time": "2024-01-25T13:34:19.768Z"
   },
   {
    "duration": 33,
    "start_time": "2024-01-25T13:34:19.799Z"
   },
   {
    "duration": 39,
    "start_time": "2024-01-25T13:34:19.833Z"
   },
   {
    "duration": 37,
    "start_time": "2024-01-25T13:34:19.873Z"
   },
   {
    "duration": 27,
    "start_time": "2024-01-25T13:34:19.911Z"
   },
   {
    "duration": 32,
    "start_time": "2024-01-25T13:34:19.939Z"
   },
   {
    "duration": 49,
    "start_time": "2024-01-25T13:34:19.972Z"
   },
   {
    "duration": 6,
    "start_time": "2024-01-25T13:34:20.022Z"
   },
   {
    "duration": 370,
    "start_time": "2024-01-25T13:34:20.029Z"
   },
   {
    "duration": 303,
    "start_time": "2024-01-25T13:34:20.400Z"
   },
   {
    "duration": 291,
    "start_time": "2024-01-25T13:34:20.704Z"
   },
   {
    "duration": 276,
    "start_time": "2024-01-25T13:34:20.997Z"
   },
   {
    "duration": 403,
    "start_time": "2024-01-25T13:34:21.276Z"
   },
   {
    "duration": 279,
    "start_time": "2024-01-25T13:34:21.680Z"
   },
   {
    "duration": 290,
    "start_time": "2024-01-25T13:34:21.961Z"
   },
   {
    "duration": 285,
    "start_time": "2024-01-25T13:34:22.252Z"
   },
   {
    "duration": 276,
    "start_time": "2024-01-25T13:34:22.539Z"
   },
   {
    "duration": 274,
    "start_time": "2024-01-25T13:34:22.816Z"
   },
   {
    "duration": 322,
    "start_time": "2024-01-25T13:38:39.264Z"
   },
   {
    "duration": 6,
    "start_time": "2024-01-25T13:43:06.637Z"
   },
   {
    "duration": 196,
    "start_time": "2024-01-25T13:43:53.718Z"
   },
   {
    "duration": 4,
    "start_time": "2024-01-25T13:44:16.035Z"
   },
   {
    "duration": 4,
    "start_time": "2024-01-25T13:44:54.464Z"
   },
   {
    "duration": 4,
    "start_time": "2024-01-25T13:45:35.224Z"
   },
   {
    "duration": 5,
    "start_time": "2024-01-25T14:16:45.649Z"
   },
   {
    "duration": 3,
    "start_time": "2024-01-25T14:17:06.145Z"
   },
   {
    "duration": 4,
    "start_time": "2024-01-25T14:17:19.056Z"
   },
   {
    "duration": 4,
    "start_time": "2024-01-25T14:18:58.548Z"
   },
   {
    "duration": 5177,
    "start_time": "2024-01-25T14:19:03.349Z"
   },
   {
    "duration": 5,
    "start_time": "2024-01-25T14:19:08.529Z"
   },
   {
    "duration": 110,
    "start_time": "2024-01-25T14:19:08.536Z"
   },
   {
    "duration": 25,
    "start_time": "2024-01-25T14:19:08.648Z"
   },
   {
    "duration": 42,
    "start_time": "2024-01-25T14:19:08.674Z"
   },
   {
    "duration": 36,
    "start_time": "2024-01-25T14:19:08.717Z"
   },
   {
    "duration": 60,
    "start_time": "2024-01-25T14:19:08.754Z"
   },
   {
    "duration": 48,
    "start_time": "2024-01-25T14:19:08.815Z"
   },
   {
    "duration": 38,
    "start_time": "2024-01-25T14:19:08.865Z"
   },
   {
    "duration": 8,
    "start_time": "2024-01-25T14:19:08.905Z"
   },
   {
    "duration": 6,
    "start_time": "2024-01-25T14:19:08.915Z"
   },
   {
    "duration": 31,
    "start_time": "2024-01-25T14:19:08.922Z"
   },
   {
    "duration": 55,
    "start_time": "2024-01-25T14:19:08.954Z"
   },
   {
    "duration": 20,
    "start_time": "2024-01-25T14:19:09.010Z"
   },
   {
    "duration": 9,
    "start_time": "2024-01-25T14:19:09.032Z"
   },
   {
    "duration": 12,
    "start_time": "2024-01-25T14:19:09.042Z"
   },
   {
    "duration": 38,
    "start_time": "2024-01-25T14:19:09.055Z"
   },
   {
    "duration": 22,
    "start_time": "2024-01-25T14:19:09.094Z"
   },
   {
    "duration": 9,
    "start_time": "2024-01-25T14:19:09.118Z"
   },
   {
    "duration": 10,
    "start_time": "2024-01-25T14:19:09.128Z"
   },
   {
    "duration": 28,
    "start_time": "2024-01-25T14:19:09.139Z"
   },
   {
    "duration": 41,
    "start_time": "2024-01-25T14:19:09.168Z"
   },
   {
    "duration": 4,
    "start_time": "2024-01-25T14:19:09.210Z"
   },
   {
    "duration": 444,
    "start_time": "2024-01-25T14:19:09.216Z"
   },
   {
    "duration": 282,
    "start_time": "2024-01-25T14:19:09.661Z"
   },
   {
    "duration": 269,
    "start_time": "2024-01-25T14:19:09.944Z"
   },
   {
    "duration": 271,
    "start_time": "2024-01-25T14:19:10.214Z"
   },
   {
    "duration": 272,
    "start_time": "2024-01-25T14:19:10.488Z"
   },
   {
    "duration": 274,
    "start_time": "2024-01-25T14:19:10.762Z"
   },
   {
    "duration": 271,
    "start_time": "2024-01-25T14:19:11.045Z"
   },
   {
    "duration": 391,
    "start_time": "2024-01-25T14:19:11.317Z"
   },
   {
    "duration": 251,
    "start_time": "2024-01-25T14:19:11.710Z"
   },
   {
    "duration": 262,
    "start_time": "2024-01-25T14:19:11.962Z"
   },
   {
    "duration": 94,
    "start_time": "2024-01-25T14:19:12.226Z"
   },
   {
    "duration": 88,
    "start_time": "2024-01-25T14:19:12.322Z"
   },
   {
    "duration": 93,
    "start_time": "2024-01-25T14:19:12.411Z"
   },
   {
    "duration": 137,
    "start_time": "2024-01-25T14:19:12.506Z"
   },
   {
    "duration": 316,
    "start_time": "2024-01-25T14:19:12.644Z"
   },
   {
    "duration": 8,
    "start_time": "2024-01-25T14:19:12.962Z"
   },
   {
    "duration": 34,
    "start_time": "2024-01-25T14:19:12.971Z"
   },
   {
    "duration": 304,
    "start_time": "2024-01-25T14:19:13.006Z"
   },
   {
    "duration": 1400,
    "start_time": "2024-01-25T14:19:13.312Z"
   },
   {
    "duration": 0,
    "start_time": "2024-01-25T14:19:14.714Z"
   },
   {
    "duration": 0,
    "start_time": "2024-01-25T14:19:14.715Z"
   },
   {
    "duration": 319,
    "start_time": "2024-01-25T14:20:09.970Z"
   },
   {
    "duration": 3,
    "start_time": "2024-01-25T14:20:15.290Z"
   },
   {
    "duration": 9,
    "start_time": "2024-01-25T14:20:16.403Z"
   },
   {
    "duration": 3,
    "start_time": "2024-01-25T14:22:13.354Z"
   },
   {
    "duration": 1195,
    "start_time": "2024-01-25T14:25:22.369Z"
   },
   {
    "duration": 1940,
    "start_time": "2024-01-25T14:25:51.815Z"
   },
   {
    "duration": 1395,
    "start_time": "2024-01-25T14:26:27.406Z"
   },
   {
    "duration": 18,
    "start_time": "2024-01-25T14:26:46.989Z"
   },
   {
    "duration": 427,
    "start_time": "2024-01-25T14:27:27.915Z"
   },
   {
    "duration": 273,
    "start_time": "2024-01-25T14:32:07.498Z"
   },
   {
    "duration": 263,
    "start_time": "2024-01-25T14:32:21.338Z"
   },
   {
    "duration": 229,
    "start_time": "2024-01-25T14:34:21.822Z"
   },
   {
    "duration": 211,
    "start_time": "2024-01-25T14:34:56.524Z"
   },
   {
    "duration": 288,
    "start_time": "2024-01-25T14:35:39.724Z"
   },
   {
    "duration": 214,
    "start_time": "2024-01-25T14:36:05.466Z"
   },
   {
    "duration": 226,
    "start_time": "2024-01-25T14:36:41.826Z"
   },
   {
    "duration": 218,
    "start_time": "2024-01-25T14:37:14.856Z"
   },
   {
    "duration": 235,
    "start_time": "2024-01-25T14:37:34.072Z"
   },
   {
    "duration": 265,
    "start_time": "2024-01-25T14:38:14.263Z"
   },
   {
    "duration": 145,
    "start_time": "2024-01-25T14:38:54.157Z"
   },
   {
    "duration": 192,
    "start_time": "2024-01-25T14:39:09.956Z"
   },
   {
    "duration": 106,
    "start_time": "2024-01-25T14:39:27.532Z"
   },
   {
    "duration": 450,
    "start_time": "2024-01-25T14:41:43.231Z"
   },
   {
    "duration": 289,
    "start_time": "2024-01-25T14:42:01.711Z"
   },
   {
    "duration": 191,
    "start_time": "2024-01-25T14:43:51.611Z"
   },
   {
    "duration": 188,
    "start_time": "2024-01-25T14:43:59.110Z"
   },
   {
    "duration": 189,
    "start_time": "2024-01-25T14:44:08.002Z"
   },
   {
    "duration": 202,
    "start_time": "2024-01-25T14:44:15.403Z"
   },
   {
    "duration": 184,
    "start_time": "2024-01-25T14:44:22.810Z"
   },
   {
    "duration": 189,
    "start_time": "2024-01-25T14:45:06.105Z"
   },
   {
    "duration": 319,
    "start_time": "2024-01-25T14:45:13.456Z"
   },
   {
    "duration": 235,
    "start_time": "2024-01-25T14:46:01.399Z"
   },
   {
    "duration": 237,
    "start_time": "2024-01-25T14:46:10.118Z"
   },
   {
    "duration": 13,
    "start_time": "2024-01-25T15:06:44.847Z"
   },
   {
    "duration": 4996,
    "start_time": "2024-01-25T15:06:51.399Z"
   },
   {
    "duration": 6,
    "start_time": "2024-01-25T15:06:56.397Z"
   },
   {
    "duration": 104,
    "start_time": "2024-01-25T15:06:56.404Z"
   },
   {
    "duration": 24,
    "start_time": "2024-01-25T15:06:56.510Z"
   },
   {
    "duration": 27,
    "start_time": "2024-01-25T15:06:56.535Z"
   },
   {
    "duration": 14,
    "start_time": "2024-01-25T15:06:56.563Z"
   },
   {
    "duration": 38,
    "start_time": "2024-01-25T15:06:56.578Z"
   },
   {
    "duration": 7,
    "start_time": "2024-01-25T15:06:56.617Z"
   },
   {
    "duration": 66,
    "start_time": "2024-01-25T15:06:56.626Z"
   },
   {
    "duration": 10,
    "start_time": "2024-01-25T15:06:56.694Z"
   },
   {
    "duration": 15,
    "start_time": "2024-01-25T15:06:56.706Z"
   },
   {
    "duration": 45,
    "start_time": "2024-01-25T15:06:56.723Z"
   },
   {
    "duration": 33,
    "start_time": "2024-01-25T15:06:56.770Z"
   },
   {
    "duration": 34,
    "start_time": "2024-01-25T15:06:56.805Z"
   },
   {
    "duration": 96,
    "start_time": "2024-01-25T15:06:56.840Z"
   },
   {
    "duration": 56,
    "start_time": "2024-01-25T15:06:56.937Z"
   },
   {
    "duration": 30,
    "start_time": "2024-01-25T15:06:56.994Z"
   },
   {
    "duration": 29,
    "start_time": "2024-01-25T15:06:57.025Z"
   },
   {
    "duration": 13,
    "start_time": "2024-01-25T15:06:57.055Z"
   },
   {
    "duration": 27,
    "start_time": "2024-01-25T15:06:57.069Z"
   },
   {
    "duration": 28,
    "start_time": "2024-01-25T15:06:57.098Z"
   },
   {
    "duration": 51,
    "start_time": "2024-01-25T15:06:57.128Z"
   },
   {
    "duration": 5,
    "start_time": "2024-01-25T15:06:57.180Z"
   },
   {
    "duration": 348,
    "start_time": "2024-01-25T15:06:57.186Z"
   },
   {
    "duration": 310,
    "start_time": "2024-01-25T15:06:57.535Z"
   },
   {
    "duration": 276,
    "start_time": "2024-01-25T15:06:57.847Z"
   },
   {
    "duration": 270,
    "start_time": "2024-01-25T15:06:58.124Z"
   },
   {
    "duration": 270,
    "start_time": "2024-01-25T15:06:58.398Z"
   },
   {
    "duration": 422,
    "start_time": "2024-01-25T15:06:58.670Z"
   },
   {
    "duration": 284,
    "start_time": "2024-01-25T15:06:59.094Z"
   },
   {
    "duration": 283,
    "start_time": "2024-01-25T15:06:59.379Z"
   },
   {
    "duration": 263,
    "start_time": "2024-01-25T15:06:59.664Z"
   },
   {
    "duration": 281,
    "start_time": "2024-01-25T15:06:59.929Z"
   },
   {
    "duration": 271,
    "start_time": "2024-01-25T15:07:00.212Z"
   },
   {
    "duration": 254,
    "start_time": "2024-01-25T15:07:00.484Z"
   },
   {
    "duration": 233,
    "start_time": "2024-01-25T15:07:00.739Z"
   },
   {
    "duration": 454,
    "start_time": "2024-01-25T15:07:00.973Z"
   },
   {
    "duration": 226,
    "start_time": "2024-01-25T15:07:01.429Z"
   },
   {
    "duration": 241,
    "start_time": "2024-01-25T15:07:01.657Z"
   },
   {
    "duration": 239,
    "start_time": "2024-01-25T15:07:01.900Z"
   },
   {
    "duration": 244,
    "start_time": "2024-01-25T15:07:02.141Z"
   },
   {
    "duration": 226,
    "start_time": "2024-01-25T15:07:02.386Z"
   },
   {
    "duration": 178,
    "start_time": "2024-01-25T15:07:02.614Z"
   },
   {
    "duration": 245,
    "start_time": "2024-01-25T15:07:02.794Z"
   },
   {
    "duration": 88,
    "start_time": "2024-01-25T15:07:03.040Z"
   },
   {
    "duration": 163,
    "start_time": "2024-01-25T15:07:03.130Z"
   },
   {
    "duration": 93,
    "start_time": "2024-01-25T15:07:03.294Z"
   },
   {
    "duration": 220,
    "start_time": "2024-01-25T15:07:03.389Z"
   },
   {
    "duration": 299,
    "start_time": "2024-01-25T15:07:03.611Z"
   },
   {
    "duration": 9,
    "start_time": "2024-01-25T15:07:03.911Z"
   },
   {
    "duration": 33,
    "start_time": "2024-01-25T15:07:03.921Z"
   },
   {
    "duration": 310,
    "start_time": "2024-01-25T15:07:03.955Z"
   },
   {
    "duration": 457,
    "start_time": "2024-01-25T15:07:04.266Z"
   },
   {
    "duration": 309,
    "start_time": "2024-01-25T15:07:04.724Z"
   },
   {
    "duration": 23,
    "start_time": "2024-01-25T15:07:05.035Z"
   },
   {
    "duration": 15,
    "start_time": "2024-01-25T15:07:05.060Z"
   },
   {
    "duration": 22,
    "start_time": "2024-01-25T15:07:05.077Z"
   },
   {
    "duration": 30,
    "start_time": "2024-01-25T15:07:05.100Z"
   },
   {
    "duration": 4,
    "start_time": "2024-01-25T15:07:05.131Z"
   },
   {
    "duration": 37,
    "start_time": "2024-01-25T15:07:05.137Z"
   },
   {
    "duration": 14,
    "start_time": "2024-01-25T15:07:05.176Z"
   },
   {
    "duration": 42,
    "start_time": "2024-01-25T15:07:05.192Z"
   },
   {
    "duration": 1351,
    "start_time": "2024-01-25T15:07:05.236Z"
   },
   {
    "duration": 18,
    "start_time": "2024-01-25T15:07:42.771Z"
   },
   {
    "duration": 1248,
    "start_time": "2024-01-25T15:08:23.993Z"
   },
   {
    "duration": 25440,
    "start_time": "2024-01-25T15:15:14.451Z"
   },
   {
    "duration": 28950,
    "start_time": "2024-01-25T15:22:58.219Z"
   },
   {
    "duration": 369,
    "start_time": "2024-01-25T15:23:27.171Z"
   },
   {
    "duration": 292,
    "start_time": "2024-01-25T15:25:09.078Z"
   },
   {
    "duration": 13,
    "start_time": "2024-01-25T16:59:12.127Z"
   },
   {
    "duration": 5,
    "start_time": "2024-01-25T16:59:21.814Z"
   },
   {
    "duration": 5015,
    "start_time": "2024-01-25T17:00:55.444Z"
   },
   {
    "duration": 2400,
    "start_time": "2024-01-25T17:01:00.461Z"
   },
   {
    "duration": 86,
    "start_time": "2024-01-25T17:01:02.864Z"
   },
   {
    "duration": 332,
    "start_time": "2024-01-25T17:01:02.952Z"
   },
   {
    "duration": 138,
    "start_time": "2024-01-25T17:01:03.285Z"
   },
   {
    "duration": 264,
    "start_time": "2024-01-25T17:01:03.425Z"
   },
   {
    "duration": 809,
    "start_time": "2024-01-25T17:01:03.690Z"
   },
   {
    "duration": 20,
    "start_time": "2024-01-25T17:01:04.501Z"
   },
   {
    "duration": 31,
    "start_time": "2024-01-25T17:01:04.524Z"
   },
   {
    "duration": 14,
    "start_time": "2024-01-25T17:01:04.556Z"
   },
   {
    "duration": 40,
    "start_time": "2024-01-25T17:01:04.572Z"
   },
   {
    "duration": 22,
    "start_time": "2024-01-25T17:01:04.614Z"
   },
   {
    "duration": 20,
    "start_time": "2024-01-25T17:01:04.638Z"
   },
   {
    "duration": 23,
    "start_time": "2024-01-25T17:01:04.659Z"
   },
   {
    "duration": 8,
    "start_time": "2024-01-25T17:01:04.684Z"
   },
   {
    "duration": 36,
    "start_time": "2024-01-25T17:01:04.694Z"
   },
   {
    "duration": 43,
    "start_time": "2024-01-25T17:01:04.732Z"
   },
   {
    "duration": 20,
    "start_time": "2024-01-25T17:01:04.776Z"
   },
   {
    "duration": 5,
    "start_time": "2024-01-25T17:01:04.797Z"
   },
   {
    "duration": 13,
    "start_time": "2024-01-25T17:01:04.803Z"
   },
   {
    "duration": 5,
    "start_time": "2024-01-25T17:01:04.817Z"
   },
   {
    "duration": 29,
    "start_time": "2024-01-25T17:01:04.824Z"
   },
   {
    "duration": 4,
    "start_time": "2024-01-25T17:01:04.854Z"
   },
   {
    "duration": 369,
    "start_time": "2024-01-25T17:01:04.860Z"
   },
   {
    "duration": 285,
    "start_time": "2024-01-25T17:01:05.231Z"
   },
   {
    "duration": 288,
    "start_time": "2024-01-25T17:01:05.517Z"
   },
   {
    "duration": 263,
    "start_time": "2024-01-25T17:01:05.808Z"
   },
   {
    "duration": 267,
    "start_time": "2024-01-25T17:01:06.073Z"
   },
   {
    "duration": 279,
    "start_time": "2024-01-25T17:01:06.342Z"
   },
   {
    "duration": 388,
    "start_time": "2024-01-25T17:01:06.622Z"
   },
   {
    "duration": 277,
    "start_time": "2024-01-25T17:01:07.012Z"
   },
   {
    "duration": 264,
    "start_time": "2024-01-25T17:01:07.290Z"
   },
   {
    "duration": 272,
    "start_time": "2024-01-25T17:01:07.556Z"
   },
   {
    "duration": 270,
    "start_time": "2024-01-25T17:01:07.830Z"
   },
   {
    "duration": 245,
    "start_time": "2024-01-25T17:01:08.102Z"
   },
   {
    "duration": 206,
    "start_time": "2024-01-25T17:01:08.348Z"
   },
   {
    "duration": 297,
    "start_time": "2024-01-25T17:01:08.556Z"
   },
   {
    "duration": 210,
    "start_time": "2024-01-25T17:01:08.854Z"
   },
   {
    "duration": 357,
    "start_time": "2024-01-25T17:01:09.066Z"
   },
   {
    "duration": 236,
    "start_time": "2024-01-25T17:01:09.425Z"
   },
   {
    "duration": 242,
    "start_time": "2024-01-25T17:01:09.662Z"
   },
   {
    "duration": 145,
    "start_time": "2024-01-25T17:01:09.906Z"
   },
   {
    "duration": 159,
    "start_time": "2024-01-25T17:01:10.053Z"
   },
   {
    "duration": 239,
    "start_time": "2024-01-25T17:01:10.213Z"
   },
   {
    "duration": 96,
    "start_time": "2024-01-25T17:01:10.453Z"
   },
   {
    "duration": 94,
    "start_time": "2024-01-25T17:01:10.551Z"
   },
   {
    "duration": 86,
    "start_time": "2024-01-25T17:01:10.647Z"
   },
   {
    "duration": 129,
    "start_time": "2024-01-25T17:01:10.744Z"
   },
   {
    "duration": 291,
    "start_time": "2024-01-25T17:01:10.875Z"
   },
   {
    "duration": 9,
    "start_time": "2024-01-25T17:01:11.167Z"
   },
   {
    "duration": 10,
    "start_time": "2024-01-25T17:01:11.177Z"
   },
   {
    "duration": 306,
    "start_time": "2024-01-25T17:01:11.188Z"
   },
   {
    "duration": 434,
    "start_time": "2024-01-25T17:01:11.495Z"
   },
   {
    "duration": 304,
    "start_time": "2024-01-25T17:01:11.931Z"
   },
   {
    "duration": 20,
    "start_time": "2024-01-25T17:01:12.236Z"
   },
   {
    "duration": 3,
    "start_time": "2024-01-25T17:01:12.257Z"
   },
   {
    "duration": 18,
    "start_time": "2024-01-25T17:01:12.262Z"
   },
   {
    "duration": 27,
    "start_time": "2024-01-25T17:01:12.281Z"
   },
   {
    "duration": 4,
    "start_time": "2024-01-25T17:01:12.309Z"
   },
   {
    "duration": 39,
    "start_time": "2024-01-25T17:01:12.314Z"
   },
   {
    "duration": 23,
    "start_time": "2024-01-25T17:01:12.354Z"
   },
   {
    "duration": 1280,
    "start_time": "2024-01-25T17:01:12.378Z"
   },
   {
    "duration": 25890,
    "start_time": "2024-01-25T17:01:13.660Z"
   },
   {
    "duration": 333,
    "start_time": "2024-01-25T17:01:39.551Z"
   },
   {
    "duration": 277,
    "start_time": "2024-01-25T17:01:39.886Z"
   },
   {
    "duration": 12,
    "start_time": "2024-01-25T17:01:40.165Z"
   },
   {
    "duration": 4,
    "start_time": "2024-01-25T17:01:40.179Z"
   },
   {
    "duration": 2196,
    "start_time": "2024-01-25T17:01:40.184Z"
   },
   {
    "duration": 16,
    "start_time": "2024-01-25T17:01:42.381Z"
   },
   {
    "duration": 57,
    "start_time": "2024-01-25T17:01:42.399Z"
   },
   {
    "duration": 546,
    "start_time": "2024-01-25T17:01:42.458Z"
   },
   {
    "duration": 17,
    "start_time": "2024-01-25T17:01:43.005Z"
   },
   {
    "duration": 27,
    "start_time": "2024-01-25T17:01:43.023Z"
   },
   {
    "duration": 314,
    "start_time": "2024-01-25T17:01:43.051Z"
   },
   {
    "duration": 12,
    "start_time": "2024-01-25T17:01:43.367Z"
   },
   {
    "duration": 21,
    "start_time": "2024-01-25T17:01:43.380Z"
   },
   {
    "duration": 3,
    "start_time": "2024-01-25T17:01:43.402Z"
   },
   {
    "duration": 241,
    "start_time": "2024-01-25T17:01:43.407Z"
   },
   {
    "duration": 216,
    "start_time": "2024-01-25T17:01:43.649Z"
   },
   {
    "duration": 6,
    "start_time": "2024-01-25T17:40:16.973Z"
   },
   {
    "duration": 6,
    "start_time": "2024-01-25T17:40:49.193Z"
   },
   {
    "duration": 6,
    "start_time": "2024-01-25T17:41:18.271Z"
   },
   {
    "duration": 6,
    "start_time": "2024-01-25T17:42:57.018Z"
   },
   {
    "duration": 11,
    "start_time": "2024-01-25T17:46:57.236Z"
   },
   {
    "duration": 166,
    "start_time": "2024-01-25T17:48:14.934Z"
   },
   {
    "duration": 8,
    "start_time": "2024-01-25T17:51:40.562Z"
   },
   {
    "duration": 12,
    "start_time": "2024-01-25T17:52:48.441Z"
   },
   {
    "duration": 15,
    "start_time": "2024-01-25T17:53:15.521Z"
   },
   {
    "duration": 10,
    "start_time": "2024-01-25T18:00:54.641Z"
   },
   {
    "duration": 4,
    "start_time": "2024-01-25T18:01:03.416Z"
   },
   {
    "duration": 4,
    "start_time": "2024-01-25T18:01:27.901Z"
   },
   {
    "duration": 5676,
    "start_time": "2024-01-25T18:01:38.150Z"
   },
   {
    "duration": 7,
    "start_time": "2024-01-25T18:01:43.828Z"
   },
   {
    "duration": 117,
    "start_time": "2024-01-25T18:01:43.837Z"
   },
   {
    "duration": 23,
    "start_time": "2024-01-25T18:01:43.955Z"
   },
   {
    "duration": 15,
    "start_time": "2024-01-25T18:01:43.980Z"
   },
   {
    "duration": 23,
    "start_time": "2024-01-25T18:01:43.997Z"
   },
   {
    "duration": 17,
    "start_time": "2024-01-25T18:01:44.021Z"
   },
   {
    "duration": 6,
    "start_time": "2024-01-25T18:01:44.040Z"
   },
   {
    "duration": 78,
    "start_time": "2024-01-25T18:01:44.048Z"
   },
   {
    "duration": 10,
    "start_time": "2024-01-25T18:01:44.127Z"
   },
   {
    "duration": 6,
    "start_time": "2024-01-25T18:01:44.138Z"
   },
   {
    "duration": 5,
    "start_time": "2024-01-25T18:01:44.145Z"
   },
   {
    "duration": 6,
    "start_time": "2024-01-25T18:01:44.151Z"
   },
   {
    "duration": 4,
    "start_time": "2024-01-25T18:01:44.160Z"
   },
   {
    "duration": 4,
    "start_time": "2024-01-25T18:01:44.166Z"
   },
   {
    "duration": 8,
    "start_time": "2024-01-25T18:01:44.171Z"
   },
   {
    "duration": 10,
    "start_time": "2024-01-25T18:01:44.180Z"
   },
   {
    "duration": 13,
    "start_time": "2024-01-25T18:01:44.191Z"
   },
   {
    "duration": 11,
    "start_time": "2024-01-25T18:01:44.206Z"
   },
   {
    "duration": 34,
    "start_time": "2024-01-25T18:01:44.218Z"
   },
   {
    "duration": 11,
    "start_time": "2024-01-25T18:01:44.254Z"
   },
   {
    "duration": 36,
    "start_time": "2024-01-25T18:01:44.267Z"
   },
   {
    "duration": 4,
    "start_time": "2024-01-25T18:01:44.305Z"
   },
   {
    "duration": 303,
    "start_time": "2024-01-25T18:01:44.310Z"
   },
   {
    "duration": 301,
    "start_time": "2024-01-25T18:01:44.614Z"
   },
   {
    "duration": 296,
    "start_time": "2024-01-25T18:01:44.917Z"
   },
   {
    "duration": 286,
    "start_time": "2024-01-25T18:01:45.215Z"
   },
   {
    "duration": 300,
    "start_time": "2024-01-25T18:01:45.502Z"
   },
   {
    "duration": 334,
    "start_time": "2024-01-25T18:01:45.804Z"
   },
   {
    "duration": 315,
    "start_time": "2024-01-25T18:01:46.139Z"
   },
   {
    "duration": 294,
    "start_time": "2024-01-25T18:01:46.455Z"
   },
   {
    "duration": 277,
    "start_time": "2024-01-25T18:01:46.750Z"
   },
   {
    "duration": 325,
    "start_time": "2024-01-25T18:01:47.029Z"
   },
   {
    "duration": 271,
    "start_time": "2024-01-25T18:01:47.356Z"
   },
   {
    "duration": 266,
    "start_time": "2024-01-25T18:01:47.629Z"
   },
   {
    "duration": 234,
    "start_time": "2024-01-25T18:01:47.896Z"
   },
   {
    "duration": 694,
    "start_time": "2024-01-25T18:01:48.131Z"
   },
   {
    "duration": 224,
    "start_time": "2024-01-25T18:01:48.827Z"
   },
   {
    "duration": 248,
    "start_time": "2024-01-25T18:01:49.052Z"
   },
   {
    "duration": 243,
    "start_time": "2024-01-25T18:01:49.301Z"
   },
   {
    "duration": 248,
    "start_time": "2024-01-25T18:01:49.547Z"
   },
   {
    "duration": 149,
    "start_time": "2024-01-25T18:01:49.796Z"
   },
   {
    "duration": 148,
    "start_time": "2024-01-25T18:01:49.947Z"
   },
   {
    "duration": 245,
    "start_time": "2024-01-25T18:01:50.096Z"
   },
   {
    "duration": 86,
    "start_time": "2024-01-25T18:01:50.342Z"
   },
   {
    "duration": 81,
    "start_time": "2024-01-25T18:01:50.444Z"
   },
   {
    "duration": 98,
    "start_time": "2024-01-25T18:01:50.527Z"
   },
   {
    "duration": 141,
    "start_time": "2024-01-25T18:01:50.626Z"
   },
   {
    "duration": 303,
    "start_time": "2024-01-25T18:01:50.769Z"
   },
   {
    "duration": 10,
    "start_time": "2024-01-25T18:01:51.074Z"
   },
   {
    "duration": 6,
    "start_time": "2024-01-25T18:01:51.085Z"
   },
   {
    "duration": 348,
    "start_time": "2024-01-25T18:01:51.092Z"
   },
   {
    "duration": 349,
    "start_time": "2024-01-25T18:01:51.445Z"
   },
   {
    "duration": 316,
    "start_time": "2024-01-25T18:01:51.796Z"
   },
   {
    "duration": 15,
    "start_time": "2024-01-25T18:01:52.114Z"
   },
   {
    "duration": 21,
    "start_time": "2024-01-25T18:01:52.130Z"
   },
   {
    "duration": 29,
    "start_time": "2024-01-25T18:01:52.152Z"
   },
   {
    "duration": 25,
    "start_time": "2024-01-25T18:01:52.183Z"
   },
   {
    "duration": 3,
    "start_time": "2024-01-25T18:01:52.210Z"
   },
   {
    "duration": 22,
    "start_time": "2024-01-25T18:01:52.214Z"
   },
   {
    "duration": 26,
    "start_time": "2024-01-25T18:01:52.237Z"
   },
   {
    "duration": 1384,
    "start_time": "2024-01-25T18:01:52.265Z"
   },
   {
    "duration": 28268,
    "start_time": "2024-01-25T18:01:53.650Z"
   },
   {
    "duration": 355,
    "start_time": "2024-01-25T18:02:21.920Z"
   },
   {
    "duration": 693,
    "start_time": "2024-01-25T18:02:22.277Z"
   },
   {
    "duration": 10,
    "start_time": "2024-01-25T18:02:22.971Z"
   },
   {
    "duration": 4,
    "start_time": "2024-01-25T18:02:39.017Z"
   },
   {
    "duration": 9,
    "start_time": "2024-01-25T18:09:24.757Z"
   },
   {
    "duration": 2038,
    "start_time": "2024-01-25T18:10:29.556Z"
   },
   {
    "duration": 14,
    "start_time": "2024-01-25T18:12:41.344Z"
   },
   {
    "duration": 7,
    "start_time": "2024-01-25T18:28:55.083Z"
   },
   {
    "duration": 10,
    "start_time": "2024-01-25T19:43:24.281Z"
   },
   {
    "duration": 8,
    "start_time": "2024-01-25T19:43:46.259Z"
   },
   {
    "duration": 14,
    "start_time": "2024-01-25T19:43:56.927Z"
   },
   {
    "duration": 9,
    "start_time": "2024-01-25T19:44:09.255Z"
   },
   {
    "duration": 4802,
    "start_time": "2024-01-25T20:05:31.862Z"
   },
   {
    "duration": 2111,
    "start_time": "2024-01-25T20:05:36.667Z"
   },
   {
    "duration": 84,
    "start_time": "2024-01-25T20:05:38.779Z"
   },
   {
    "duration": 27,
    "start_time": "2024-01-25T20:05:38.865Z"
   },
   {
    "duration": 17,
    "start_time": "2024-01-25T20:05:38.894Z"
   },
   {
    "duration": 12,
    "start_time": "2024-01-25T20:05:38.912Z"
   },
   {
    "duration": 42,
    "start_time": "2024-01-25T20:05:38.926Z"
   },
   {
    "duration": 19,
    "start_time": "2024-01-25T20:05:38.969Z"
   },
   {
    "duration": 31,
    "start_time": "2024-01-25T20:05:38.990Z"
   },
   {
    "duration": 10,
    "start_time": "2024-01-25T20:05:39.023Z"
   },
   {
    "duration": 8,
    "start_time": "2024-01-25T20:05:39.034Z"
   },
   {
    "duration": 11,
    "start_time": "2024-01-25T20:05:39.043Z"
   },
   {
    "duration": 11,
    "start_time": "2024-01-25T20:05:39.055Z"
   },
   {
    "duration": 48,
    "start_time": "2024-01-25T20:05:39.067Z"
   },
   {
    "duration": 13,
    "start_time": "2024-01-25T20:05:39.117Z"
   },
   {
    "duration": 48,
    "start_time": "2024-01-25T20:05:39.131Z"
   },
   {
    "duration": 41,
    "start_time": "2024-01-25T20:05:39.181Z"
   },
   {
    "duration": 64,
    "start_time": "2024-01-25T20:05:39.223Z"
   },
   {
    "duration": 37,
    "start_time": "2024-01-25T20:05:39.289Z"
   },
   {
    "duration": 29,
    "start_time": "2024-01-25T20:05:39.327Z"
   },
   {
    "duration": 20,
    "start_time": "2024-01-25T20:05:39.357Z"
   },
   {
    "duration": 83,
    "start_time": "2024-01-25T20:05:39.378Z"
   },
   {
    "duration": 4,
    "start_time": "2024-01-25T20:05:39.462Z"
   },
   {
    "duration": 393,
    "start_time": "2024-01-25T20:05:39.468Z"
   },
   {
    "duration": 274,
    "start_time": "2024-01-25T20:05:39.862Z"
   },
   {
    "duration": 261,
    "start_time": "2024-01-25T20:05:40.137Z"
   },
   {
    "duration": 256,
    "start_time": "2024-01-25T20:05:40.399Z"
   },
   {
    "duration": 257,
    "start_time": "2024-01-25T20:05:40.659Z"
   },
   {
    "duration": 287,
    "start_time": "2024-01-25T20:05:40.917Z"
   },
   {
    "duration": 394,
    "start_time": "2024-01-25T20:05:41.206Z"
   },
   {
    "duration": 268,
    "start_time": "2024-01-25T20:05:41.602Z"
   },
   {
    "duration": 246,
    "start_time": "2024-01-25T20:05:41.872Z"
   },
   {
    "duration": 257,
    "start_time": "2024-01-25T20:05:42.120Z"
   },
   {
    "duration": 244,
    "start_time": "2024-01-25T20:05:42.378Z"
   },
   {
    "duration": 225,
    "start_time": "2024-01-25T20:05:42.624Z"
   },
   {
    "duration": 207,
    "start_time": "2024-01-25T20:05:42.851Z"
   },
   {
    "duration": 293,
    "start_time": "2024-01-25T20:05:43.060Z"
   },
   {
    "duration": 215,
    "start_time": "2024-01-25T20:05:43.355Z"
   },
   {
    "duration": 335,
    "start_time": "2024-01-25T20:05:43.572Z"
   },
   {
    "duration": 211,
    "start_time": "2024-01-25T20:05:43.908Z"
   },
   {
    "duration": 225,
    "start_time": "2024-01-25T20:05:44.120Z"
   },
   {
    "duration": 147,
    "start_time": "2024-01-25T20:05:44.347Z"
   },
   {
    "duration": 225,
    "start_time": "2024-01-25T20:05:44.495Z"
   },
   {
    "duration": 229,
    "start_time": "2024-01-25T20:05:44.721Z"
   },
   {
    "duration": 95,
    "start_time": "2024-01-25T20:05:44.952Z"
   },
   {
    "duration": 75,
    "start_time": "2024-01-25T20:05:45.048Z"
   },
   {
    "duration": 87,
    "start_time": "2024-01-25T20:05:45.124Z"
   },
   {
    "duration": 133,
    "start_time": "2024-01-25T20:05:45.212Z"
   },
   {
    "duration": 280,
    "start_time": "2024-01-25T20:05:45.346Z"
   },
   {
    "duration": 8,
    "start_time": "2024-01-25T20:05:45.627Z"
   },
   {
    "duration": 16,
    "start_time": "2024-01-25T20:05:45.645Z"
   },
   {
    "duration": 292,
    "start_time": "2024-01-25T20:05:45.662Z"
   },
   {
    "duration": 429,
    "start_time": "2024-01-25T20:05:45.955Z"
   },
   {
    "duration": 302,
    "start_time": "2024-01-25T20:05:46.386Z"
   },
   {
    "duration": 16,
    "start_time": "2024-01-25T20:05:46.690Z"
   },
   {
    "duration": 17,
    "start_time": "2024-01-25T20:05:46.707Z"
   },
   {
    "duration": 22,
    "start_time": "2024-01-25T20:05:46.726Z"
   },
   {
    "duration": 31,
    "start_time": "2024-01-25T20:05:46.749Z"
   },
   {
    "duration": 4,
    "start_time": "2024-01-25T20:05:46.781Z"
   },
   {
    "duration": 25,
    "start_time": "2024-01-25T20:05:46.786Z"
   },
   {
    "duration": 22,
    "start_time": "2024-01-25T20:05:46.812Z"
   },
   {
    "duration": 1299,
    "start_time": "2024-01-25T20:05:46.835Z"
   },
   {
    "duration": 23626,
    "start_time": "2024-01-25T20:05:48.135Z"
   },
   {
    "duration": 344,
    "start_time": "2024-01-25T20:06:11.763Z"
   },
   {
    "duration": 262,
    "start_time": "2024-01-25T20:06:12.109Z"
   },
   {
    "duration": 9,
    "start_time": "2024-01-25T20:06:12.373Z"
   },
   {
    "duration": 4,
    "start_time": "2024-01-25T20:06:12.383Z"
   },
   {
    "duration": 10,
    "start_time": "2024-01-25T20:06:12.388Z"
   },
   {
    "duration": 2080,
    "start_time": "2024-01-25T20:06:12.399Z"
   },
   {
    "duration": 13,
    "start_time": "2024-01-25T20:06:14.481Z"
   },
   {
    "duration": 47,
    "start_time": "2024-01-25T20:06:14.496Z"
   },
   {
    "duration": 529,
    "start_time": "2024-01-25T20:06:14.544Z"
   },
   {
    "duration": 15,
    "start_time": "2024-01-25T20:06:15.075Z"
   },
   {
    "duration": 45,
    "start_time": "2024-01-25T20:06:15.091Z"
   },
   {
    "duration": 312,
    "start_time": "2024-01-25T20:06:15.138Z"
   },
   {
    "duration": 13,
    "start_time": "2024-01-25T20:06:15.451Z"
   },
   {
    "duration": 25,
    "start_time": "2024-01-25T20:06:15.466Z"
   },
   {
    "duration": 4,
    "start_time": "2024-01-25T20:06:15.492Z"
   },
   {
    "duration": 236,
    "start_time": "2024-01-25T20:06:15.497Z"
   },
   {
    "duration": 214,
    "start_time": "2024-01-25T20:06:15.734Z"
   },
   {
    "duration": 4802,
    "start_time": "2024-01-25T20:21:53.666Z"
   },
   {
    "duration": 2086,
    "start_time": "2024-01-25T20:21:58.470Z"
   },
   {
    "duration": 84,
    "start_time": "2024-01-25T20:22:00.558Z"
   },
   {
    "duration": 26,
    "start_time": "2024-01-25T20:22:00.644Z"
   },
   {
    "duration": 29,
    "start_time": "2024-01-25T20:22:00.672Z"
   },
   {
    "duration": 29,
    "start_time": "2024-01-25T20:22:00.702Z"
   },
   {
    "duration": 50,
    "start_time": "2024-01-25T20:22:00.732Z"
   },
   {
    "duration": 40,
    "start_time": "2024-01-25T20:22:00.783Z"
   },
   {
    "duration": 82,
    "start_time": "2024-01-25T20:22:00.825Z"
   },
   {
    "duration": 9,
    "start_time": "2024-01-25T20:22:00.908Z"
   },
   {
    "duration": 22,
    "start_time": "2024-01-25T20:22:00.919Z"
   },
   {
    "duration": 35,
    "start_time": "2024-01-25T20:22:00.943Z"
   },
   {
    "duration": 26,
    "start_time": "2024-01-25T20:22:00.979Z"
   },
   {
    "duration": 45,
    "start_time": "2024-01-25T20:22:01.007Z"
   },
   {
    "duration": 44,
    "start_time": "2024-01-25T20:22:01.054Z"
   },
   {
    "duration": 42,
    "start_time": "2024-01-25T20:22:01.099Z"
   },
   {
    "duration": 57,
    "start_time": "2024-01-25T20:22:01.143Z"
   },
   {
    "duration": 40,
    "start_time": "2024-01-25T20:22:01.201Z"
   },
   {
    "duration": 54,
    "start_time": "2024-01-25T20:22:01.242Z"
   },
   {
    "duration": 47,
    "start_time": "2024-01-25T20:22:01.297Z"
   },
   {
    "duration": 42,
    "start_time": "2024-01-25T20:22:01.346Z"
   },
   {
    "duration": 70,
    "start_time": "2024-01-25T20:22:01.389Z"
   },
   {
    "duration": 63,
    "start_time": "2024-01-25T20:22:01.460Z"
   },
   {
    "duration": 466,
    "start_time": "2024-01-25T20:22:01.524Z"
   },
   {
    "duration": 273,
    "start_time": "2024-01-25T20:22:01.992Z"
   },
   {
    "duration": 263,
    "start_time": "2024-01-25T20:22:02.267Z"
   },
   {
    "duration": 259,
    "start_time": "2024-01-25T20:22:02.532Z"
   },
   {
    "duration": 254,
    "start_time": "2024-01-25T20:22:02.792Z"
   },
   {
    "duration": 285,
    "start_time": "2024-01-25T20:22:03.048Z"
   },
   {
    "duration": 381,
    "start_time": "2024-01-25T20:22:03.334Z"
   },
   {
    "duration": 260,
    "start_time": "2024-01-25T20:22:03.717Z"
   },
   {
    "duration": 247,
    "start_time": "2024-01-25T20:22:03.979Z"
   },
   {
    "duration": 245,
    "start_time": "2024-01-25T20:22:04.227Z"
   },
   {
    "duration": 246,
    "start_time": "2024-01-25T20:22:04.474Z"
   },
   {
    "duration": 223,
    "start_time": "2024-01-25T20:22:04.722Z"
   },
   {
    "duration": 211,
    "start_time": "2024-01-25T20:22:04.946Z"
   },
   {
    "duration": 287,
    "start_time": "2024-01-25T20:22:05.158Z"
   },
   {
    "duration": 215,
    "start_time": "2024-01-25T20:22:05.446Z"
   },
   {
    "duration": 340,
    "start_time": "2024-01-25T20:22:05.662Z"
   },
   {
    "duration": 229,
    "start_time": "2024-01-25T20:22:06.003Z"
   },
   {
    "duration": 223,
    "start_time": "2024-01-25T20:22:06.236Z"
   },
   {
    "duration": 143,
    "start_time": "2024-01-25T20:22:06.461Z"
   },
   {
    "duration": 142,
    "start_time": "2024-01-25T20:22:06.605Z"
   },
   {
    "duration": 231,
    "start_time": "2024-01-25T20:22:06.748Z"
   },
   {
    "duration": 92,
    "start_time": "2024-01-25T20:22:06.981Z"
   },
   {
    "duration": 87,
    "start_time": "2024-01-25T20:22:07.075Z"
   },
   {
    "duration": 94,
    "start_time": "2024-01-25T20:22:07.164Z"
   },
   {
    "duration": 131,
    "start_time": "2024-01-25T20:22:07.259Z"
   },
   {
    "duration": 289,
    "start_time": "2024-01-25T20:22:07.392Z"
   },
   {
    "duration": 8,
    "start_time": "2024-01-25T20:22:07.682Z"
   },
   {
    "duration": 35,
    "start_time": "2024-01-25T20:22:07.691Z"
   },
   {
    "duration": 290,
    "start_time": "2024-01-25T20:22:07.727Z"
   },
   {
    "duration": 429,
    "start_time": "2024-01-25T20:22:08.018Z"
   },
   {
    "duration": 296,
    "start_time": "2024-01-25T20:22:08.449Z"
   },
   {
    "duration": 17,
    "start_time": "2024-01-25T20:22:08.746Z"
   },
   {
    "duration": 4,
    "start_time": "2024-01-25T20:22:08.764Z"
   },
   {
    "duration": 29,
    "start_time": "2024-01-25T20:22:08.770Z"
   },
   {
    "duration": 35,
    "start_time": "2024-01-25T20:22:08.800Z"
   },
   {
    "duration": 4,
    "start_time": "2024-01-25T20:22:08.836Z"
   },
   {
    "duration": 32,
    "start_time": "2024-01-25T20:22:08.845Z"
   },
   {
    "duration": 4,
    "start_time": "2024-01-25T20:22:08.878Z"
   },
   {
    "duration": 1279,
    "start_time": "2024-01-25T20:22:08.883Z"
   },
   {
    "duration": 24194,
    "start_time": "2024-01-25T20:22:10.163Z"
   },
   {
    "duration": 363,
    "start_time": "2024-01-25T20:22:34.359Z"
   },
   {
    "duration": 276,
    "start_time": "2024-01-25T20:22:34.723Z"
   },
   {
    "duration": 10,
    "start_time": "2024-01-25T20:22:35.000Z"
   },
   {
    "duration": 4,
    "start_time": "2024-01-25T20:22:35.011Z"
   },
   {
    "duration": 23,
    "start_time": "2024-01-25T20:22:35.016Z"
   },
   {
    "duration": 2238,
    "start_time": "2024-01-25T20:22:35.040Z"
   },
   {
    "duration": 16,
    "start_time": "2024-01-25T20:22:37.280Z"
   },
   {
    "duration": 53,
    "start_time": "2024-01-25T20:22:37.298Z"
   },
   {
    "duration": 529,
    "start_time": "2024-01-25T20:22:37.353Z"
   },
   {
    "duration": 16,
    "start_time": "2024-01-25T20:22:37.883Z"
   },
   {
    "duration": 11,
    "start_time": "2024-01-25T20:22:37.900Z"
   },
   {
    "duration": 337,
    "start_time": "2024-01-25T20:22:37.912Z"
   },
   {
    "duration": 12,
    "start_time": "2024-01-25T20:22:38.251Z"
   },
   {
    "duration": 22,
    "start_time": "2024-01-25T20:22:38.264Z"
   },
   {
    "duration": 4,
    "start_time": "2024-01-25T20:22:38.287Z"
   },
   {
    "duration": 234,
    "start_time": "2024-01-25T20:22:38.293Z"
   },
   {
    "duration": 222,
    "start_time": "2024-01-25T20:22:38.529Z"
   },
   {
    "duration": 13,
    "start_time": "2024-01-25T20:28:36.344Z"
   },
   {
    "duration": 1790,
    "start_time": "2024-01-25T20:33:14.592Z"
   },
   {
    "duration": 7126,
    "start_time": "2024-01-25T20:35:21.335Z"
   },
   {
    "duration": 6,
    "start_time": "2024-01-25T20:35:28.463Z"
   },
   {
    "duration": 88,
    "start_time": "2024-01-25T20:35:28.470Z"
   },
   {
    "duration": 23,
    "start_time": "2024-01-25T20:35:28.559Z"
   },
   {
    "duration": 14,
    "start_time": "2024-01-25T20:35:28.584Z"
   },
   {
    "duration": 12,
    "start_time": "2024-01-25T20:35:28.600Z"
   },
   {
    "duration": 12,
    "start_time": "2024-01-25T20:35:28.613Z"
   },
   {
    "duration": 22,
    "start_time": "2024-01-25T20:35:28.627Z"
   },
   {
    "duration": 18,
    "start_time": "2024-01-25T20:35:28.650Z"
   },
   {
    "duration": 9,
    "start_time": "2024-01-25T20:35:28.669Z"
   },
   {
    "duration": 12,
    "start_time": "2024-01-25T20:35:28.679Z"
   },
   {
    "duration": 4,
    "start_time": "2024-01-25T20:35:28.692Z"
   },
   {
    "duration": 6,
    "start_time": "2024-01-25T20:35:28.697Z"
   },
   {
    "duration": 5,
    "start_time": "2024-01-25T20:35:28.706Z"
   },
   {
    "duration": 35,
    "start_time": "2024-01-25T20:35:28.712Z"
   },
   {
    "duration": 7,
    "start_time": "2024-01-25T20:35:28.749Z"
   },
   {
    "duration": 21,
    "start_time": "2024-01-25T20:35:28.757Z"
   },
   {
    "duration": 31,
    "start_time": "2024-01-25T20:35:28.780Z"
   },
   {
    "duration": 9,
    "start_time": "2024-01-25T20:35:28.812Z"
   },
   {
    "duration": 15,
    "start_time": "2024-01-25T20:35:28.822Z"
   },
   {
    "duration": 9,
    "start_time": "2024-01-25T20:35:28.839Z"
   },
   {
    "duration": 28,
    "start_time": "2024-01-25T20:35:28.849Z"
   },
   {
    "duration": 7,
    "start_time": "2024-01-25T20:35:28.879Z"
   },
   {
    "duration": 302,
    "start_time": "2024-01-25T20:35:28.887Z"
   },
   {
    "duration": 298,
    "start_time": "2024-01-25T20:35:29.191Z"
   },
   {
    "duration": 285,
    "start_time": "2024-01-25T20:35:29.490Z"
   },
   {
    "duration": 279,
    "start_time": "2024-01-25T20:35:29.777Z"
   },
   {
    "duration": 277,
    "start_time": "2024-01-25T20:35:30.058Z"
   },
   {
    "duration": 292,
    "start_time": "2024-01-25T20:35:30.337Z"
   },
   {
    "duration": 305,
    "start_time": "2024-01-25T20:35:30.630Z"
   },
   {
    "duration": 290,
    "start_time": "2024-01-25T20:35:30.937Z"
   },
   {
    "duration": 282,
    "start_time": "2024-01-25T20:35:31.228Z"
   },
   {
    "duration": 280,
    "start_time": "2024-01-25T20:35:31.512Z"
   },
   {
    "duration": 264,
    "start_time": "2024-01-25T20:35:31.794Z"
   },
   {
    "duration": 242,
    "start_time": "2024-01-25T20:35:32.059Z"
   },
   {
    "duration": 221,
    "start_time": "2024-01-25T20:35:32.302Z"
   },
   {
    "duration": 629,
    "start_time": "2024-01-25T20:35:32.524Z"
   },
   {
    "duration": 229,
    "start_time": "2024-01-25T20:35:33.154Z"
   },
   {
    "duration": 241,
    "start_time": "2024-01-25T20:35:33.384Z"
   },
   {
    "duration": 241,
    "start_time": "2024-01-25T20:35:33.626Z"
   },
   {
    "duration": 246,
    "start_time": "2024-01-25T20:35:33.871Z"
   },
   {
    "duration": 147,
    "start_time": "2024-01-25T20:35:34.119Z"
   },
   {
    "duration": 150,
    "start_time": "2024-01-25T20:35:34.268Z"
   },
   {
    "duration": 257,
    "start_time": "2024-01-25T20:35:34.419Z"
   },
   {
    "duration": 91,
    "start_time": "2024-01-25T20:35:34.678Z"
   },
   {
    "duration": 87,
    "start_time": "2024-01-25T20:35:34.771Z"
   },
   {
    "duration": 87,
    "start_time": "2024-01-25T20:35:34.859Z"
   },
   {
    "duration": 131,
    "start_time": "2024-01-25T20:35:34.947Z"
   },
   {
    "duration": 292,
    "start_time": "2024-01-25T20:35:35.079Z"
   },
   {
    "duration": 8,
    "start_time": "2024-01-25T20:35:35.373Z"
   },
   {
    "duration": 5,
    "start_time": "2024-01-25T20:35:35.382Z"
   },
   {
    "duration": 330,
    "start_time": "2024-01-25T20:35:35.388Z"
   },
   {
    "duration": 349,
    "start_time": "2024-01-25T20:35:35.720Z"
   },
   {
    "duration": 331,
    "start_time": "2024-01-25T20:35:36.071Z"
   },
   {
    "duration": 17,
    "start_time": "2024-01-25T20:35:36.404Z"
   },
   {
    "duration": 4,
    "start_time": "2024-01-25T20:35:36.422Z"
   },
   {
    "duration": 28,
    "start_time": "2024-01-25T20:35:36.427Z"
   },
   {
    "duration": 27,
    "start_time": "2024-01-25T20:35:36.456Z"
   },
   {
    "duration": 4,
    "start_time": "2024-01-25T20:35:36.484Z"
   },
   {
    "duration": 22,
    "start_time": "2024-01-25T20:35:36.489Z"
   },
   {
    "duration": 3,
    "start_time": "2024-01-25T20:35:36.513Z"
   },
   {
    "duration": 1368,
    "start_time": "2024-01-25T20:35:36.517Z"
   },
   {
    "duration": 27556,
    "start_time": "2024-01-25T20:35:37.886Z"
   },
   {
    "duration": 369,
    "start_time": "2024-01-25T20:36:05.443Z"
   },
   {
    "duration": 664,
    "start_time": "2024-01-25T20:36:05.814Z"
   },
   {
    "duration": 11,
    "start_time": "2024-01-25T20:36:06.480Z"
   },
   {
    "duration": 5,
    "start_time": "2024-01-25T20:36:06.492Z"
   },
   {
    "duration": 18,
    "start_time": "2024-01-25T20:36:06.498Z"
   },
   {
    "duration": 2031,
    "start_time": "2024-01-25T20:36:06.517Z"
   },
   {
    "duration": 13,
    "start_time": "2024-01-25T20:36:08.550Z"
   },
   {
    "duration": 33,
    "start_time": "2024-01-25T20:36:08.565Z"
   },
   {
    "duration": 34,
    "start_time": "2024-01-25T20:36:17.907Z"
   },
   {
    "duration": 527,
    "start_time": "2024-01-25T20:36:18.552Z"
   },
   {
    "duration": 735,
    "start_time": "2024-01-25T20:37:23.198Z"
   },
   {
    "duration": 148,
    "start_time": "2024-01-25T20:38:41.963Z"
   },
   {
    "duration": 946,
    "start_time": "2024-01-25T20:40:37.447Z"
   },
   {
    "duration": 13,
    "start_time": "2024-01-25T20:40:54.665Z"
   },
   {
    "duration": 10,
    "start_time": "2024-01-25T20:44:15.982Z"
   },
   {
    "duration": 10,
    "start_time": "2024-01-25T20:44:24.329Z"
   },
   {
    "duration": 9,
    "start_time": "2024-01-25T20:46:47.995Z"
   },
   {
    "duration": 902,
    "start_time": "2024-01-25T20:49:01.957Z"
   },
   {
    "duration": 11,
    "start_time": "2024-01-25T20:54:34.146Z"
   },
   {
    "duration": 10,
    "start_time": "2024-01-25T20:54:51.266Z"
   },
   {
    "duration": 10,
    "start_time": "2024-01-25T20:54:58.465Z"
   },
   {
    "duration": 37,
    "start_time": "2024-01-25T20:57:29.460Z"
   },
   {
    "duration": 547,
    "start_time": "2024-01-25T20:57:30.836Z"
   },
   {
    "duration": 75,
    "start_time": "2024-01-25T20:58:06.163Z"
   },
   {
    "duration": 4,
    "start_time": "2024-01-25T20:58:36.562Z"
   },
   {
    "duration": 598,
    "start_time": "2024-01-25T20:58:47.081Z"
   },
   {
    "duration": 579,
    "start_time": "2024-01-25T20:59:08.778Z"
   },
   {
    "duration": 1026,
    "start_time": "2024-01-25T20:59:36.375Z"
   },
   {
    "duration": 16,
    "start_time": "2024-01-25T21:17:31.256Z"
   },
   {
    "duration": 11,
    "start_time": "2024-01-25T21:17:31.576Z"
   },
   {
    "duration": 292,
    "start_time": "2024-01-25T21:17:34.100Z"
   },
   {
    "duration": 50,
    "start_time": "2024-01-25T21:24:18.350Z"
   },
   {
    "duration": 89,
    "start_time": "2024-01-25T21:26:51.853Z"
   },
   {
    "duration": 39,
    "start_time": "2024-01-25T21:27:08.868Z"
   },
   {
    "duration": 40,
    "start_time": "2024-01-25T21:27:36.147Z"
   },
   {
    "duration": 17,
    "start_time": "2024-01-25T21:27:50.651Z"
   },
   {
    "duration": 12,
    "start_time": "2024-01-25T21:28:11.762Z"
   },
   {
    "duration": 18,
    "start_time": "2024-01-25T21:28:28.361Z"
   },
   {
    "duration": 4,
    "start_time": "2024-01-25T21:28:33.096Z"
   },
   {
    "duration": 263,
    "start_time": "2024-01-25T21:28:34.382Z"
   },
   {
    "duration": 227,
    "start_time": "2024-01-25T21:29:00.607Z"
   },
   {
    "duration": 230,
    "start_time": "2024-01-25T21:29:07.952Z"
   },
   {
    "duration": 226,
    "start_time": "2024-01-25T21:29:26.375Z"
   },
   {
    "duration": 21,
    "start_time": "2024-01-25T21:33:15.022Z"
   },
   {
    "duration": 4,
    "start_time": "2024-01-25T21:33:15.920Z"
   },
   {
    "duration": 224,
    "start_time": "2024-01-25T21:33:16.495Z"
   },
   {
    "duration": 231,
    "start_time": "2024-01-25T21:33:20.254Z"
   },
   {
    "duration": 224,
    "start_time": "2024-01-25T21:35:20.603Z"
   },
   {
    "duration": 230,
    "start_time": "2024-01-25T21:37:28.278Z"
   },
   {
    "duration": 11,
    "start_time": "2024-01-25T21:49:05.527Z"
   },
   {
    "duration": 15,
    "start_time": "2024-01-25T21:49:19.350Z"
   },
   {
    "duration": 14,
    "start_time": "2024-01-25T21:49:54.845Z"
   },
   {
    "duration": 14,
    "start_time": "2024-01-25T21:51:09.939Z"
   },
   {
    "duration": 76,
    "start_time": "2024-01-25T21:51:24.602Z"
   },
   {
    "duration": 9,
    "start_time": "2024-01-25T21:52:28.951Z"
   },
   {
    "duration": 4,
    "start_time": "2024-01-25T21:52:35.758Z"
   },
   {
    "duration": 4,
    "start_time": "2024-01-25T21:53:06.382Z"
   },
   {
    "duration": 14,
    "start_time": "2024-01-25T21:53:09.480Z"
   },
   {
    "duration": 14,
    "start_time": "2024-01-25T21:55:08.373Z"
   },
   {
    "duration": 12,
    "start_time": "2024-01-25T21:58:11.772Z"
   },
   {
    "duration": 3,
    "start_time": "2024-01-25T21:58:39.691Z"
   },
   {
    "duration": 4,
    "start_time": "2024-01-25T21:59:10.828Z"
   },
   {
    "duration": 13,
    "start_time": "2024-01-25T21:59:34.769Z"
   },
   {
    "duration": 14,
    "start_time": "2024-01-25T22:01:31.709Z"
   },
   {
    "duration": 1196,
    "start_time": "2024-01-25T22:02:53.522Z"
   },
   {
    "duration": 15,
    "start_time": "2024-01-25T22:03:33.256Z"
   },
   {
    "duration": 5113,
    "start_time": "2024-01-25T22:03:56.197Z"
   },
   {
    "duration": 2308,
    "start_time": "2024-01-25T22:04:01.313Z"
   },
   {
    "duration": 84,
    "start_time": "2024-01-25T22:04:03.622Z"
   },
   {
    "duration": 106,
    "start_time": "2024-01-25T22:04:03.708Z"
   },
   {
    "duration": 157,
    "start_time": "2024-01-25T22:04:03.815Z"
   },
   {
    "duration": 144,
    "start_time": "2024-01-25T22:04:03.974Z"
   },
   {
    "duration": 126,
    "start_time": "2024-01-25T22:04:04.120Z"
   },
   {
    "duration": 32,
    "start_time": "2024-01-25T22:04:04.248Z"
   },
   {
    "duration": 31,
    "start_time": "2024-01-25T22:04:04.282Z"
   },
   {
    "duration": 21,
    "start_time": "2024-01-25T22:04:04.316Z"
   },
   {
    "duration": 26,
    "start_time": "2024-01-25T22:04:04.339Z"
   },
   {
    "duration": 95,
    "start_time": "2024-01-25T22:04:04.366Z"
   },
   {
    "duration": 62,
    "start_time": "2024-01-25T22:04:04.463Z"
   },
   {
    "duration": 45,
    "start_time": "2024-01-25T22:04:04.526Z"
   },
   {
    "duration": 20,
    "start_time": "2024-01-25T22:04:04.573Z"
   },
   {
    "duration": 20,
    "start_time": "2024-01-25T22:04:04.595Z"
   },
   {
    "duration": 18,
    "start_time": "2024-01-25T22:04:04.617Z"
   },
   {
    "duration": 15,
    "start_time": "2024-01-25T22:04:04.637Z"
   },
   {
    "duration": 13,
    "start_time": "2024-01-25T22:04:04.654Z"
   },
   {
    "duration": 18,
    "start_time": "2024-01-25T22:04:04.668Z"
   },
   {
    "duration": 76,
    "start_time": "2024-01-25T22:04:04.688Z"
   },
   {
    "duration": 153,
    "start_time": "2024-01-25T22:04:04.765Z"
   },
   {
    "duration": 4,
    "start_time": "2024-01-25T22:04:04.920Z"
   },
   {
    "duration": 453,
    "start_time": "2024-01-25T22:04:04.925Z"
   },
   {
    "duration": 325,
    "start_time": "2024-01-25T22:04:05.379Z"
   },
   {
    "duration": 362,
    "start_time": "2024-01-25T22:04:05.705Z"
   },
   {
    "duration": 281,
    "start_time": "2024-01-25T22:04:06.069Z"
   },
   {
    "duration": 273,
    "start_time": "2024-01-25T22:04:06.354Z"
   },
   {
    "duration": 277,
    "start_time": "2024-01-25T22:04:06.628Z"
   },
   {
    "duration": 429,
    "start_time": "2024-01-25T22:04:06.907Z"
   },
   {
    "duration": 302,
    "start_time": "2024-01-25T22:04:07.337Z"
   },
   {
    "duration": 293,
    "start_time": "2024-01-25T22:04:07.641Z"
   },
   {
    "duration": 258,
    "start_time": "2024-01-25T22:04:07.935Z"
   },
   {
    "duration": 267,
    "start_time": "2024-01-25T22:04:08.194Z"
   },
   {
    "duration": 248,
    "start_time": "2024-01-25T22:04:08.462Z"
   },
   {
    "duration": 216,
    "start_time": "2024-01-25T22:04:08.711Z"
   },
   {
    "duration": 284,
    "start_time": "2024-01-25T22:04:08.929Z"
   },
   {
    "duration": 210,
    "start_time": "2024-01-25T22:04:09.215Z"
   },
   {
    "duration": 379,
    "start_time": "2024-01-25T22:04:09.427Z"
   },
   {
    "duration": 229,
    "start_time": "2024-01-25T22:04:09.807Z"
   },
   {
    "duration": 234,
    "start_time": "2024-01-25T22:04:10.045Z"
   },
   {
    "duration": 487,
    "start_time": "2024-01-25T22:04:10.281Z"
   },
   {
    "duration": 153,
    "start_time": "2024-01-25T22:04:10.770Z"
   },
   {
    "duration": 237,
    "start_time": "2024-01-25T22:04:10.925Z"
   },
   {
    "duration": 103,
    "start_time": "2024-01-25T22:04:11.164Z"
   },
   {
    "duration": 86,
    "start_time": "2024-01-25T22:04:11.269Z"
   },
   {
    "duration": 94,
    "start_time": "2024-01-25T22:04:11.357Z"
   },
   {
    "duration": 138,
    "start_time": "2024-01-25T22:04:11.452Z"
   },
   {
    "duration": 278,
    "start_time": "2024-01-25T22:04:11.591Z"
   },
   {
    "duration": 8,
    "start_time": "2024-01-25T22:04:11.871Z"
   },
   {
    "duration": 10,
    "start_time": "2024-01-25T22:04:11.880Z"
   },
   {
    "duration": 307,
    "start_time": "2024-01-25T22:04:11.891Z"
   },
   {
    "duration": 451,
    "start_time": "2024-01-25T22:04:12.200Z"
   },
   {
    "duration": 317,
    "start_time": "2024-01-25T22:04:12.653Z"
   },
   {
    "duration": 17,
    "start_time": "2024-01-25T22:04:12.972Z"
   },
   {
    "duration": 23,
    "start_time": "2024-01-25T22:04:12.991Z"
   },
   {
    "duration": 26,
    "start_time": "2024-01-25T22:04:13.015Z"
   },
   {
    "duration": 36,
    "start_time": "2024-01-25T22:04:13.042Z"
   },
   {
    "duration": 4,
    "start_time": "2024-01-25T22:04:13.080Z"
   },
   {
    "duration": 27,
    "start_time": "2024-01-25T22:04:13.086Z"
   },
   {
    "duration": 11,
    "start_time": "2024-01-25T22:04:13.114Z"
   },
   {
    "duration": 1359,
    "start_time": "2024-01-25T22:04:13.127Z"
   },
   {
    "duration": 24737,
    "start_time": "2024-01-25T22:04:14.488Z"
   },
   {
    "duration": 335,
    "start_time": "2024-01-25T22:04:39.226Z"
   },
   {
    "duration": 279,
    "start_time": "2024-01-25T22:04:39.562Z"
   },
   {
    "duration": 10,
    "start_time": "2024-01-25T22:04:39.844Z"
   },
   {
    "duration": 25,
    "start_time": "2024-01-25T22:04:39.855Z"
   },
   {
    "duration": 35,
    "start_time": "2024-01-25T22:04:39.881Z"
   },
   {
    "duration": 2063,
    "start_time": "2024-01-25T22:04:39.917Z"
   },
   {
    "duration": 14,
    "start_time": "2024-01-25T22:04:41.981Z"
   },
   {
    "duration": 69,
    "start_time": "2024-01-25T22:04:41.996Z"
   },
   {
    "duration": 525,
    "start_time": "2024-01-25T22:04:42.066Z"
   },
   {
    "duration": 965,
    "start_time": "2024-01-25T22:04:42.592Z"
   },
   {
    "duration": 18,
    "start_time": "2024-01-25T22:04:43.559Z"
   },
   {
    "duration": 19,
    "start_time": "2024-01-25T22:04:43.578Z"
   },
   {
    "duration": 346,
    "start_time": "2024-01-25T22:04:43.599Z"
   },
   {
    "duration": 14,
    "start_time": "2024-01-25T22:04:43.947Z"
   },
   {
    "duration": 25,
    "start_time": "2024-01-25T22:04:43.963Z"
   },
   {
    "duration": 4,
    "start_time": "2024-01-25T22:04:43.989Z"
   },
   {
    "duration": 252,
    "start_time": "2024-01-25T22:04:43.995Z"
   },
   {
    "duration": 251,
    "start_time": "2024-01-25T22:04:44.248Z"
   },
   {
    "duration": 4,
    "start_time": "2024-01-25T22:04:44.505Z"
   },
   {
    "duration": 183,
    "start_time": "2024-01-25T22:04:44.510Z"
   },
   {
    "duration": 27,
    "start_time": "2024-01-25T22:05:18.926Z"
   },
   {
    "duration": 23,
    "start_time": "2024-01-25T22:05:23.614Z"
   },
   {
    "duration": 111,
    "start_time": "2024-01-25T22:06:47.004Z"
   },
   {
    "duration": 66,
    "start_time": "2024-01-25T22:06:53.787Z"
   },
   {
    "duration": 80,
    "start_time": "2024-01-25T22:17:32.839Z"
   },
   {
    "duration": 3,
    "start_time": "2024-01-25T22:18:21.492Z"
   },
   {
    "duration": 11,
    "start_time": "2024-01-25T22:30:25.932Z"
   },
   {
    "duration": 11,
    "start_time": "2024-01-25T22:31:59.513Z"
   },
   {
    "duration": 11,
    "start_time": "2024-01-25T22:33:27.420Z"
   },
   {
    "duration": 15,
    "start_time": "2024-01-25T22:33:34.652Z"
   },
   {
    "duration": 11,
    "start_time": "2024-01-25T22:34:18.307Z"
   },
   {
    "duration": 15,
    "start_time": "2024-01-25T22:34:29.595Z"
   },
   {
    "duration": 286,
    "start_time": "2024-01-25T22:36:06.183Z"
   },
   {
    "duration": 17,
    "start_time": "2024-01-25T22:37:33.959Z"
   },
   {
    "duration": 11,
    "start_time": "2024-01-25T22:37:56.884Z"
   },
   {
    "duration": 10,
    "start_time": "2024-01-25T22:40:49.200Z"
   },
   {
    "duration": 158,
    "start_time": "2024-01-25T22:40:53.125Z"
   },
   {
    "duration": 157,
    "start_time": "2024-01-25T22:41:36.899Z"
   },
   {
    "duration": 14,
    "start_time": "2024-01-25T22:48:06.032Z"
   },
   {
    "duration": 17,
    "start_time": "2024-01-25T22:48:22.542Z"
   },
   {
    "duration": 197,
    "start_time": "2024-01-25T22:50:22.306Z"
   },
   {
    "duration": 15,
    "start_time": "2024-01-25T22:51:37.504Z"
   },
   {
    "duration": 291,
    "start_time": "2024-01-25T22:52:23.782Z"
   },
   {
    "duration": 17,
    "start_time": "2024-01-25T22:52:59.292Z"
   },
   {
    "duration": 169,
    "start_time": "2024-01-25T22:53:08.108Z"
   },
   {
    "duration": 173,
    "start_time": "2024-01-25T22:53:26.947Z"
   },
   {
    "duration": 189,
    "start_time": "2024-01-25T22:53:59.194Z"
   },
   {
    "duration": 15,
    "start_time": "2024-01-25T22:55:00.905Z"
   },
   {
    "duration": 3,
    "start_time": "2024-01-25T22:55:01.148Z"
   },
   {
    "duration": 15,
    "start_time": "2024-01-25T22:55:24.920Z"
   },
   {
    "duration": 15,
    "start_time": "2024-01-25T22:56:03.397Z"
   },
   {
    "duration": 15,
    "start_time": "2024-01-25T22:56:12.382Z"
   },
   {
    "duration": 16,
    "start_time": "2024-01-25T22:57:16.354Z"
   },
   {
    "duration": 72,
    "start_time": "2024-01-25T22:58:02.473Z"
   },
   {
    "duration": 171,
    "start_time": "2024-01-25T22:58:07.033Z"
   },
   {
    "duration": 177,
    "start_time": "2024-01-25T22:58:40.735Z"
   },
   {
    "duration": 247,
    "start_time": "2024-01-25T23:00:31.501Z"
   },
   {
    "duration": 230,
    "start_time": "2024-01-25T23:00:51.526Z"
   },
   {
    "duration": 225,
    "start_time": "2024-01-25T23:01:08.859Z"
   },
   {
    "duration": 228,
    "start_time": "2024-01-25T23:01:22.770Z"
   },
   {
    "duration": 234,
    "start_time": "2024-01-25T23:01:27.934Z"
   },
   {
    "duration": 229,
    "start_time": "2024-01-25T23:01:32.907Z"
   },
   {
    "duration": 242,
    "start_time": "2024-01-25T23:01:38.249Z"
   },
   {
    "duration": 225,
    "start_time": "2024-01-25T23:01:44.610Z"
   },
   {
    "duration": 226,
    "start_time": "2024-01-25T23:01:51.169Z"
   },
   {
    "duration": 225,
    "start_time": "2024-01-25T23:01:56.489Z"
   },
   {
    "duration": 239,
    "start_time": "2024-01-25T23:02:05.273Z"
   },
   {
    "duration": 591,
    "start_time": "2024-01-25T23:02:12.256Z"
   },
   {
    "duration": 265,
    "start_time": "2024-01-25T23:02:30.940Z"
   },
   {
    "duration": 241,
    "start_time": "2024-01-25T23:02:36.009Z"
   },
   {
    "duration": 16,
    "start_time": "2024-01-25T23:08:40.662Z"
   },
   {
    "duration": 10,
    "start_time": "2024-01-25T23:12:05.467Z"
   },
   {
    "duration": 1316,
    "start_time": "2024-01-25T23:12:20.732Z"
   },
   {
    "duration": 1208,
    "start_time": "2024-01-25T23:12:47.475Z"
   },
   {
    "duration": 10,
    "start_time": "2024-01-25T23:12:52.794Z"
   },
   {
    "duration": 1249,
    "start_time": "2024-01-25T23:13:16.065Z"
   },
   {
    "duration": 0,
    "start_time": "2024-01-25T23:13:17.315Z"
   },
   {
    "duration": 9,
    "start_time": "2024-01-25T23:14:34.220Z"
   },
   {
    "duration": 4,
    "start_time": "2024-01-25T23:14:40.150Z"
   },
   {
    "duration": 10,
    "start_time": "2024-01-25T23:15:03.342Z"
   },
   {
    "duration": 14,
    "start_time": "2024-01-25T23:15:08.614Z"
   },
   {
    "duration": 179,
    "start_time": "2024-01-25T23:17:19.553Z"
   },
   {
    "duration": 79,
    "start_time": "2024-01-25T23:18:09.415Z"
   },
   {
    "duration": 77,
    "start_time": "2024-01-25T23:18:14.279Z"
   },
   {
    "duration": 198,
    "start_time": "2024-01-25T23:19:07.589Z"
   },
   {
    "duration": 243,
    "start_time": "2024-01-25T23:26:49.661Z"
   },
   {
    "duration": 15,
    "start_time": "2024-01-25T23:34:19.809Z"
   },
   {
    "duration": 245,
    "start_time": "2024-01-25T23:34:21.566Z"
   },
   {
    "duration": 173,
    "start_time": "2024-01-25T23:34:26.596Z"
   },
   {
    "duration": 15,
    "start_time": "2024-01-25T23:39:00.812Z"
   },
   {
    "duration": 248,
    "start_time": "2024-01-25T23:39:05.947Z"
   },
   {
    "duration": 182,
    "start_time": "2024-01-25T23:39:16.484Z"
   },
   {
    "duration": 15,
    "start_time": "2024-01-25T23:41:06.335Z"
   },
   {
    "duration": 259,
    "start_time": "2024-01-25T23:41:07.239Z"
   },
   {
    "duration": 183,
    "start_time": "2024-01-25T23:41:08.866Z"
   },
   {
    "duration": 4888,
    "start_time": "2024-01-25T23:46:58.671Z"
   },
   {
    "duration": 2154,
    "start_time": "2024-01-25T23:47:03.561Z"
   },
   {
    "duration": 85,
    "start_time": "2024-01-25T23:47:05.716Z"
   },
   {
    "duration": 27,
    "start_time": "2024-01-25T23:47:05.803Z"
   },
   {
    "duration": 15,
    "start_time": "2024-01-25T23:47:05.831Z"
   },
   {
    "duration": 20,
    "start_time": "2024-01-25T23:47:05.847Z"
   },
   {
    "duration": 14,
    "start_time": "2024-01-25T23:47:05.868Z"
   },
   {
    "duration": 25,
    "start_time": "2024-01-25T23:47:05.884Z"
   },
   {
    "duration": 20,
    "start_time": "2024-01-25T23:47:05.910Z"
   },
   {
    "duration": 14,
    "start_time": "2024-01-25T23:47:05.932Z"
   },
   {
    "duration": 5,
    "start_time": "2024-01-25T23:47:05.947Z"
   },
   {
    "duration": 14,
    "start_time": "2024-01-25T23:47:05.953Z"
   },
   {
    "duration": 15,
    "start_time": "2024-01-25T23:47:05.968Z"
   },
   {
    "duration": 10,
    "start_time": "2024-01-25T23:47:05.985Z"
   },
   {
    "duration": 4,
    "start_time": "2024-01-25T23:47:05.997Z"
   },
   {
    "duration": 6,
    "start_time": "2024-01-25T23:47:06.002Z"
   },
   {
    "duration": 5,
    "start_time": "2024-01-25T23:47:06.010Z"
   },
   {
    "duration": 19,
    "start_time": "2024-01-25T23:47:06.016Z"
   },
   {
    "duration": 24,
    "start_time": "2024-01-25T23:47:06.036Z"
   },
   {
    "duration": 20,
    "start_time": "2024-01-25T23:47:06.061Z"
   },
   {
    "duration": 5,
    "start_time": "2024-01-25T23:47:06.082Z"
   },
   {
    "duration": 31,
    "start_time": "2024-01-25T23:47:06.088Z"
   },
   {
    "duration": 4,
    "start_time": "2024-01-25T23:47:06.121Z"
   },
   {
    "duration": 388,
    "start_time": "2024-01-25T23:47:06.126Z"
   },
   {
    "duration": 277,
    "start_time": "2024-01-25T23:47:06.515Z"
   },
   {
    "duration": 275,
    "start_time": "2024-01-25T23:47:06.793Z"
   },
   {
    "duration": 281,
    "start_time": "2024-01-25T23:47:07.070Z"
   },
   {
    "duration": 274,
    "start_time": "2024-01-25T23:47:07.355Z"
   },
   {
    "duration": 288,
    "start_time": "2024-01-25T23:47:07.631Z"
   },
   {
    "duration": 398,
    "start_time": "2024-01-25T23:47:07.921Z"
   },
   {
    "duration": 277,
    "start_time": "2024-01-25T23:47:08.320Z"
   },
   {
    "duration": 261,
    "start_time": "2024-01-25T23:47:08.599Z"
   },
   {
    "duration": 253,
    "start_time": "2024-01-25T23:47:08.861Z"
   },
   {
    "duration": 251,
    "start_time": "2024-01-25T23:47:09.116Z"
   },
   {
    "duration": 257,
    "start_time": "2024-01-25T23:47:09.369Z"
   },
   {
    "duration": 218,
    "start_time": "2024-01-25T23:47:09.628Z"
   },
   {
    "duration": 294,
    "start_time": "2024-01-25T23:47:09.848Z"
   },
   {
    "duration": 210,
    "start_time": "2024-01-25T23:47:10.144Z"
   },
   {
    "duration": 344,
    "start_time": "2024-01-25T23:47:10.355Z"
   },
   {
    "duration": 222,
    "start_time": "2024-01-25T23:47:10.700Z"
   },
   {
    "duration": 233,
    "start_time": "2024-01-25T23:47:10.923Z"
   },
   {
    "duration": 148,
    "start_time": "2024-01-25T23:47:11.157Z"
   },
   {
    "duration": 150,
    "start_time": "2024-01-25T23:47:11.306Z"
   },
   {
    "duration": 243,
    "start_time": "2024-01-25T23:47:11.458Z"
   },
   {
    "duration": 107,
    "start_time": "2024-01-25T23:47:11.702Z"
   },
   {
    "duration": 86,
    "start_time": "2024-01-25T23:47:11.811Z"
   },
   {
    "duration": 89,
    "start_time": "2024-01-25T23:47:11.898Z"
   },
   {
    "duration": 138,
    "start_time": "2024-01-25T23:47:11.988Z"
   },
   {
    "duration": 294,
    "start_time": "2024-01-25T23:47:12.128Z"
   },
   {
    "duration": 8,
    "start_time": "2024-01-25T23:47:12.424Z"
   },
   {
    "duration": 11,
    "start_time": "2024-01-25T23:47:12.445Z"
   },
   {
    "duration": 298,
    "start_time": "2024-01-25T23:47:12.457Z"
   },
   {
    "duration": 462,
    "start_time": "2024-01-25T23:47:12.756Z"
   },
   {
    "duration": 307,
    "start_time": "2024-01-25T23:47:13.220Z"
   },
   {
    "duration": 28,
    "start_time": "2024-01-25T23:47:13.528Z"
   },
   {
    "duration": 3,
    "start_time": "2024-01-25T23:47:13.557Z"
   },
   {
    "duration": 48,
    "start_time": "2024-01-25T23:47:13.561Z"
   },
   {
    "duration": 36,
    "start_time": "2024-01-25T23:47:13.610Z"
   },
   {
    "duration": 4,
    "start_time": "2024-01-25T23:47:13.647Z"
   },
   {
    "duration": 18,
    "start_time": "2024-01-25T23:47:13.652Z"
   },
   {
    "duration": 1267,
    "start_time": "2024-01-25T23:47:13.671Z"
   },
   {
    "duration": 24544,
    "start_time": "2024-01-25T23:47:14.939Z"
   },
   {
    "duration": 339,
    "start_time": "2024-01-25T23:47:39.486Z"
   },
   {
    "duration": 267,
    "start_time": "2024-01-25T23:47:39.826Z"
   },
   {
    "duration": 9,
    "start_time": "2024-01-25T23:47:40.094Z"
   },
   {
    "duration": 5,
    "start_time": "2024-01-25T23:47:40.105Z"
   },
   {
    "duration": 14,
    "start_time": "2024-01-25T23:47:40.111Z"
   },
   {
    "duration": 2056,
    "start_time": "2024-01-25T23:47:40.126Z"
   },
   {
    "duration": 13,
    "start_time": "2024-01-25T23:47:42.184Z"
   },
   {
    "duration": 48,
    "start_time": "2024-01-25T23:47:42.199Z"
   },
   {
    "duration": 539,
    "start_time": "2024-01-25T23:47:42.249Z"
   },
   {
    "duration": 967,
    "start_time": "2024-01-25T23:47:42.790Z"
   },
   {
    "duration": 18,
    "start_time": "2024-01-25T23:47:43.758Z"
   },
   {
    "duration": 12,
    "start_time": "2024-01-25T23:47:43.778Z"
   },
   {
    "duration": 294,
    "start_time": "2024-01-25T23:47:43.791Z"
   },
   {
    "duration": 13,
    "start_time": "2024-01-25T23:47:44.086Z"
   },
   {
    "duration": 20,
    "start_time": "2024-01-25T23:47:44.100Z"
   },
   {
    "duration": 3,
    "start_time": "2024-01-25T23:47:44.122Z"
   },
   {
    "duration": 244,
    "start_time": "2024-01-25T23:47:44.126Z"
   },
   {
    "duration": 239,
    "start_time": "2024-01-25T23:47:44.372Z"
   },
   {
    "duration": 16,
    "start_time": "2024-01-25T23:47:44.613Z"
   },
   {
    "duration": 238,
    "start_time": "2024-01-25T23:47:44.650Z"
   },
   {
    "duration": 172,
    "start_time": "2024-01-25T23:47:44.890Z"
   },
   {
    "duration": 152,
    "start_time": "2024-01-25T23:49:43.598Z"
   },
   {
    "duration": 4841,
    "start_time": "2024-01-25T23:50:08.987Z"
   },
   {
    "duration": 2164,
    "start_time": "2024-01-25T23:50:13.830Z"
   },
   {
    "duration": 85,
    "start_time": "2024-01-25T23:50:15.995Z"
   },
   {
    "duration": 26,
    "start_time": "2024-01-25T23:50:16.081Z"
   },
   {
    "duration": 32,
    "start_time": "2024-01-25T23:50:16.108Z"
   },
   {
    "duration": 15,
    "start_time": "2024-01-25T23:50:16.141Z"
   },
   {
    "duration": 37,
    "start_time": "2024-01-25T23:50:16.157Z"
   },
   {
    "duration": 37,
    "start_time": "2024-01-25T23:50:16.195Z"
   },
   {
    "duration": 38,
    "start_time": "2024-01-25T23:50:16.233Z"
   },
   {
    "duration": 12,
    "start_time": "2024-01-25T23:50:16.273Z"
   },
   {
    "duration": 19,
    "start_time": "2024-01-25T23:50:16.287Z"
   },
   {
    "duration": 25,
    "start_time": "2024-01-25T23:50:16.307Z"
   },
   {
    "duration": 15,
    "start_time": "2024-01-25T23:50:16.333Z"
   },
   {
    "duration": 30,
    "start_time": "2024-01-25T23:50:16.349Z"
   },
   {
    "duration": 19,
    "start_time": "2024-01-25T23:50:16.380Z"
   },
   {
    "duration": 31,
    "start_time": "2024-01-25T23:50:16.400Z"
   },
   {
    "duration": 39,
    "start_time": "2024-01-25T23:50:16.432Z"
   },
   {
    "duration": 23,
    "start_time": "2024-01-25T23:50:16.473Z"
   },
   {
    "duration": 31,
    "start_time": "2024-01-25T23:50:16.498Z"
   },
   {
    "duration": 43,
    "start_time": "2024-01-25T23:50:16.530Z"
   },
   {
    "duration": 23,
    "start_time": "2024-01-25T23:50:16.574Z"
   },
   {
    "duration": 46,
    "start_time": "2024-01-25T23:50:16.598Z"
   },
   {
    "duration": 4,
    "start_time": "2024-01-25T23:50:16.646Z"
   },
   {
    "duration": 386,
    "start_time": "2024-01-25T23:50:16.651Z"
   },
   {
    "duration": 291,
    "start_time": "2024-01-25T23:50:17.039Z"
   },
   {
    "duration": 275,
    "start_time": "2024-01-25T23:50:17.332Z"
   },
   {
    "duration": 290,
    "start_time": "2024-01-25T23:50:17.609Z"
   },
   {
    "duration": 260,
    "start_time": "2024-01-25T23:50:17.902Z"
   },
   {
    "duration": 263,
    "start_time": "2024-01-25T23:50:18.164Z"
   },
   {
    "duration": 389,
    "start_time": "2024-01-25T23:50:18.429Z"
   },
   {
    "duration": 271,
    "start_time": "2024-01-25T23:50:18.820Z"
   },
   {
    "duration": 253,
    "start_time": "2024-01-25T23:50:19.093Z"
   },
   {
    "duration": 258,
    "start_time": "2024-01-25T23:50:19.348Z"
   },
   {
    "duration": 257,
    "start_time": "2024-01-25T23:50:19.608Z"
   },
   {
    "duration": 235,
    "start_time": "2024-01-25T23:50:19.867Z"
   },
   {
    "duration": 205,
    "start_time": "2024-01-25T23:50:20.104Z"
   },
   {
    "duration": 279,
    "start_time": "2024-01-25T23:50:20.310Z"
   },
   {
    "duration": 210,
    "start_time": "2024-01-25T23:50:20.591Z"
   },
   {
    "duration": 350,
    "start_time": "2024-01-25T23:50:20.802Z"
   },
   {
    "duration": 221,
    "start_time": "2024-01-25T23:50:21.153Z"
   },
   {
    "duration": 244,
    "start_time": "2024-01-25T23:50:21.376Z"
   },
   {
    "duration": 153,
    "start_time": "2024-01-25T23:50:21.621Z"
   },
   {
    "duration": 136,
    "start_time": "2024-01-25T23:50:21.775Z"
   },
   {
    "duration": 245,
    "start_time": "2024-01-25T23:50:21.912Z"
   },
   {
    "duration": 94,
    "start_time": "2024-01-25T23:50:22.159Z"
   },
   {
    "duration": 77,
    "start_time": "2024-01-25T23:50:22.255Z"
   },
   {
    "duration": 79,
    "start_time": "2024-01-25T23:50:22.345Z"
   },
   {
    "duration": 139,
    "start_time": "2024-01-25T23:50:22.425Z"
   },
   {
    "duration": 282,
    "start_time": "2024-01-25T23:50:22.566Z"
   },
   {
    "duration": 8,
    "start_time": "2024-01-25T23:50:22.849Z"
   },
   {
    "duration": 6,
    "start_time": "2024-01-25T23:50:22.858Z"
   },
   {
    "duration": 284,
    "start_time": "2024-01-25T23:50:22.865Z"
   },
   {
    "duration": 459,
    "start_time": "2024-01-25T23:50:23.151Z"
   },
   {
    "duration": 292,
    "start_time": "2024-01-25T23:50:23.611Z"
   },
   {
    "duration": 16,
    "start_time": "2024-01-25T23:50:23.904Z"
   },
   {
    "duration": 39,
    "start_time": "2024-01-25T23:50:23.921Z"
   },
   {
    "duration": 69,
    "start_time": "2024-01-25T23:50:23.961Z"
   },
   {
    "duration": 32,
    "start_time": "2024-01-25T23:50:24.031Z"
   },
   {
    "duration": 18,
    "start_time": "2024-01-25T23:50:24.065Z"
   },
   {
    "duration": 23,
    "start_time": "2024-01-25T23:50:24.084Z"
   },
   {
    "duration": 1298,
    "start_time": "2024-01-25T23:50:24.108Z"
   },
   {
    "duration": 24309,
    "start_time": "2024-01-25T23:50:25.408Z"
   },
   {
    "duration": 322,
    "start_time": "2024-01-25T23:50:49.719Z"
   },
   {
    "duration": 254,
    "start_time": "2024-01-25T23:50:50.042Z"
   },
   {
    "duration": 9,
    "start_time": "2024-01-25T23:50:50.298Z"
   },
   {
    "duration": 33,
    "start_time": "2024-01-25T23:50:50.309Z"
   },
   {
    "duration": 49,
    "start_time": "2024-01-25T23:50:50.344Z"
   },
   {
    "duration": 2068,
    "start_time": "2024-01-25T23:50:50.395Z"
   },
   {
    "duration": 13,
    "start_time": "2024-01-25T23:50:52.465Z"
   },
   {
    "duration": 33,
    "start_time": "2024-01-25T23:50:52.479Z"
   },
   {
    "duration": 562,
    "start_time": "2024-01-25T23:50:52.513Z"
   },
   {
    "duration": 941,
    "start_time": "2024-01-25T23:50:53.077Z"
   },
   {
    "duration": 27,
    "start_time": "2024-01-25T23:50:54.020Z"
   },
   {
    "duration": 12,
    "start_time": "2024-01-25T23:50:54.048Z"
   },
   {
    "duration": 295,
    "start_time": "2024-01-25T23:50:54.061Z"
   },
   {
    "duration": 12,
    "start_time": "2024-01-25T23:50:54.358Z"
   },
   {
    "duration": 26,
    "start_time": "2024-01-25T23:50:54.371Z"
   },
   {
    "duration": 3,
    "start_time": "2024-01-25T23:50:54.398Z"
   },
   {
    "duration": 237,
    "start_time": "2024-01-25T23:50:54.403Z"
   },
   {
    "duration": 227,
    "start_time": "2024-01-25T23:50:54.644Z"
   },
   {
    "duration": 14,
    "start_time": "2024-01-25T23:50:54.872Z"
   },
   {
    "duration": 246,
    "start_time": "2024-01-25T23:50:54.891Z"
   },
   {
    "duration": 167,
    "start_time": "2024-01-25T23:50:55.138Z"
   },
   {
    "duration": 167,
    "start_time": "2024-01-25T23:50:55.306Z"
   },
   {
    "duration": 4823,
    "start_time": "2024-01-26T00:12:50.323Z"
   },
   {
    "duration": 2167,
    "start_time": "2024-01-26T00:12:55.149Z"
   },
   {
    "duration": 85,
    "start_time": "2024-01-26T00:12:57.318Z"
   },
   {
    "duration": 27,
    "start_time": "2024-01-26T00:12:57.404Z"
   },
   {
    "duration": 48,
    "start_time": "2024-01-26T00:12:57.432Z"
   },
   {
    "duration": 43,
    "start_time": "2024-01-26T00:12:57.481Z"
   },
   {
    "duration": 38,
    "start_time": "2024-01-26T00:12:57.526Z"
   },
   {
    "duration": 6,
    "start_time": "2024-01-26T00:12:57.566Z"
   },
   {
    "duration": 70,
    "start_time": "2024-01-26T00:12:57.573Z"
   },
   {
    "duration": 15,
    "start_time": "2024-01-26T00:12:57.646Z"
   },
   {
    "duration": 19,
    "start_time": "2024-01-26T00:12:57.662Z"
   },
   {
    "duration": 70,
    "start_time": "2024-01-26T00:12:57.682Z"
   },
   {
    "duration": 6,
    "start_time": "2024-01-26T00:12:57.753Z"
   },
   {
    "duration": 22,
    "start_time": "2024-01-26T00:12:57.760Z"
   },
   {
    "duration": 21,
    "start_time": "2024-01-26T00:12:57.783Z"
   },
   {
    "duration": 17,
    "start_time": "2024-01-26T00:12:57.805Z"
   },
   {
    "duration": 17,
    "start_time": "2024-01-26T00:12:57.823Z"
   },
   {
    "duration": 14,
    "start_time": "2024-01-26T00:12:57.841Z"
   },
   {
    "duration": 50,
    "start_time": "2024-01-26T00:12:57.856Z"
   },
   {
    "duration": 21,
    "start_time": "2024-01-26T00:12:57.908Z"
   },
   {
    "duration": 7,
    "start_time": "2024-01-26T00:12:57.930Z"
   },
   {
    "duration": 50,
    "start_time": "2024-01-26T00:12:57.938Z"
   },
   {
    "duration": 4,
    "start_time": "2024-01-26T00:12:57.989Z"
   },
   {
    "duration": 387,
    "start_time": "2024-01-26T00:12:57.994Z"
   },
   {
    "duration": 266,
    "start_time": "2024-01-26T00:12:58.383Z"
   },
   {
    "duration": 262,
    "start_time": "2024-01-26T00:12:58.650Z"
   },
   {
    "duration": 261,
    "start_time": "2024-01-26T00:12:58.914Z"
   },
   {
    "duration": 257,
    "start_time": "2024-01-26T00:12:59.179Z"
   },
   {
    "duration": 284,
    "start_time": "2024-01-26T00:12:59.437Z"
   },
   {
    "duration": 378,
    "start_time": "2024-01-26T00:12:59.723Z"
   },
   {
    "duration": 272,
    "start_time": "2024-01-26T00:13:00.102Z"
   },
   {
    "duration": 255,
    "start_time": "2024-01-26T00:13:00.376Z"
   },
   {
    "duration": 246,
    "start_time": "2024-01-26T00:13:00.632Z"
   },
   {
    "duration": 266,
    "start_time": "2024-01-26T00:13:00.879Z"
   },
   {
    "duration": 232,
    "start_time": "2024-01-26T00:13:01.147Z"
   },
   {
    "duration": 210,
    "start_time": "2024-01-26T00:13:01.381Z"
   },
   {
    "duration": 304,
    "start_time": "2024-01-26T00:13:01.593Z"
   },
   {
    "duration": 219,
    "start_time": "2024-01-26T00:13:01.898Z"
   },
   {
    "duration": 361,
    "start_time": "2024-01-26T00:13:02.119Z"
   },
   {
    "duration": 217,
    "start_time": "2024-01-26T00:13:02.482Z"
   },
   {
    "duration": 312,
    "start_time": "2024-01-26T00:13:02.700Z"
   },
   {
    "duration": 139,
    "start_time": "2024-01-26T00:13:03.014Z"
   },
   {
    "duration": 283,
    "start_time": "2024-01-26T00:13:03.154Z"
   },
   {
    "duration": 235,
    "start_time": "2024-01-26T00:13:03.438Z"
   },
   {
    "duration": 96,
    "start_time": "2024-01-26T00:13:03.675Z"
   },
   {
    "duration": 83,
    "start_time": "2024-01-26T00:13:03.772Z"
   },
   {
    "duration": 89,
    "start_time": "2024-01-26T00:13:03.857Z"
   },
   {
    "duration": 133,
    "start_time": "2024-01-26T00:13:03.947Z"
   },
   {
    "duration": 284,
    "start_time": "2024-01-26T00:13:04.081Z"
   },
   {
    "duration": 8,
    "start_time": "2024-01-26T00:13:04.366Z"
   },
   {
    "duration": 17,
    "start_time": "2024-01-26T00:13:04.376Z"
   },
   {
    "duration": 294,
    "start_time": "2024-01-26T00:13:04.394Z"
   },
   {
    "duration": 437,
    "start_time": "2024-01-26T00:13:04.690Z"
   },
   {
    "duration": 303,
    "start_time": "2024-01-26T00:13:05.128Z"
   },
   {
    "duration": 24,
    "start_time": "2024-01-26T00:13:05.433Z"
   },
   {
    "duration": 4,
    "start_time": "2024-01-26T00:13:05.459Z"
   },
   {
    "duration": 18,
    "start_time": "2024-01-26T00:13:05.465Z"
   },
   {
    "duration": 26,
    "start_time": "2024-01-26T00:13:05.484Z"
   },
   {
    "duration": 3,
    "start_time": "2024-01-26T00:13:05.512Z"
   },
   {
    "duration": 36,
    "start_time": "2024-01-26T00:13:05.516Z"
   },
   {
    "duration": 1269,
    "start_time": "2024-01-26T00:13:05.553Z"
   },
   {
    "duration": 24064,
    "start_time": "2024-01-26T00:13:06.824Z"
   },
   {
    "duration": 359,
    "start_time": "2024-01-26T00:13:30.890Z"
   },
   {
    "duration": 294,
    "start_time": "2024-01-26T00:13:31.251Z"
   },
   {
    "duration": 11,
    "start_time": "2024-01-26T00:13:31.546Z"
   },
   {
    "duration": 129,
    "start_time": "2024-01-26T00:13:31.559Z"
   },
   {
    "duration": 309,
    "start_time": "2024-01-26T00:13:31.690Z"
   },
   {
    "duration": 2976,
    "start_time": "2024-01-26T00:13:32.001Z"
   },
   {
    "duration": 13,
    "start_time": "2024-01-26T00:13:34.979Z"
   },
   {
    "duration": 899,
    "start_time": "2024-01-26T00:13:34.993Z"
   },
   {
    "duration": 693,
    "start_time": "2024-01-26T00:13:35.894Z"
   },
   {
    "duration": 965,
    "start_time": "2024-01-26T00:13:36.589Z"
   },
   {
    "duration": 15,
    "start_time": "2024-01-26T00:13:37.555Z"
   },
   {
    "duration": 27,
    "start_time": "2024-01-26T00:13:37.571Z"
   },
   {
    "duration": 314,
    "start_time": "2024-01-26T00:13:37.600Z"
   },
   {
    "duration": 13,
    "start_time": "2024-01-26T00:13:37.915Z"
   },
   {
    "duration": 36,
    "start_time": "2024-01-26T00:13:37.929Z"
   },
   {
    "duration": 5,
    "start_time": "2024-01-26T00:13:37.966Z"
   },
   {
    "duration": 278,
    "start_time": "2024-01-26T00:13:37.972Z"
   },
   {
    "duration": 229,
    "start_time": "2024-01-26T00:13:38.251Z"
   },
   {
    "duration": 13,
    "start_time": "2024-01-26T00:13:38.481Z"
   },
   {
    "duration": 240,
    "start_time": "2024-01-26T00:13:38.499Z"
   },
   {
    "duration": 160,
    "start_time": "2024-01-26T00:13:38.740Z"
   },
   {
    "duration": 4826,
    "start_time": "2024-01-26T00:14:40.820Z"
   },
   {
    "duration": 2141,
    "start_time": "2024-01-26T00:14:45.649Z"
   },
   {
    "duration": 84,
    "start_time": "2024-01-26T00:14:47.792Z"
   },
   {
    "duration": 25,
    "start_time": "2024-01-26T00:14:47.878Z"
   },
   {
    "duration": 14,
    "start_time": "2024-01-26T00:14:47.904Z"
   },
   {
    "duration": 17,
    "start_time": "2024-01-26T00:14:47.919Z"
   },
   {
    "duration": 19,
    "start_time": "2024-01-26T00:14:47.937Z"
   },
   {
    "duration": 12,
    "start_time": "2024-01-26T00:14:47.957Z"
   },
   {
    "duration": 27,
    "start_time": "2024-01-26T00:14:47.971Z"
   },
   {
    "duration": 42,
    "start_time": "2024-01-26T00:14:48.000Z"
   },
   {
    "duration": 19,
    "start_time": "2024-01-26T00:14:48.043Z"
   },
   {
    "duration": 28,
    "start_time": "2024-01-26T00:14:48.063Z"
   },
   {
    "duration": 8,
    "start_time": "2024-01-26T00:14:48.092Z"
   },
   {
    "duration": 4,
    "start_time": "2024-01-26T00:14:48.101Z"
   },
   {
    "duration": 7,
    "start_time": "2024-01-26T00:14:48.106Z"
   },
   {
    "duration": 12,
    "start_time": "2024-01-26T00:14:48.114Z"
   },
   {
    "duration": 11,
    "start_time": "2024-01-26T00:14:48.127Z"
   },
   {
    "duration": 13,
    "start_time": "2024-01-26T00:14:48.139Z"
   },
   {
    "duration": 20,
    "start_time": "2024-01-26T00:14:48.153Z"
   },
   {
    "duration": 13,
    "start_time": "2024-01-26T00:14:48.174Z"
   },
   {
    "duration": 5,
    "start_time": "2024-01-26T00:14:48.188Z"
   },
   {
    "duration": 47,
    "start_time": "2024-01-26T00:14:48.194Z"
   },
   {
    "duration": 4,
    "start_time": "2024-01-26T00:14:48.243Z"
   },
   {
    "duration": 393,
    "start_time": "2024-01-26T00:14:48.248Z"
   },
   {
    "duration": 272,
    "start_time": "2024-01-26T00:14:48.644Z"
   },
   {
    "duration": 266,
    "start_time": "2024-01-26T00:14:48.918Z"
   },
   {
    "duration": 264,
    "start_time": "2024-01-26T00:14:49.185Z"
   },
   {
    "duration": 262,
    "start_time": "2024-01-26T00:14:49.452Z"
   },
   {
    "duration": 265,
    "start_time": "2024-01-26T00:14:49.715Z"
   },
   {
    "duration": 383,
    "start_time": "2024-01-26T00:14:49.981Z"
   },
   {
    "duration": 274,
    "start_time": "2024-01-26T00:14:50.365Z"
   },
   {
    "duration": 247,
    "start_time": "2024-01-26T00:14:50.641Z"
   },
   {
    "duration": 247,
    "start_time": "2024-01-26T00:14:50.889Z"
   },
   {
    "duration": 264,
    "start_time": "2024-01-26T00:14:51.137Z"
   },
   {
    "duration": 254,
    "start_time": "2024-01-26T00:14:51.402Z"
   },
   {
    "duration": 221,
    "start_time": "2024-01-26T00:14:51.658Z"
   },
   {
    "duration": 287,
    "start_time": "2024-01-26T00:14:51.881Z"
   },
   {
    "duration": 224,
    "start_time": "2024-01-26T00:14:52.169Z"
   },
   {
    "duration": 355,
    "start_time": "2024-01-26T00:14:52.395Z"
   },
   {
    "duration": 225,
    "start_time": "2024-01-26T00:14:52.751Z"
   },
   {
    "duration": 240,
    "start_time": "2024-01-26T00:14:52.978Z"
   },
   {
    "duration": 144,
    "start_time": "2024-01-26T00:14:53.219Z"
   },
   {
    "duration": 151,
    "start_time": "2024-01-26T00:14:53.365Z"
   },
   {
    "duration": 242,
    "start_time": "2024-01-26T00:14:53.518Z"
   },
   {
    "duration": 104,
    "start_time": "2024-01-26T00:14:53.761Z"
   },
   {
    "duration": 90,
    "start_time": "2024-01-26T00:14:53.866Z"
   },
   {
    "duration": 76,
    "start_time": "2024-01-26T00:14:53.958Z"
   },
   {
    "duration": 138,
    "start_time": "2024-01-26T00:14:54.035Z"
   },
   {
    "duration": 293,
    "start_time": "2024-01-26T00:14:54.174Z"
   },
   {
    "duration": 8,
    "start_time": "2024-01-26T00:14:54.468Z"
   },
   {
    "duration": 18,
    "start_time": "2024-01-26T00:14:54.477Z"
   },
   {
    "duration": 281,
    "start_time": "2024-01-26T00:14:54.497Z"
   },
   {
    "duration": 455,
    "start_time": "2024-01-26T00:14:54.779Z"
   },
   {
    "duration": 305,
    "start_time": "2024-01-26T00:14:55.236Z"
   },
   {
    "duration": 16,
    "start_time": "2024-01-26T00:14:55.544Z"
   },
   {
    "duration": 18,
    "start_time": "2024-01-26T00:14:55.561Z"
   },
   {
    "duration": 37,
    "start_time": "2024-01-26T00:14:55.580Z"
   },
   {
    "duration": 58,
    "start_time": "2024-01-26T00:14:55.618Z"
   },
   {
    "duration": 4,
    "start_time": "2024-01-26T00:14:55.677Z"
   },
   {
    "duration": 37,
    "start_time": "2024-01-26T00:14:55.682Z"
   },
   {
    "duration": 1293,
    "start_time": "2024-01-26T00:14:55.721Z"
   },
   {
    "duration": 24271,
    "start_time": "2024-01-26T00:14:57.016Z"
   },
   {
    "duration": 333,
    "start_time": "2024-01-26T00:15:21.288Z"
   },
   {
    "duration": 270,
    "start_time": "2024-01-26T00:15:21.622Z"
   },
   {
    "duration": 10,
    "start_time": "2024-01-26T00:15:21.893Z"
   },
   {
    "duration": 12,
    "start_time": "2024-01-26T00:15:21.905Z"
   },
   {
    "duration": 14,
    "start_time": "2024-01-26T00:15:21.919Z"
   },
   {
    "duration": 2049,
    "start_time": "2024-01-26T00:15:21.935Z"
   },
   {
    "duration": 13,
    "start_time": "2024-01-26T00:15:23.986Z"
   },
   {
    "duration": 45,
    "start_time": "2024-01-26T00:15:24.000Z"
   },
   {
    "duration": 530,
    "start_time": "2024-01-26T00:15:24.046Z"
   },
   {
    "duration": 933,
    "start_time": "2024-01-26T00:15:24.577Z"
   },
   {
    "duration": 15,
    "start_time": "2024-01-26T00:15:25.512Z"
   },
   {
    "duration": 22,
    "start_time": "2024-01-26T00:15:25.528Z"
   },
   {
    "duration": 296,
    "start_time": "2024-01-26T00:15:25.551Z"
   },
   {
    "duration": 12,
    "start_time": "2024-01-26T00:15:25.849Z"
   },
   {
    "duration": 20,
    "start_time": "2024-01-26T00:15:25.862Z"
   },
   {
    "duration": 11,
    "start_time": "2024-01-26T00:15:25.884Z"
   },
   {
    "duration": 234,
    "start_time": "2024-01-26T00:15:25.896Z"
   },
   {
    "duration": 240,
    "start_time": "2024-01-26T00:15:26.132Z"
   },
   {
    "duration": 15,
    "start_time": "2024-01-26T00:15:26.373Z"
   },
   {
    "duration": 247,
    "start_time": "2024-01-26T00:15:26.393Z"
   },
   {
    "duration": 164,
    "start_time": "2024-01-26T00:15:26.644Z"
   }
  ],
  "celltoolbar": "Необработанный формат ячейки",
  "colab": {
   "provenance": []
  },
  "kernelspec": {
   "display_name": "Python 3 (ipykernel)",
   "language": "python",
   "name": "python3"
  },
  "language_info": {
   "codemirror_mode": {
    "name": "ipython",
    "version": 3
   },
   "file_extension": ".py",
   "mimetype": "text/x-python",
   "name": "python",
   "nbconvert_exporter": "python",
   "pygments_lexer": "ipython3",
   "version": "3.11.5"
  },
  "toc": {
   "base_numbering": 1,
   "nav_menu": {
    "height": "135.99px",
    "width": "206.997px"
   },
   "number_sections": false,
   "sideBar": true,
   "skip_h1_title": true,
   "title_cell": "Table of Contents",
   "title_sidebar": "Contents",
   "toc_cell": false,
   "toc_position": {
    "height": "calc(100% - 180px)",
    "left": "10px",
    "top": "150px",
    "width": "368.652px"
   },
   "toc_section_display": true,
   "toc_window_display": false
  }
 },
 "nbformat": 4,
 "nbformat_minor": 1
}
